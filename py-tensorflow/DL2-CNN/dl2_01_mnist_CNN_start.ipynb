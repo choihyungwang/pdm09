{
  "nbformat": 4,
  "nbformat_minor": 0,
  "metadata": {
    "accelerator": "GPU",
    "colab": {
      "name": "dl2-01-mnist-CNN-start.ipynb",
      "provenance": [],
      "collapsed_sections": [],
      "include_colab_link": true
    },
    "interpreter": {
      "hash": "3834ce636a3ba6c6c2bd8b9b527c48eede78c367f849f6cce666ea7f1d26e2fb"
    },
    "kernelspec": {
      "display_name": "Python 3.8.5 64-bit ('base': conda)",
      "name": "python3"
    },
    "language_info": {
      "codemirror_mode": {
        "name": "ipython",
        "version": 3
      },
      "file_extension": ".py",
      "mimetype": "text/x-python",
      "name": "python",
      "nbconvert_exporter": "python",
      "pygments_lexer": "ipython3",
      "version": "3.8.5"
    }
  },
  "cells": [
    {
      "cell_type": "markdown",
      "metadata": {
        "id": "view-in-github",
        "colab_type": "text"
      },
      "source": [
        "<a href=\"https://colab.research.google.com/github/choihyungwang/pdm09/blob/main/py-tensorflow/DL2-CNN/dl2_01_mnist_CNN_start.ipynb\" target=\"_parent\"><img src=\"https://colab.research.google.com/assets/colab-badge.svg\" alt=\"Open In Colab\"/></a>"
      ]
    },
    {
      "cell_type": "markdown",
      "metadata": {
        "id": "rswfCVLZ-QW0"
      },
      "source": [
        "# **CNN model of mnist dataset**\n",
        "- Conv2D + FCN\n",
        "    * Conv2D : 2차원 합성곱 필터링 + 풀링(Pooling)\n",
        "    - > 2차원 필터로 영상을 대표하는 특징을 추출\n",
        "    * FCN : 1차원 완전연결신경망\n",
        "    - > Conv2D에서 추출된 대표 특징들을 이용하여 FCN으로 최종 학습 완료\n",
        "\n",
        "***\n",
        "\n",
        "![mnist_NN_2_layers](https://img1.daumcdn.net/thumb/R1280x0/?scode=mtistory2&fname=https%3A%2F%2Fblog.kakaocdn.net%2Fdn%2FdJp5Z6%2FbtqAPebnF3x%2FQCe5vVcskhmxe964bGz4iK%2Fimg.png)\n",
        "\n",
        "(source: https://img1.daumcdn.net/thumb/R1280x0/?scode=mtistory2&fname=https%3A%2F%2Fblog.kakaocdn.net%2Fdn%2FdJp5Z6%2FbtqAPebnF3x%2FQCe5vVcskhmxe964bGz4iK%2Fimg.png)"
      ]
    },
    {
      "cell_type": "code",
      "metadata": {
        "id": "8GgGzPXPVyfa",
        "colab": {
          "base_uri": "https://localhost:8080/"
        },
        "outputId": "774e062d-a692-4593-baa4-4e59b86c3bb8"
      },
      "source": [
        "import numpy as np\n",
        "import tensorflow as tf\n",
        "from tensorflow import keras\n",
        "import pandas as pd\n",
        "import matplotlib.pyplot as plt\n",
        "# %matplotlib inline\n",
        "\n",
        "print(tf.__version__)"
      ],
      "execution_count": 1,
      "outputs": [
        {
          "output_type": "stream",
          "name": "stdout",
          "text": [
            "2.7.0\n"
          ]
        }
      ]
    },
    {
      "cell_type": "markdown",
      "metadata": {
        "id": "-0IOOUM14Jk1"
      },
      "source": [
        "## **데이터 로딩, 정규화**"
      ]
    },
    {
      "cell_type": "code",
      "metadata": {
        "id": "N1ogJ7I64Fz-",
        "colab": {
          "base_uri": "https://localhost:8080/"
        },
        "outputId": "5b544ca1-b7ae-4ac4-96cc-374cdf692fd7"
      },
      "source": [
        "from keras.datasets import mnist\n",
        "\n",
        "(X_train0, y_train0), (X_test0, y_test0) = mnist.load_data()\n",
        "\n",
        "# Reshape\n",
        "X_train = X_train0.reshape(60000,28,28,1)\n",
        "X_test = X_test0.reshape(10000,28,28,1)\n",
        "\n",
        "# Normalization\n",
        "X_train, X_test = X_train/255.0, X_test/255.0 # 정규화\n",
        "\n",
        "print(\"X_train={0}\".format(X_train.shape))\n",
        "print(\"y_train={0}\".format(y_train0.shape)) \n",
        "print(\"X_test={0}\".format(X_test.shape))\n",
        "print(\"y_test={0}\".format(y_test0.shape))"
      ],
      "execution_count": 2,
      "outputs": [
        {
          "output_type": "stream",
          "name": "stdout",
          "text": [
            "Downloading data from https://storage.googleapis.com/tensorflow/tf-keras-datasets/mnist.npz\n",
            "11493376/11490434 [==============================] - 0s 0us/step\n",
            "11501568/11490434 [==============================] - 0s 0us/step\n",
            "X_train=(60000, 28, 28, 1)\n",
            "y_train=(60000,)\n",
            "X_test=(10000, 28, 28, 1)\n",
            "y_test=(10000,)\n"
          ]
        }
      ]
    },
    {
      "cell_type": "code",
      "metadata": {
        "id": "F46-QZqJHiQ6",
        "colab": {
          "base_uri": "https://localhost:8080/"
        },
        "outputId": "4d72af7e-c1ce-4884-fc2d-b8f3aab7f0cc"
      },
      "source": [
        "# One-Hot-Encoding\n",
        "# Use function to_categorical() to do One-Hot-Encoding\n",
        "# tf.keras.utils.to_categorical\n",
        "from tensorflow.keras.utils import to_categorical\n",
        "\n",
        "y_train = to_categorical(y_train0, 10)\n",
        "y_test = to_categorical(y_test0, 10)\n",
        "y_train.shape,y_test.shape"
      ],
      "execution_count": 11,
      "outputs": [
        {
          "output_type": "execute_result",
          "data": {
            "text/plain": [
              "((60000, 10), (10000, 10))"
            ]
          },
          "metadata": {},
          "execution_count": 11
        }
      ]
    },
    {
      "cell_type": "markdown",
      "metadata": {
        "id": "5z7SozStigmF"
      },
      "source": [
        "### Display numbers\n",
        "- 10 representative numbers"
      ]
    },
    {
      "cell_type": "code",
      "metadata": {
        "id": "IK7XT3XoirSL",
        "colab": {
          "base_uri": "https://localhost:8080/",
          "height": 509
        },
        "outputId": "24353d09-19d4-4c87-896b-d78f19b60b2e"
      },
      "source": [
        "class_names = [\"0\",\"1\",\"2\",\"3\",\"4\",\"5\",\"6\",\"7\",\"8\",\"9\"]\n",
        "fig = plt.figure(figsize=(10,6))\n",
        "for i in range(10):\n",
        "    plt.subplot(2, 5, i+1)\n",
        "    num0_9 = X_train0[y_train0 == i]\n",
        "    print(num0_9.shape)\n",
        "    plt.imshow(num0_9[0]) #, cmap='gray') #, interpolation='none')\n",
        "    plt.title(\"Class - %d\" % (i))\n",
        "    plt.xticks([])\n",
        "    plt.yticks([])\n",
        "\n",
        "\n"
      ],
      "execution_count": 3,
      "outputs": [
        {
          "output_type": "stream",
          "name": "stdout",
          "text": [
            "(5923, 28, 28)\n",
            "(6742, 28, 28)\n",
            "(5958, 28, 28)\n",
            "(6131, 28, 28)\n",
            "(5842, 28, 28)\n",
            "(5421, 28, 28)\n",
            "(5918, 28, 28)\n",
            "(6265, 28, 28)\n",
            "(5851, 28, 28)\n",
            "(5949, 28, 28)\n"
          ]
        },
        {
          "output_type": "display_data",
          "data": {
            "image/png": "[encoded data removed]",
            "text/plain": [
              "<Figure size 720x432 with 10 Axes>"
            ]
          },
          "metadata": {}
        }
      ]
    },
    {
      "cell_type": "markdown",
      "metadata": {
        "id": "55DYVfFXi0WR"
      },
      "source": [
        "# Design CNN"
      ]
    },
    {
      "cell_type": "markdown",
      "metadata": {
        "id": "iPcLIcUCcsiG"
      },
      "source": [
        "### import Conv2D, MaxPool2D"
      ]
    },
    {
      "cell_type": "code",
      "metadata": {
        "id": "NzqMC4Xtc3ZE"
      },
      "source": [
        "from keras.layers import Conv2D, MaxPool2D, Flatten"
      ],
      "execution_count": 4,
      "outputs": []
    },
    {
      "cell_type": "markdown",
      "metadata": {
        "id": "pkaGYiPY4L4J"
      },
      "source": [
        "## **CNN1 + FCN2**\n",
        "- CNN1: Conv2D + MaxPooling2D\n",
        "- FCN2: Dense(128) + Output(10) "
      ]
    },
    {
      "cell_type": "code",
      "metadata": {
        "id": "geFXhA13rRTr"
      },
      "source": [
        "# Random number seed\n",
        "np.random.seed(1234)\n",
        "tf.random.set_seed(1234)"
      ],
      "execution_count": 5,
      "outputs": []
    },
    {
      "cell_type": "code",
      "metadata": {
        "id": "-LL0E4UX4Nj-"
      },
      "source": [
        "c1f2 = keras.models.Sequential([ \n",
        "    Conv2D(input_shape=(28,28,1), filters= 32, \n",
        "            kernel_size=(3,3),strides=(1,1),padding='same',activation='relu'),\n",
        "    MaxPool2D(pool_size=(2,2), strides=(2,2)),\n",
        "    Flatten(), \n",
        "    keras.layers.Dense(128, activation='relu'),  \n",
        "    keras.layers.Dropout(0.25), \n",
        "    keras.layers.Dense(10, activation='softmax')\n",
        "])\n",
        "\n",
        "c1f2.compile(optimizer='adam',\n",
        "              loss='categorical_crossentropy',\n",
        "              metrics=['accuracy']) "
      ],
      "execution_count": 6,
      "outputs": []
    },
    {
      "cell_type": "code",
      "metadata": {
        "id": "3r9oCDEN4UGu",
        "colab": {
          "base_uri": "https://localhost:8080/"
        },
        "outputId": "f50754d8-b09d-43b7-f6c5-78f19f4ccaa7"
      },
      "source": [
        "c1f2.summary()"
      ],
      "execution_count": 7,
      "outputs": [
        {
          "output_type": "stream",
          "name": "stdout",
          "text": [
            "Model: \"sequential\"\n",
            "_________________________________________________________________\n",
            " Layer (type)                Output Shape              Param #   \n",
            "=================================================================\n",
            " conv2d (Conv2D)             (None, 28, 28, 32)        320       \n",
            "                                                                 \n",
            " max_pooling2d (MaxPooling2D  (None, 14, 14, 32)       0         \n",
            " )                                                               \n",
            "                                                                 \n",
            " flatten (Flatten)           (None, 6272)              0         \n",
            "                                                                 \n",
            " dense (Dense)               (None, 128)               802944    \n",
            "                                                                 \n",
            " dropout (Dropout)           (None, 128)               0         \n",
            "                                                                 \n",
            " dense_1 (Dense)             (None, 10)                1290      \n",
            "                                                                 \n",
            "=================================================================\n",
            "Total params: 804,554\n",
            "Trainable params: 804,554\n",
            "Non-trainable params: 0\n",
            "_________________________________________________________________\n"
          ]
        }
      ]
    },
    {
      "cell_type": "code",
      "metadata": {
        "colab": {
          "base_uri": "https://localhost:8080/"
        },
        "id": "uRSO6FqTI1az",
        "outputId": "87903e8a-bca0-4ef3-e3c5-2797a28435e3"
      },
      "source": [
        "3*3*32+32"
      ],
      "execution_count": 8,
      "outputs": [
        {
          "output_type": "execute_result",
          "data": {
            "text/plain": [
              "320"
            ]
          },
          "metadata": {},
          "execution_count": 8
        }
      ]
    },
    {
      "cell_type": "code",
      "metadata": {
        "id": "adOv9IzurRTt",
        "colab": {
          "base_uri": "https://localhost:8080/",
          "height": 754
        },
        "outputId": "f2e86dbc-3a55-4189-95a8-7dfcc0e6a9fe"
      },
      "source": [
        "# Plot model\n",
        "from tensorflow.keras.utils import plot_model\n",
        "plot_model(c1f2, show_shapes=True, show_layer_names=True, to_file='model_c1f2.png')"
      ],
      "execution_count": 9,
      "outputs": [
        {
          "output_type": "execute_result",
          "data": {
            "image/png": "[encoded data removed]",
            "text/plain": [
              "<IPython.core.display.Image object>"
            ]
          },
          "metadata": {},
          "execution_count": 9
        }
      ]
    },
    {
      "cell_type": "code",
      "metadata": {
        "id": "E5P-W0384WCv",
        "colab": {
          "base_uri": "https://localhost:8080/"
        },
        "outputId": "38219f08-7301-4fce-9dcf-8fa8a2aee422"
      },
      "source": [
        "c1f2.fit(X_train, y_train, epochs = 20,  batch_size = 100, \n",
        "            validation_data = (X_test, y_test))"
      ],
      "execution_count": 12,
      "outputs": [
        {
          "output_type": "stream",
          "name": "stdout",
          "text": [
            "Epoch 1/20\n",
            "600/600 [==============================] - 14s 8ms/step - loss: 0.2419 - accuracy: 0.9288 - val_loss: 0.0771 - val_accuracy: 0.9755\n",
            "Epoch 2/20\n",
            "600/600 [==============================] - 4s 7ms/step - loss: 0.0818 - accuracy: 0.9763 - val_loss: 0.0564 - val_accuracy: 0.9811\n",
            "Epoch 3/20\n",
            "600/600 [==============================] - 4s 7ms/step - loss: 0.0579 - accuracy: 0.9826 - val_loss: 0.0452 - val_accuracy: 0.9844\n",
            "Epoch 4/20\n",
            "600/600 [==============================] - 4s 7ms/step - loss: 0.0458 - accuracy: 0.9862 - val_loss: 0.0384 - val_accuracy: 0.9866\n",
            "Epoch 5/20\n",
            "600/600 [==============================] - 5s 8ms/step - loss: 0.0370 - accuracy: 0.9887 - val_loss: 0.0419 - val_accuracy: 0.9863\n",
            "Epoch 6/20\n",
            "600/600 [==============================] - 4s 7ms/step - loss: 0.0299 - accuracy: 0.9905 - val_loss: 0.0382 - val_accuracy: 0.9871\n",
            "Epoch 7/20\n",
            "600/600 [==============================] - 5s 8ms/step - loss: 0.0260 - accuracy: 0.9920 - val_loss: 0.0349 - val_accuracy: 0.9878\n",
            "Epoch 8/20\n",
            "600/600 [==============================] - 4s 7ms/step - loss: 0.0224 - accuracy: 0.9926 - val_loss: 0.0388 - val_accuracy: 0.9872\n",
            "Epoch 9/20\n",
            "600/600 [==============================] - 4s 7ms/step - loss: 0.0189 - accuracy: 0.9935 - val_loss: 0.0390 - val_accuracy: 0.9885\n",
            "Epoch 10/20\n",
            "600/600 [==============================] - 5s 8ms/step - loss: 0.0156 - accuracy: 0.9948 - val_loss: 0.0407 - val_accuracy: 0.9873\n",
            "Epoch 11/20\n",
            "600/600 [==============================] - 5s 8ms/step - loss: 0.0152 - accuracy: 0.9948 - val_loss: 0.0355 - val_accuracy: 0.9895\n",
            "Epoch 12/20\n",
            "600/600 [==============================] - 4s 7ms/step - loss: 0.0128 - accuracy: 0.9954 - val_loss: 0.0364 - val_accuracy: 0.9894\n",
            "Epoch 13/20\n",
            "600/600 [==============================] - 4s 7ms/step - loss: 0.0122 - accuracy: 0.9959 - val_loss: 0.0366 - val_accuracy: 0.9886\n",
            "Epoch 14/20\n",
            "600/600 [==============================] - 4s 7ms/step - loss: 0.0090 - accuracy: 0.9970 - val_loss: 0.0434 - val_accuracy: 0.9881\n",
            "Epoch 15/20\n",
            "600/600 [==============================] - 4s 7ms/step - loss: 0.0094 - accuracy: 0.9971 - val_loss: 0.0423 - val_accuracy: 0.9887\n",
            "Epoch 16/20\n",
            "600/600 [==============================] - 5s 8ms/step - loss: 0.0092 - accuracy: 0.9968 - val_loss: 0.0413 - val_accuracy: 0.9886\n",
            "Epoch 17/20\n",
            "600/600 [==============================] - 5s 8ms/step - loss: 0.0082 - accuracy: 0.9972 - val_loss: 0.0442 - val_accuracy: 0.9886\n",
            "Epoch 18/20\n",
            "600/600 [==============================] - 4s 7ms/step - loss: 0.0077 - accuracy: 0.9972 - val_loss: 0.0441 - val_accuracy: 0.9878\n",
            "Epoch 19/20\n",
            "600/600 [==============================] - 4s 7ms/step - loss: 0.0062 - accuracy: 0.9980 - val_loss: 0.0455 - val_accuracy: 0.9886\n",
            "Epoch 20/20\n",
            "600/600 [==============================] - 4s 7ms/step - loss: 0.0071 - accuracy: 0.9976 - val_loss: 0.0406 - val_accuracy: 0.9894\n"
          ]
        },
        {
          "output_type": "execute_result",
          "data": {
            "text/plain": [
              "<keras.callbacks.History at 0x7f24901fa410>"
            ]
          },
          "metadata": {},
          "execution_count": 12
        }
      ]
    },
    {
      "cell_type": "code",
      "metadata": {
        "id": "JTLIG-8Y4guU",
        "colab": {
          "base_uri": "https://localhost:8080/"
        },
        "outputId": "7b485ded-a93e-4ac6-810a-9433dcbfa897"
      },
      "source": [
        "c1f2.evaluate(X_test, y_test, batch_size = 100)"
      ],
      "execution_count": 13,
      "outputs": [
        {
          "output_type": "stream",
          "name": "stdout",
          "text": [
            "100/100 [==============================] - 0s 4ms/step - loss: 0.0406 - accuracy: 0.9894\n"
          ]
        },
        {
          "output_type": "execute_result",
          "data": {
            "text/plain": [
              "[0.04055704548954964, 0.9894000291824341]"
            ]
          },
          "metadata": {},
          "execution_count": 13
        }
      ]
    },
    {
      "cell_type": "markdown",
      "metadata": {
        "id": "eFI1qi7DhNfL"
      },
      "source": [
        "---"
      ]
    },
    {
      "cell_type": "markdown",
      "metadata": {
        "id": "zYsilPV-d68h"
      },
      "source": [
        "## **CNN1 + FCN3**"
      ]
    },
    {
      "cell_type": "code",
      "metadata": {
        "id": "8XsCNJuVrRTu"
      },
      "source": [
        "# Random number seed\n",
        "np.random.seed(1234)\n",
        "tf.random.set_seed(1234)"
      ],
      "execution_count": 14,
      "outputs": []
    },
    {
      "cell_type": "code",
      "metadata": {
        "id": "ru3C9Fdb5MJ9"
      },
      "source": [
        "c1f3 = tf.keras.models.Sequential([\n",
        "     Conv2D(input_shape=(28,28,1), filters= 32, \n",
        "            kernel_size=(3,3),strides=(1,1),padding='same',activation='relu'),\n",
        "    MaxPool2D(pool_size=(2,2), strides=(2,2)),\n",
        "    Flatten(),                                 \n",
        "    tf.keras.layers.Dense(256, activation='relu'),  \n",
        "    tf.keras.layers.Dropout(0.25),\n",
        "    tf.keras.layers.Dense(128, activation='relu'),  \n",
        "    tf.keras.layers.Dropout(0.25), \n",
        "    tf.keras.layers.Dense(10, activation='softmax')\n",
        "])\n",
        "\n",
        "c1f3.compile(optimizer='adam',\n",
        "              loss='categorical_crossentropy',\n",
        "              metrics=['accuracy']) "
      ],
      "execution_count": 15,
      "outputs": []
    },
    {
      "cell_type": "code",
      "metadata": {
        "id": "WUKcSnnc5XcD",
        "colab": {
          "base_uri": "https://localhost:8080/"
        },
        "outputId": "60ef79a3-91f9-4887-eb06-aba6c6c3b0e6"
      },
      "source": [
        "c1f3.summary()"
      ],
      "execution_count": 16,
      "outputs": [
        {
          "output_type": "stream",
          "name": "stdout",
          "text": [
            "Model: \"sequential_1\"\n",
            "_________________________________________________________________\n",
            " Layer (type)                Output Shape              Param #   \n",
            "=================================================================\n",
            " conv2d_1 (Conv2D)           (None, 28, 28, 32)        320       \n",
            "                                                                 \n",
            " max_pooling2d_1 (MaxPooling  (None, 14, 14, 32)       0         \n",
            " 2D)                                                             \n",
            "                                                                 \n",
            " flatten_1 (Flatten)         (None, 6272)              0         \n",
            "                                                                 \n",
            " dense_2 (Dense)             (None, 256)               1605888   \n",
            "                                                                 \n",
            " dropout_1 (Dropout)         (None, 256)               0         \n",
            "                                                                 \n",
            " dense_3 (Dense)             (None, 128)               32896     \n",
            "                                                                 \n",
            " dropout_2 (Dropout)         (None, 128)               0         \n",
            "                                                                 \n",
            " dense_4 (Dense)             (None, 10)                1290      \n",
            "                                                                 \n",
            "=================================================================\n",
            "Total params: 1,640,394\n",
            "Trainable params: 1,640,394\n",
            "Non-trainable params: 0\n",
            "_________________________________________________________________\n"
          ]
        }
      ]
    },
    {
      "cell_type": "code",
      "metadata": {
        "id": "WHnUbwan5Zq7",
        "colab": {
          "base_uri": "https://localhost:8080/"
        },
        "outputId": "6dfab380-e468-40bb-c166-1d48f1f23311"
      },
      "source": [
        "c1f3.fit(X_train,y_train, epochs= 20 , batch_size = 100)"
      ],
      "execution_count": 17,
      "outputs": [
        {
          "output_type": "stream",
          "name": "stdout",
          "text": [
            "Epoch 1/20\n",
            "600/600 [==============================] - 5s 8ms/step - loss: 0.2418 - accuracy: 0.9265\n",
            "Epoch 2/20\n",
            "600/600 [==============================] - 5s 8ms/step - loss: 0.0743 - accuracy: 0.9774\n",
            "Epoch 3/20\n",
            "600/600 [==============================] - 5s 8ms/step - loss: 0.0523 - accuracy: 0.9841\n",
            "Epoch 4/20\n",
            "600/600 [==============================] - 5s 8ms/step - loss: 0.0376 - accuracy: 0.9884\n",
            "Epoch 5/20\n",
            "600/600 [==============================] - 5s 8ms/step - loss: 0.0303 - accuracy: 0.9904\n",
            "Epoch 6/20\n",
            "600/600 [==============================] - 5s 8ms/step - loss: 0.0240 - accuracy: 0.9923\n",
            "Epoch 7/20\n",
            "600/600 [==============================] - 5s 8ms/step - loss: 0.0198 - accuracy: 0.9937\n",
            "Epoch 8/20\n",
            "600/600 [==============================] - 5s 8ms/step - loss: 0.0169 - accuracy: 0.9944\n",
            "Epoch 9/20\n",
            "600/600 [==============================] - 5s 8ms/step - loss: 0.0162 - accuracy: 0.9946\n",
            "Epoch 10/20\n",
            "600/600 [==============================] - 5s 8ms/step - loss: 0.0123 - accuracy: 0.9958\n",
            "Epoch 11/20\n",
            "600/600 [==============================] - 5s 8ms/step - loss: 0.0112 - accuracy: 0.9963\n",
            "Epoch 12/20\n",
            "600/600 [==============================] - 5s 8ms/step - loss: 0.0115 - accuracy: 0.9963\n",
            "Epoch 13/20\n",
            "600/600 [==============================] - 5s 8ms/step - loss: 0.0096 - accuracy: 0.9967\n",
            "Epoch 14/20\n",
            "600/600 [==============================] - 5s 8ms/step - loss: 0.0077 - accuracy: 0.9974\n",
            "Epoch 15/20\n",
            "600/600 [==============================] - 5s 8ms/step - loss: 0.0079 - accuracy: 0.9973\n",
            "Epoch 16/20\n",
            "600/600 [==============================] - 5s 8ms/step - loss: 0.0088 - accuracy: 0.9968\n",
            "Epoch 17/20\n",
            "600/600 [==============================] - 5s 8ms/step - loss: 0.0068 - accuracy: 0.9979\n",
            "Epoch 18/20\n",
            "600/600 [==============================] - 5s 8ms/step - loss: 0.0086 - accuracy: 0.9973\n",
            "Epoch 19/20\n",
            "600/600 [==============================] - 5s 8ms/step - loss: 0.0078 - accuracy: 0.9973\n",
            "Epoch 20/20\n",
            "600/600 [==============================] - 5s 8ms/step - loss: 0.0062 - accuracy: 0.9977\n"
          ]
        },
        {
          "output_type": "execute_result",
          "data": {
            "text/plain": [
              "<keras.callbacks.History at 0x7f241b365110>"
            ]
          },
          "metadata": {},
          "execution_count": 17
        }
      ]
    },
    {
      "cell_type": "code",
      "metadata": {
        "id": "kTaGJMFG7FbH",
        "colab": {
          "base_uri": "https://localhost:8080/"
        },
        "outputId": "9a9e509b-ebc2-4972-c9f4-17e4f30ab89b"
      },
      "source": [
        "c1f3.evaluate(X_test, y_test, batch_size= 100)"
      ],
      "execution_count": 18,
      "outputs": [
        {
          "output_type": "stream",
          "name": "stdout",
          "text": [
            "100/100 [==============================] - 1s 4ms/step - loss: 0.0475 - accuracy: 0.9897\n"
          ]
        },
        {
          "output_type": "execute_result",
          "data": {
            "text/plain": [
              "[0.04749229922890663, 0.9897000193595886]"
            ]
          },
          "metadata": {},
          "execution_count": 18
        }
      ]
    },
    {
      "cell_type": "markdown",
      "metadata": {
        "id": "7Z6DJJUCei-s"
      },
      "source": [
        "## **CNN2 + FCN2**"
      ]
    },
    {
      "cell_type": "code",
      "metadata": {
        "id": "t1Xx45zNrRTv"
      },
      "source": [
        "# Random number seed\n",
        "np.random.seed(1234)\n",
        "tf.random.set_seed(1234)"
      ],
      "execution_count": 42,
      "outputs": []
    },
    {
      "cell_type": "code",
      "metadata": {
        "id": "pV3NFglM7P65"
      },
      "source": [
        "c2f2 = tf.keras.models.Sequential([ \n",
        "    Conv2D(input_shape=(28,28,1), filters= 64, \n",
        "            kernel_size=(3,3),strides=(1,1),padding='same',activation='relu'),\n",
        "    MaxPool2D(pool_size=(2,2), strides=(2,2)),        \n",
        "    Conv2D(filters= 32, \n",
        "            kernel_size=(3,3),strides=(1,1),padding='same',activation='relu'),        \n",
        "    MaxPool2D(pool_size=(2,2), strides=(2,2)),\n",
        "    Flatten(),       \n",
        "    tf.keras.layers.Dense(128, activation='relu'),  \n",
        "    tf.keras.layers.Dropout(0.25),\n",
        "    tf.keras.layers.Dense(10, activation='softmax')\n",
        "])\n",
        "\n",
        "c2f2.compile(optimizer='adam',\n",
        "              loss='categorical_crossentropy',\n",
        "              metrics=['accuracy']) "
      ],
      "execution_count": 37,
      "outputs": []
    },
    {
      "cell_type": "code",
      "metadata": {
        "id": "OGtCiKy57YkR",
        "colab": {
          "base_uri": "https://localhost:8080/"
        },
        "outputId": "cc0f0fc1-3b2f-4ec2-a423-8ca1cb62d74b"
      },
      "source": [
        "c2f2.summary()"
      ],
      "execution_count": 21,
      "outputs": [
        {
          "output_type": "stream",
          "name": "stdout",
          "text": [
            "Model: \"sequential_2\"\n",
            "_________________________________________________________________\n",
            " Layer (type)                Output Shape              Param #   \n",
            "=================================================================\n",
            " conv2d_2 (Conv2D)           (None, 28, 28, 64)        640       \n",
            "                                                                 \n",
            " max_pooling2d_2 (MaxPooling  (None, 14, 14, 64)       0         \n",
            " 2D)                                                             \n",
            "                                                                 \n",
            " conv2d_3 (Conv2D)           (None, 14, 14, 32)        18464     \n",
            "                                                                 \n",
            " max_pooling2d_3 (MaxPooling  (None, 7, 7, 32)         0         \n",
            " 2D)                                                             \n",
            "                                                                 \n",
            " flatten_2 (Flatten)         (None, 1568)              0         \n",
            "                                                                 \n",
            " dense_5 (Dense)             (None, 128)               200832    \n",
            "                                                                 \n",
            " dropout_3 (Dropout)         (None, 128)               0         \n",
            "                                                                 \n",
            " dense_6 (Dense)             (None, 10)                1290      \n",
            "                                                                 \n",
            "=================================================================\n",
            "Total params: 221,226\n",
            "Trainable params: 221,226\n",
            "Non-trainable params: 0\n",
            "_________________________________________________________________\n"
          ]
        }
      ]
    },
    {
      "cell_type": "code",
      "metadata": {
        "id": "94GWWQt-7eRS",
        "colab": {
          "base_uri": "https://localhost:8080/"
        },
        "outputId": "45ec1002-d92b-40f5-9f05-622e536c1d65"
      },
      "source": [
        "c2f2.fit(X_train, y_train, epochs = 20 , batch_size = 100)"
      ],
      "execution_count": 22,
      "outputs": [
        {
          "output_type": "stream",
          "name": "stdout",
          "text": [
            "Epoch 1/20\n",
            "600/600 [==============================] - 6s 9ms/step - loss: 0.2209 - accuracy: 0.9330\n",
            "Epoch 2/20\n",
            "600/600 [==============================] - 5s 8ms/step - loss: 0.0662 - accuracy: 0.9801\n",
            "Epoch 3/20\n",
            "600/600 [==============================] - 5s 8ms/step - loss: 0.0466 - accuracy: 0.9854\n",
            "Epoch 4/20\n",
            "600/600 [==============================] - 5s 8ms/step - loss: 0.0367 - accuracy: 0.9884\n",
            "Epoch 5/20\n",
            "600/600 [==============================] - 5s 8ms/step - loss: 0.0296 - accuracy: 0.9907\n",
            "Epoch 6/20\n",
            "600/600 [==============================] - 5s 8ms/step - loss: 0.0267 - accuracy: 0.9916\n",
            "Epoch 7/20\n",
            "600/600 [==============================] - 5s 8ms/step - loss: 0.0226 - accuracy: 0.9928\n",
            "Epoch 8/20\n",
            "600/600 [==============================] - 5s 8ms/step - loss: 0.0173 - accuracy: 0.9944\n",
            "Epoch 9/20\n",
            "600/600 [==============================] - 5s 8ms/step - loss: 0.0181 - accuracy: 0.9937\n",
            "Epoch 10/20\n",
            "600/600 [==============================] - 5s 8ms/step - loss: 0.0146 - accuracy: 0.9948\n",
            "Epoch 11/20\n",
            "600/600 [==============================] - 5s 8ms/step - loss: 0.0137 - accuracy: 0.9951\n",
            "Epoch 12/20\n",
            "600/600 [==============================] - 5s 8ms/step - loss: 0.0118 - accuracy: 0.9962\n",
            "Epoch 13/20\n",
            "600/600 [==============================] - 5s 8ms/step - loss: 0.0111 - accuracy: 0.9963\n",
            "Epoch 14/20\n",
            "600/600 [==============================] - 5s 8ms/step - loss: 0.0102 - accuracy: 0.9964\n",
            "Epoch 15/20\n",
            "600/600 [==============================] - 5s 8ms/step - loss: 0.0098 - accuracy: 0.9966\n",
            "Epoch 16/20\n",
            "600/600 [==============================] - 5s 8ms/step - loss: 0.0078 - accuracy: 0.9975\n",
            "Epoch 17/20\n",
            "600/600 [==============================] - 5s 8ms/step - loss: 0.0083 - accuracy: 0.9972\n",
            "Epoch 18/20\n",
            "600/600 [==============================] - 5s 8ms/step - loss: 0.0074 - accuracy: 0.9975\n",
            "Epoch 19/20\n",
            "600/600 [==============================] - 5s 8ms/step - loss: 0.0073 - accuracy: 0.9976\n",
            "Epoch 20/20\n",
            "600/600 [==============================] - 5s 8ms/step - loss: 0.0083 - accuracy: 0.9969\n"
          ]
        },
        {
          "output_type": "execute_result",
          "data": {
            "text/plain": [
              "<keras.callbacks.History at 0x7f2509406810>"
            ]
          },
          "metadata": {},
          "execution_count": 22
        }
      ]
    },
    {
      "cell_type": "code",
      "metadata": {
        "id": "0-7is2U49A6Z",
        "colab": {
          "base_uri": "https://localhost:8080/"
        },
        "outputId": "2e14f56c-1db0-4f73-82b5-f9924c5d08ab"
      },
      "source": [
        "c2f2.evaluate(X_test, y_test, batch_size = 100)"
      ],
      "execution_count": 23,
      "outputs": [
        {
          "output_type": "stream",
          "name": "stdout",
          "text": [
            "100/100 [==============================] - 1s 5ms/step - loss: 0.0260 - accuracy: 0.9930\n"
          ]
        },
        {
          "output_type": "execute_result",
          "data": {
            "text/plain": [
              "[0.02604050561785698, 0.9929999709129333]"
            ]
          },
          "metadata": {},
          "execution_count": 23
        }
      ]
    },
    {
      "cell_type": "markdown",
      "metadata": {
        "id": "SUJxRQtafihM"
      },
      "source": [
        "## **CNN2 + FCN3**"
      ]
    },
    {
      "cell_type": "code",
      "metadata": {
        "id": "PXuHAj85rRTw"
      },
      "source": [
        "# Random number seed\n",
        "np.random.seed(1234)\n",
        "tf.random.set_seed(1234)"
      ],
      "execution_count": 60,
      "outputs": []
    },
    {
      "cell_type": "code",
      "metadata": {
        "id": "Nl5CyAymAB34"
      },
      "source": [
        "c2f3 = tf.keras.models.Sequential([ \n",
        "    Conv2D(input_shape=(28,28,1), filters= 64, \n",
        "            kernel_size=(3,3),strides=(1,1),padding='same',activation='relu'),\n",
        "    MaxPool2D(pool_size=(2,2), strides=(2,2)),        \n",
        "    Conv2D(filters= 32, \n",
        "            kernel_size=(3,3),strides=(1,1),padding='same',activation='relu'),        \n",
        "    MaxPool2D(pool_size=(2,2), strides=(2,2)),\n",
        "    Flatten(),       \n",
        "    tf.keras.layers.Dense(128, activation='relu'),  \n",
        "    tf.keras.layers.Dropout(0.25),\n",
        "    tf.keras.layers.Dense(64, activation='relu'),  \n",
        "    tf.keras.layers.Dropout(0.25),\n",
        "    tf.keras.layers.Dense(10, activation='softmax')\n",
        "])\n",
        "\n",
        "c2f3.compile(optimizer='adam',\n",
        "              loss='categorical_crossentropy',\n",
        "              metrics=['accuracy']) "
      ],
      "execution_count": 58,
      "outputs": []
    },
    {
      "cell_type": "code",
      "metadata": {
        "id": "gYxuGW_2ANL8",
        "colab": {
          "base_uri": "https://localhost:8080/"
        },
        "outputId": "d28385e5-6b02-4e0d-8e65-18d5e8a28b1a"
      },
      "source": [
        "c2f3.summary()"
      ],
      "execution_count": 59,
      "outputs": [
        {
          "output_type": "stream",
          "name": "stdout",
          "text": [
            "Model: \"sequential_7\"\n",
            "_________________________________________________________________\n",
            " Layer (type)                Output Shape              Param #   \n",
            "=================================================================\n",
            " conv2d_12 (Conv2D)          (None, 28, 28, 64)        640       \n",
            "                                                                 \n",
            " max_pooling2d_12 (MaxPoolin  (None, 14, 14, 64)       0         \n",
            " g2D)                                                            \n",
            "                                                                 \n",
            " conv2d_13 (Conv2D)          (None, 14, 14, 32)        18464     \n",
            "                                                                 \n",
            " max_pooling2d_13 (MaxPoolin  (None, 7, 7, 32)         0         \n",
            " g2D)                                                            \n",
            "                                                                 \n",
            " flatten_7 (Flatten)         (None, 1568)              0         \n",
            "                                                                 \n",
            " dense_18 (Dense)            (None, 128)               200832    \n",
            "                                                                 \n",
            " dropout_11 (Dropout)        (None, 128)               0         \n",
            "                                                                 \n",
            " dense_19 (Dense)            (None, 64)                8256      \n",
            "                                                                 \n",
            " dropout_12 (Dropout)        (None, 64)                0         \n",
            "                                                                 \n",
            " dense_20 (Dense)            (None, 10)                650       \n",
            "                                                                 \n",
            "=================================================================\n",
            "Total params: 228,842\n",
            "Trainable params: 228,842\n",
            "Non-trainable params: 0\n",
            "_________________________________________________________________\n"
          ]
        }
      ]
    },
    {
      "cell_type": "code",
      "metadata": {
        "id": "lO1of4AOAQlV",
        "colab": {
          "base_uri": "https://localhost:8080/"
        },
        "outputId": "91674d44-6409-4cb6-db29-316161362e98"
      },
      "source": [
        "c2f3.fit(X_train, y_train, epochs=20, batch_size = 100)"
      ],
      "execution_count": 27,
      "outputs": [
        {
          "output_type": "stream",
          "name": "stdout",
          "text": [
            "Epoch 1/20\n",
            "600/600 [==============================] - 6s 9ms/step - loss: 0.3028 - accuracy: 0.9066\n",
            "Epoch 2/20\n",
            "600/600 [==============================] - 5s 9ms/step - loss: 0.0896 - accuracy: 0.9744\n",
            "Epoch 3/20\n",
            "600/600 [==============================] - 5s 9ms/step - loss: 0.0620 - accuracy: 0.9825\n",
            "Epoch 4/20\n",
            "600/600 [==============================] - 5s 9ms/step - loss: 0.0521 - accuracy: 0.9852\n",
            "Epoch 5/20\n",
            "600/600 [==============================] - 5s 9ms/step - loss: 0.0431 - accuracy: 0.9872\n",
            "Epoch 6/20\n",
            "600/600 [==============================] - 5s 9ms/step - loss: 0.0356 - accuracy: 0.9900\n",
            "Epoch 7/20\n",
            "600/600 [==============================] - 5s 9ms/step - loss: 0.0323 - accuracy: 0.9903\n",
            "Epoch 8/20\n",
            "600/600 [==============================] - 5s 9ms/step - loss: 0.0268 - accuracy: 0.9918\n",
            "Epoch 9/20\n",
            "600/600 [==============================] - 5s 9ms/step - loss: 0.0239 - accuracy: 0.9928\n",
            "Epoch 10/20\n",
            "600/600 [==============================] - 5s 9ms/step - loss: 0.0218 - accuracy: 0.9937\n",
            "Epoch 11/20\n",
            "600/600 [==============================] - 5s 9ms/step - loss: 0.0181 - accuracy: 0.9947\n",
            "Epoch 12/20\n",
            "600/600 [==============================] - 5s 9ms/step - loss: 0.0187 - accuracy: 0.9943\n",
            "Epoch 13/20\n",
            "600/600 [==============================] - 5s 9ms/step - loss: 0.0162 - accuracy: 0.9949\n",
            "Epoch 14/20\n",
            "600/600 [==============================] - 5s 9ms/step - loss: 0.0169 - accuracy: 0.9948\n",
            "Epoch 15/20\n",
            "600/600 [==============================] - 5s 9ms/step - loss: 0.0133 - accuracy: 0.9959\n",
            "Epoch 16/20\n",
            "600/600 [==============================] - 5s 9ms/step - loss: 0.0140 - accuracy: 0.9957\n",
            "Epoch 17/20\n",
            "600/600 [==============================] - 5s 9ms/step - loss: 0.0133 - accuracy: 0.9960\n",
            "Epoch 18/20\n",
            "600/600 [==============================] - 5s 9ms/step - loss: 0.0116 - accuracy: 0.9964\n",
            "Epoch 19/20\n",
            "600/600 [==============================] - 5s 9ms/step - loss: 0.0123 - accuracy: 0.9964\n",
            "Epoch 20/20\n",
            "600/600 [==============================] - 5s 9ms/step - loss: 0.0109 - accuracy: 0.9968\n"
          ]
        },
        {
          "output_type": "execute_result",
          "data": {
            "text/plain": [
              "<keras.callbacks.History at 0x7f241b09bb50>"
            ]
          },
          "metadata": {},
          "execution_count": 27
        }
      ]
    },
    {
      "cell_type": "code",
      "metadata": {
        "id": "W-eIxCasDBil",
        "colab": {
          "base_uri": "https://localhost:8080/"
        },
        "outputId": "192fe99d-e48d-4a03-eea8-0ea989d7a791"
      },
      "source": [
        "c2f3.evaluate(X_test, y_test, batch_size = 100)"
      ],
      "execution_count": 28,
      "outputs": [
        {
          "output_type": "stream",
          "name": "stdout",
          "text": [
            "100/100 [==============================] - 1s 6ms/step - loss: 0.0319 - accuracy: 0.9922\n"
          ]
        },
        {
          "output_type": "execute_result",
          "data": {
            "text/plain": [
              "[0.03192323446273804, 0.9922000169754028]"
            ]
          },
          "metadata": {},
          "execution_count": 28
        }
      ]
    },
    {
      "cell_type": "markdown",
      "metadata": {
        "id": "5XYSVtC-DVsz"
      },
      "source": [
        "# **[DIY] Hidden layer에 따른 정확도**"
      ]
    },
    {
      "cell_type": "code",
      "metadata": {
        "colab": {
          "base_uri": "https://localhost:8080/"
        },
        "id": "m6BD3CUGR3fg",
        "outputId": "82af9227-5b1c-4060-9336-ae12d27352a2"
      },
      "source": [
        "c1f3.evaluate(X_test, y_test, batch_size = 100)"
      ],
      "execution_count": 29,
      "outputs": [
        {
          "output_type": "stream",
          "name": "stdout",
          "text": [
            "100/100 [==============================] - 0s 4ms/step - loss: 0.0475 - accuracy: 0.9897\n"
          ]
        },
        {
          "output_type": "execute_result",
          "data": {
            "text/plain": [
              "[0.04749229922890663, 0.9897000193595886]"
            ]
          },
          "metadata": {},
          "execution_count": 29
        }
      ]
    },
    {
      "cell_type": "code",
      "metadata": {
        "colab": {
          "base_uri": "https://localhost:8080/"
        },
        "id": "_21ifC_1R95c",
        "outputId": "723de207-5d8d-4008-8d47-f3190e1209c8"
      },
      "source": [
        "c1f2.evaluate(X_test, y_test, batch_size = 100)"
      ],
      "execution_count": 30,
      "outputs": [
        {
          "output_type": "stream",
          "name": "stdout",
          "text": [
            "100/100 [==============================] - 0s 4ms/step - loss: 0.0406 - accuracy: 0.9894\n"
          ]
        },
        {
          "output_type": "execute_result",
          "data": {
            "text/plain": [
              "[0.04055704548954964, 0.9894000291824341]"
            ]
          },
          "metadata": {},
          "execution_count": 30
        }
      ]
    },
    {
      "cell_type": "code",
      "metadata": {
        "id": "hPXHL7TTgIMf"
      },
      "source": [
        "# Try another method!!\n",
        "cnn_result = [[0.04295257106423378, 0.9896000027656555], \n",
        " [0.05886483192443848, 0.9876999855041504], \n",
        " [0.02675638720393181, 0.9926999807357788], \n",
        " [0.03172276169061661, 0.9921000003814697]]"
      ],
      "execution_count": 31,
      "outputs": []
    },
    {
      "cell_type": "code",
      "metadata": {
        "id": "1kXd2NWlLmyZ",
        "colab": {
          "base_uri": "https://localhost:8080/"
        },
        "outputId": "f7da1fea-844f-48d9-854f-b4a0936b0f76"
      },
      "source": [
        "# select accuracies\n",
        "accuracy = [row[1] for row in cnn_result]\n",
        "accuracy"
      ],
      "execution_count": 32,
      "outputs": [
        {
          "output_type": "execute_result",
          "data": {
            "text/plain": [
              "[0.9896000027656555,\n",
              " 0.9876999855041504,\n",
              " 0.9926999807357788,\n",
              " 0.9921000003814697]"
            ]
          },
          "metadata": {},
          "execution_count": 32
        }
      ]
    },
    {
      "cell_type": "code",
      "metadata": {
        "id": "vZv6a2aVRw9j",
        "colab": {
          "base_uri": "https://localhost:8080/",
          "height": 269
        },
        "outputId": "4a7214a3-3f15-46d6-abe6-771465b7604e"
      },
      "source": [
        "x = np.arange(4)\n",
        "cnns = ['c1f2','c1f3','c2f2','c2f3']\n",
        "accuracies = [acc*100 for acc in accuracy] # %\n",
        "\n",
        "plt.bar(x, accuracies)\n",
        "plt.xticks(x, cnns)\n",
        "plt.ylim((95,100))\n",
        "plt.show()"
      ],
      "execution_count": 33,
      "outputs": [
        {
          "output_type": "display_data",
          "data": {
            "image/png": "[encoded data removed]",
            "text/plain": [
              "<Figure size 432x288 with 1 Axes>"
            ]
          },
          "metadata": {
            "needs_background": "light"
          }
        }
      ]
    },
    {
      "cell_type": "markdown",
      "metadata": {
        "id": "gBPKMI4y3fsa"
      },
      "source": [
        "## 모형의 저장\n",
        "\n",
        "- 트레이닝이 끝난 모형은 save 메서드로 가중치와 함께 hdf5 형식으로 저장\n",
        "- load 명령으로 불러 사용"
      ]
    },
    {
      "cell_type": "code",
      "metadata": {
        "id": "KCfbQl2v3fsa"
      },
      "source": [
        "c2f2.save('c2f2_best.hdf5')"
      ],
      "execution_count": 34,
      "outputs": []
    },
    {
      "cell_type": "code",
      "metadata": {
        "id": "b7-ysIVy3fse",
        "colab": {
          "base_uri": "https://localhost:8080/"
        },
        "outputId": "091db218-b449-4794-aec9-2631bdc2d5ac"
      },
      "source": [
        "from keras.models import load_model\n",
        "\n",
        "model = load_model('c2f2_best.hdf5')\n",
        "model.evaluate(X_test, y_test, batch_size=100)"
      ],
      "execution_count": 35,
      "outputs": [
        {
          "output_type": "stream",
          "name": "stdout",
          "text": [
            "100/100 [==============================] - 1s 6ms/step - loss: 0.0260 - accuracy: 0.9930\n"
          ]
        },
        {
          "output_type": "execute_result",
          "data": {
            "text/plain": [
              "[0.02604050561785698, 0.9929999709129333]"
            ]
          },
          "metadata": {},
          "execution_count": 35
        }
      ]
    },
    {
      "cell_type": "markdown",
      "metadata": {
        "id": "jRG6VlWiMDee"
      },
      "source": [
        "## C2F2 모델에 대한 loss, accuracy 그래프를 그리시오."
      ]
    },
    {
      "cell_type": "code",
      "metadata": {
        "id": "-Yfqv2AqtUtz",
        "colab": {
          "base_uri": "https://localhost:8080/"
        },
        "outputId": "b40f5f76-30a6-4484-c336-6873be935e9a"
      },
      "source": [
        "hist = c2f2.fit(X_train, y_train, \n",
        "         epochs = 20 , \n",
        "         batch_size =100, \n",
        "         validation_data=(X_test,y_test))"
      ],
      "execution_count": 43,
      "outputs": [
        {
          "output_type": "stream",
          "name": "stdout",
          "text": [
            "Epoch 1/20\n",
            "600/600 [==============================] - 6s 10ms/step - loss: 0.0057 - accuracy: 0.9979 - val_loss: 0.0330 - val_accuracy: 0.9918\n",
            "Epoch 2/20\n",
            "600/600 [==============================] - 5s 9ms/step - loss: 0.0068 - accuracy: 0.9978 - val_loss: 0.0289 - val_accuracy: 0.9928\n",
            "Epoch 3/20\n",
            "600/600 [==============================] - 6s 9ms/step - loss: 0.0048 - accuracy: 0.9983 - val_loss: 0.0333 - val_accuracy: 0.9928\n",
            "Epoch 4/20\n",
            "600/600 [==============================] - 5s 9ms/step - loss: 0.0057 - accuracy: 0.9978 - val_loss: 0.0413 - val_accuracy: 0.9911\n",
            "Epoch 5/20\n",
            "600/600 [==============================] - 6s 9ms/step - loss: 0.0049 - accuracy: 0.9984 - val_loss: 0.0396 - val_accuracy: 0.9928\n",
            "Epoch 6/20\n",
            "600/600 [==============================] - 5s 9ms/step - loss: 0.0063 - accuracy: 0.9980 - val_loss: 0.0303 - val_accuracy: 0.9931\n",
            "Epoch 7/20\n",
            "600/600 [==============================] - 6s 9ms/step - loss: 0.0043 - accuracy: 0.9985 - val_loss: 0.0370 - val_accuracy: 0.9918\n",
            "Epoch 8/20\n",
            "600/600 [==============================] - 6s 10ms/step - loss: 0.0039 - accuracy: 0.9984 - val_loss: 0.0379 - val_accuracy: 0.9921\n",
            "Epoch 9/20\n",
            "600/600 [==============================] - 5s 9ms/step - loss: 0.0040 - accuracy: 0.9987 - val_loss: 0.0389 - val_accuracy: 0.9929\n",
            "Epoch 10/20\n",
            "600/600 [==============================] - 6s 10ms/step - loss: 0.0046 - accuracy: 0.9983 - val_loss: 0.0365 - val_accuracy: 0.9925\n",
            "Epoch 11/20\n",
            "600/600 [==============================] - 6s 9ms/step - loss: 0.0037 - accuracy: 0.9988 - val_loss: 0.0384 - val_accuracy: 0.9920\n",
            "Epoch 12/20\n",
            "600/600 [==============================] - 6s 9ms/step - loss: 0.0044 - accuracy: 0.9984 - val_loss: 0.0362 - val_accuracy: 0.9925\n",
            "Epoch 13/20\n",
            "600/600 [==============================] - 5s 9ms/step - loss: 0.0037 - accuracy: 0.9987 - val_loss: 0.0331 - val_accuracy: 0.9930\n",
            "Epoch 14/20\n",
            "600/600 [==============================] - 5s 9ms/step - loss: 0.0039 - accuracy: 0.9986 - val_loss: 0.0411 - val_accuracy: 0.9911\n",
            "Epoch 15/20\n",
            "600/600 [==============================] - 5s 9ms/step - loss: 0.0037 - accuracy: 0.9987 - val_loss: 0.0389 - val_accuracy: 0.9923\n",
            "Epoch 16/20\n",
            "600/600 [==============================] - 5s 9ms/step - loss: 0.0044 - accuracy: 0.9983 - val_loss: 0.0395 - val_accuracy: 0.9921\n",
            "Epoch 17/20\n",
            "600/600 [==============================] - 5s 9ms/step - loss: 0.0038 - accuracy: 0.9987 - val_loss: 0.0354 - val_accuracy: 0.9928\n",
            "Epoch 18/20\n",
            "600/600 [==============================] - 5s 9ms/step - loss: 0.0025 - accuracy: 0.9992 - val_loss: 0.0395 - val_accuracy: 0.9928\n",
            "Epoch 19/20\n",
            "600/600 [==============================] - 5s 9ms/step - loss: 0.0034 - accuracy: 0.9988 - val_loss: 0.0394 - val_accuracy: 0.9927\n",
            "Epoch 20/20\n",
            "600/600 [==============================] - 6s 9ms/step - loss: 0.0036 - accuracy: 0.9987 - val_loss: 0.0425 - val_accuracy: 0.9918\n"
          ]
        }
      ]
    },
    {
      "cell_type": "code",
      "metadata": {
        "id": "D1on4CdjrQ_T",
        "colab": {
          "base_uri": "https://localhost:8080/",
          "height": 313
        },
        "outputId": "a38aba10-e1e4-407e-a641-91b2cc363912"
      },
      "source": [
        "# Plot loass and accuracy\n",
        "# Plot training & validation accuracy values\n",
        "epochs = 20\n",
        "loss_list = [100 * i for i in hist.history['loss']]\n",
        "acc_list = [100 * i for i in hist.history['accuracy']]\n",
        "plt.plot(range(1,epochs+1),loss_list) \n",
        "plt.plot(range(1,epochs+1),acc_list) \n",
        "plt.title('Model loss & accuracy')\n",
        "plt.ylabel('Accuracy (%)')\n",
        "plt.xlabel('Epoch')\n",
        "plt.legend(['loss', 'accuracy'], loc='center left')"
      ],
      "execution_count": 44,
      "outputs": [
        {
          "output_type": "execute_result",
          "data": {
            "text/plain": [
              "<matplotlib.legend.Legend at 0x7f241aecc850>"
            ]
          },
          "metadata": {},
          "execution_count": 44
        },
        {
          "output_type": "display_data",
          "data": {
            "image/png": "[encoded data removed]",
            "text/plain": [
              "<Figure size 432x288 with 1 Axes>"
            ]
          },
          "metadata": {
            "needs_background": "light"
          }
        }
      ]
    },
    {
      "cell_type": "code",
      "metadata": {
        "id": "TX5Uzro4vjaY",
        "colab": {
          "base_uri": "https://localhost:8080/",
          "height": 313
        },
        "outputId": "306d6d4b-5e50-41f9-d690-37b4b580cfdc"
      },
      "source": [
        "vloss_list = [100 * i for i in hist.history['val_loss']]\n",
        "vacc_list = [100 * i for i in hist.history['val_accuracy']]\n",
        "plt.plot(range(1,epochs+1),vloss_list)  \n",
        "plt.plot(range(1,epochs+1),vacc_list)  \n",
        "plt.title('Model val_loss & val_accuracy')\n",
        "plt.ylabel('Accuracy (%)')\n",
        "plt.xlabel('Epoch')\n",
        "plt.legend(['val_loss', 'val_accuracy'], loc='center left')"
      ],
      "execution_count": 45,
      "outputs": [
        {
          "output_type": "execute_result",
          "data": {
            "text/plain": [
              "<matplotlib.legend.Legend at 0x7f241af0f050>"
            ]
          },
          "metadata": {},
          "execution_count": 45
        },
        {
          "output_type": "display_data",
          "data": {
            "image/png": "[encoded data removed]",
            "text/plain": [
              "<Figure size 432x288 with 1 Axes>"
            ]
          },
          "metadata": {
            "needs_background": "light"
          }
        }
      ]
    },
    {
      "cell_type": "code",
      "metadata": {
        "id": "blALTNdyvjVK",
        "colab": {
          "base_uri": "https://localhost:8080/",
          "height": 313
        },
        "outputId": "38bfc4da-780e-4175-e1d3-0372e4eabbf1"
      },
      "source": [
        "plt.plot(range(1,epochs+1),acc_list)  \n",
        "plt.plot(range(1,epochs+1),vacc_list)  \n",
        "plt.title('accuracy vs. val_accuracy')\n",
        "plt.ylabel('Accuracy (%)')\n",
        "plt.xlabel('Epoch')\n",
        "plt.legend(['accuracy','val_accuracy'], loc='center')"
      ],
      "execution_count": 46,
      "outputs": [
        {
          "output_type": "execute_result",
          "data": {
            "text/plain": [
              "<matplotlib.legend.Legend at 0x7f241ae6f250>"
            ]
          },
          "metadata": {},
          "execution_count": 46
        },
        {
          "output_type": "display_data",
          "data": {
            "image/png": "[encoded data removed]",
            "text/plain": [
              "<Figure size 432x288 with 1 Axes>"
            ]
          },
          "metadata": {
            "needs_background": "light"
          }
        }
      ]
    },
    {
      "cell_type": "markdown",
      "metadata": {
        "id": "PjiTXAO1MKkE"
      },
      "source": [
        "***"
      ]
    },
    {
      "cell_type": "markdown",
      "metadata": {
        "id": "Ucj-avjHMPLy"
      },
      "source": [
        "## [DIY] C2F3 모델에 대한 loss, accuracy 그래프를 추가하시오."
      ]
    },
    {
      "cell_type": "code",
      "metadata": {
        "id": "WNmXXLhvWUiK"
      },
      "source": [
        "# Code here!"
      ],
      "execution_count": null,
      "outputs": []
    },
    {
      "cell_type": "code",
      "metadata": {
        "id": "b3X5NkQtYw49"
      },
      "source": [
        "# Random number seed\n",
        "np.random.seed(1234)\n",
        "tf.random.set_seed(1234)"
      ],
      "execution_count": 63,
      "outputs": []
    },
    {
      "cell_type": "code",
      "metadata": {
        "id": "UBu2GApWYxOs"
      },
      "source": [
        "c2f3 = tf.keras.models.Sequential([ \n",
        "    Conv2D(input_shape=(28,28,1), filters= 64, \n",
        "            kernel_size=(3,3),strides=(1,1),padding='same',activation='relu'),\n",
        "    MaxPool2D(pool_size=(2,2), strides=(2,2)),        \n",
        "    Conv2D(filters= 32, \n",
        "            kernel_size=(3,3),strides=(1,1),padding='same',activation='relu'),        \n",
        "    MaxPool2D(pool_size=(2,2), strides=(2,2)),\n",
        "    Flatten(),       \n",
        "    tf.keras.layers.Dense(128, activation='relu'),  \n",
        "    tf.keras.layers.Dropout(0.25),\n",
        "    tf.keras.layers.Dense(64, activation='relu'),  \n",
        "    tf.keras.layers.Dropout(0.25),\n",
        "    tf.keras.layers.Dense(10, activation='softmax')\n",
        "])\n",
        "\n",
        "c2f3.compile(optimizer='adam',\n",
        "              loss='categorical_crossentropy',\n",
        "              metrics=['accuracy']) "
      ],
      "execution_count": 48,
      "outputs": []
    },
    {
      "cell_type": "code",
      "metadata": {
        "id": "-aA8B5NoZgUf",
        "colab": {
          "base_uri": "https://localhost:8080/"
        },
        "outputId": "0cad9da1-170f-4b11-80e0-bca24d8b53b9"
      },
      "source": [
        "hist = c2f3.fit(X_train, y_train, \n",
        "         epochs = 20 , \n",
        "         batch_size =100, \n",
        "         validation_data=(X_test,y_test))"
      ],
      "execution_count": 64,
      "outputs": [
        {
          "output_type": "stream",
          "name": "stdout",
          "text": [
            "Epoch 1/20\n",
            "600/600 [==============================] - 6s 10ms/step - loss: 0.0095 - accuracy: 0.9968 - val_loss: 0.0331 - val_accuracy: 0.9923\n",
            "Epoch 2/20\n",
            "600/600 [==============================] - 6s 9ms/step - loss: 0.0094 - accuracy: 0.9971 - val_loss: 0.0345 - val_accuracy: 0.9923\n",
            "Epoch 3/20\n",
            "600/600 [==============================] - 6s 9ms/step - loss: 0.0084 - accuracy: 0.9974 - val_loss: 0.0378 - val_accuracy: 0.9931\n",
            "Epoch 4/20\n",
            "600/600 [==============================] - 6s 10ms/step - loss: 0.0082 - accuracy: 0.9975 - val_loss: 0.0324 - val_accuracy: 0.9921\n",
            "Epoch 5/20\n",
            "600/600 [==============================] - 6s 9ms/step - loss: 0.0073 - accuracy: 0.9977 - val_loss: 0.0385 - val_accuracy: 0.9920\n",
            "Epoch 6/20\n",
            "600/600 [==============================] - 6s 9ms/step - loss: 0.0102 - accuracy: 0.9969 - val_loss: 0.0311 - val_accuracy: 0.9932\n",
            "Epoch 7/20\n",
            "600/600 [==============================] - 6s 10ms/step - loss: 0.0071 - accuracy: 0.9978 - val_loss: 0.0346 - val_accuracy: 0.9924\n",
            "Epoch 8/20\n",
            "600/600 [==============================] - 6s 9ms/step - loss: 0.0071 - accuracy: 0.9977 - val_loss: 0.0333 - val_accuracy: 0.9924\n",
            "Epoch 9/20\n",
            "600/600 [==============================] - 6s 9ms/step - loss: 0.0074 - accuracy: 0.9978 - val_loss: 0.0449 - val_accuracy: 0.9919\n",
            "Epoch 10/20\n",
            "600/600 [==============================] - 6s 10ms/step - loss: 0.0082 - accuracy: 0.9974 - val_loss: 0.0379 - val_accuracy: 0.9917\n",
            "Epoch 11/20\n",
            "600/600 [==============================] - 6s 10ms/step - loss: 0.0057 - accuracy: 0.9983 - val_loss: 0.0335 - val_accuracy: 0.9934\n",
            "Epoch 12/20\n",
            "600/600 [==============================] - 6s 10ms/step - loss: 0.0047 - accuracy: 0.9984 - val_loss: 0.0307 - val_accuracy: 0.9937\n",
            "Epoch 13/20\n",
            "600/600 [==============================] - 6s 9ms/step - loss: 0.0058 - accuracy: 0.9981 - val_loss: 0.0367 - val_accuracy: 0.9925\n",
            "Epoch 14/20\n",
            "600/600 [==============================] - 6s 10ms/step - loss: 0.0065 - accuracy: 0.9980 - val_loss: 0.0379 - val_accuracy: 0.9927\n",
            "Epoch 15/20\n",
            "600/600 [==============================] - 6s 10ms/step - loss: 0.0043 - accuracy: 0.9987 - val_loss: 0.0415 - val_accuracy: 0.9930\n",
            "Epoch 16/20\n",
            "600/600 [==============================] - 6s 10ms/step - loss: 0.0067 - accuracy: 0.9979 - val_loss: 0.0385 - val_accuracy: 0.9924\n",
            "Epoch 17/20\n",
            "600/600 [==============================] - 6s 9ms/step - loss: 0.0055 - accuracy: 0.9980 - val_loss: 0.0523 - val_accuracy: 0.9906\n",
            "Epoch 18/20\n",
            "600/600 [==============================] - 6s 9ms/step - loss: 0.0065 - accuracy: 0.9981 - val_loss: 0.0422 - val_accuracy: 0.9923\n",
            "Epoch 19/20\n",
            "600/600 [==============================] - 6s 10ms/step - loss: 0.0049 - accuracy: 0.9984 - val_loss: 0.0452 - val_accuracy: 0.9927\n",
            "Epoch 20/20\n",
            "600/600 [==============================] - 6s 9ms/step - loss: 0.0054 - accuracy: 0.9981 - val_loss: 0.0434 - val_accuracy: 0.9924\n"
          ]
        }
      ]
    },
    {
      "cell_type": "code",
      "metadata": {
        "id": "Ur5BFxF9ZiTX",
        "colab": {
          "base_uri": "https://localhost:8080/",
          "height": 313
        },
        "outputId": "a131bc53-91c3-4180-b764-553cde982dd9"
      },
      "source": [
        "# Plot loass and accuracy\n",
        "# Plot training & validation accuracy values\n",
        "epochs = 20\n",
        "loss_list = [100 * i for i in hist.history['loss']]\n",
        "acc_list = [100 * i for i in hist.history['accuracy']]\n",
        "plt.plot(range(1,epochs+1),loss_list) \n",
        "plt.plot(range(1,epochs+1),acc_list) \n",
        "plt.title('Model loss & accuracy')\n",
        "plt.ylabel('Accuracy (%)')\n",
        "plt.xlabel('Epoch')\n",
        "plt.legend(['loss', 'accuracy'], loc='center left')"
      ],
      "execution_count": 65,
      "outputs": [
        {
          "output_type": "execute_result",
          "data": {
            "text/plain": [
              "<matplotlib.legend.Legend at 0x7f241aa20ed0>"
            ]
          },
          "metadata": {},
          "execution_count": 65
        },
        {
          "output_type": "display_data",
          "data": {
            "image/png": "[encoded data removed]",
            "text/plain": [
              "<Figure size 432x288 with 1 Axes>"
            ]
          },
          "metadata": {
            "needs_background": "light"
          }
        }
      ]
    },
    {
      "cell_type": "code",
      "metadata": {
        "id": "W7tLoiPQZlXc",
        "colab": {
          "base_uri": "https://localhost:8080/",
          "height": 313
        },
        "outputId": "79dcfeb1-959b-4dae-d5ff-4835f62ae4b2"
      },
      "source": [
        "vloss_list = [100 * i for i in hist.history['val_loss']]\n",
        "vacc_list = [100 * i for i in hist.history['val_accuracy']]\n",
        "plt.plot(range(1,epochs+1),vloss_list)  \n",
        "plt.plot(range(1,epochs+1),vacc_list)  \n",
        "plt.title('Model val_loss & val_accuracy')\n",
        "plt.ylabel('Accuracy (%)')\n",
        "plt.xlabel('Epoch')\n",
        "plt.legend(['val_loss', 'val_accuracy'], loc='center left')"
      ],
      "execution_count": 66,
      "outputs": [
        {
          "output_type": "execute_result",
          "data": {
            "text/plain": [
              "<matplotlib.legend.Legend at 0x7f241adc4210>"
            ]
          },
          "metadata": {},
          "execution_count": 66
        },
        {
          "output_type": "display_data",
          "data": {
            "image/png": "[encoded data removed]",
            "text/plain": [
              "<Figure size 432x288 with 1 Axes>"
            ]
          },
          "metadata": {
            "needs_background": "light"
          }
        }
      ]
    },
    {
      "cell_type": "code",
      "metadata": {
        "id": "odQhLrzzZoBC",
        "colab": {
          "base_uri": "https://localhost:8080/",
          "height": 313
        },
        "outputId": "c54d1360-3d12-4a92-b220-8492b2b0cb04"
      },
      "source": [
        "plt.plot(range(1,epochs+1),acc_list)  \n",
        "plt.plot(range(1,epochs+1),vacc_list)  \n",
        "plt.title('accuracy vs. val_accuracy')\n",
        "plt.ylabel('Accuracy (%)')\n",
        "plt.xlabel('Epoch')\n",
        "plt.legend(['accuracy','val_accuracy'], loc='center')"
      ],
      "execution_count": 67,
      "outputs": [
        {
          "output_type": "execute_result",
          "data": {
            "text/plain": [
              "<matplotlib.legend.Legend at 0x7f241ac35690>"
            ]
          },
          "metadata": {},
          "execution_count": 67
        },
        {
          "output_type": "display_data",
          "data": {
            "image/png": "[encoded data removed]",
            "text/plain": [
              "<Figure size 432x288 with 1 Axes>"
            ]
          },
          "metadata": {
            "needs_background": "light"
          }
        }
      ]
    }
  ]
}