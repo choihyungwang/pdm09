{
  "nbformat": 4,
  "nbformat_minor": 0,
  "metadata": {
    "colab": {
      "name": "케라스의 함수형 API.ipynb",
      "provenance": [],
      "collapsed_sections": [],
      "include_colab_link": true
    },
    "kernelspec": {
      "name": "python3",
      "display_name": "Python 3"
    },
    "language_info": {
      "name": "python"
    }
  },
  "cells": [
    {
      "cell_type": "markdown",
      "metadata": {
        "id": "view-in-github",
        "colab_type": "text"
      },
      "source": [
        "<a href=\"https://colab.research.google.com/github/choihyungwang/pdm09/blob/main/py-tensorflow/Keras/%EC%BC%80%EB%9D%BC%EC%8A%A4%EC%9D%98_%ED%95%A8%EC%88%98%ED%98%95_API.ipynb\" target=\"_parent\"><img src=\"https://colab.research.google.com/assets/colab-badge.svg\" alt=\"Open In Colab\"/></a>"
      ]
    },
    {
      "cell_type": "markdown",
      "metadata": {
        "id": "4xzBewpBPvSU"
      },
      "source": [
        "이 자료는 위키독스 딥 러닝을 이용한 자연어 처리 입문의 함수형 API 튜토리얼입니다.  \n",
        "링크 : https://wikidocs.net/38861\n",
        "\n",
        "> 참고자료: https://teddylee777.github.io/tensorflow/functional-api"
      ]
    },
    {
      "cell_type": "markdown",
      "metadata": {
        "id": "6A2uEJ3APvSV"
      },
      "source": [
        "2021년 10월 12일에 마지막으로 테스트되었습니다.\n",
        "- 2021년 11월 11일 보완."
      ]
    },
    {
      "cell_type": "code",
      "metadata": {
        "id": "Kecr2o6zg27y"
      },
      "source": [
        "import tensorflow as tf"
      ],
      "execution_count": 1,
      "outputs": []
    },
    {
      "cell_type": "code",
      "metadata": {
        "id": "ND9N4tufhCk5",
        "colab": {
          "base_uri": "https://localhost:8080/",
          "height": 35
        },
        "outputId": "d0f195ea-1ed1-44a8-cca4-77e507b232df"
      },
      "source": [
        "tf.__version__"
      ],
      "execution_count": 2,
      "outputs": [
        {
          "output_type": "execute_result",
          "data": {
            "application/vnd.google.colaboratory.intrinsic+json": {
              "type": "string"
            },
            "text/plain": [
              "'2.7.0'"
            ]
          },
          "metadata": {},
          "execution_count": 2
        }
      ]
    },
    {
      "cell_type": "markdown",
      "metadata": {
        "id": "oA1aH__hhOwx"
      },
      "source": [
        "# Keras Model API\n",
        "- Sequential API\n",
        "- Functional API\n",
        "- Subclassing API\n",
        "---\n",
        "## 1. Sequential API"
      ]
    },
    {
      "cell_type": "code",
      "metadata": {
        "id": "EqhaoOSJhDHg",
        "colab": {
          "base_uri": "https://localhost:8080/"
        },
        "outputId": "5e54c666-1045-4ffc-c4c5-c3d573590791"
      },
      "source": [
        "from tensorflow.keras.models import Sequential\n",
        "from tensorflow.keras.layers import Dense\n",
        "\n",
        "# input-Output Model (No hidden layer)\n",
        "model = Sequential()\n",
        "model.add(Dense(3, input_dim=4, activation='softmax'))\n",
        "model.summary()\n",
        "model.compile(optimizer='rmsprop', loss='categorical_crossentropy', metrics=['accuracy'])"
      ],
      "execution_count": 3,
      "outputs": [
        {
          "output_type": "stream",
          "name": "stdout",
          "text": [
            "Model: \"sequential\"\n",
            "_________________________________________________________________\n",
            " Layer (type)                Output Shape              Param #   \n",
            "=================================================================\n",
            " dense (Dense)               (None, 3)                 15        \n",
            "                                                                 \n",
            "=================================================================\n",
            "Total params: 15\n",
            "Trainable params: 15\n",
            "Non-trainable params: 0\n",
            "_________________________________________________________________\n"
          ]
        }
      ]
    },
    {
      "cell_type": "code",
      "metadata": {
        "id": "ZvhbanWUyXX1",
        "colab": {
          "base_uri": "https://localhost:8080/",
          "height": 201
        },
        "outputId": "a752e9a0-86ae-49af-edc9-bd07f3fd7b05"
      },
      "source": [
        "# Plt model\n",
        "from tensorflow.keras.utils import plot_model\n",
        "plot_model(model, show_shapes=True, show_layer_names=True, to_file='model_S.png')"
      ],
      "execution_count": 24,
      "outputs": [
        {
          "output_type": "execute_result",
          "data": {
            "image/png": "[encoded data removed]",
            "text/plain": [
              "<IPython.core.display.Image object>"
            ]
          },
          "metadata": {},
          "execution_count": 24
        }
      ]
    },
    {
      "cell_type": "markdown",
      "metadata": {
        "id": "TR7Hz0RYn_7Q"
      },
      "source": [
        "## [DIY] 위의 모델에 hidden layer를 다음과 같이 추가하여 model_h1 을 만드시오.\n",
        "- number of neurons: 10\n",
        "- activation function; 'relu'\n"
      ]
    },
    {
      "cell_type": "code",
      "metadata": {
        "id": "TraVK4EhoeIp",
        "colab": {
          "base_uri": "https://localhost:8080/"
        },
        "outputId": "685823a7-a8d6-4ebc-b460-c9a72ee3a085"
      },
      "source": [
        "# Your model : model_h1\n",
        "# input-Output Model (No hidden layer)\n",
        "model_h1 = Sequential()\n",
        "model_h1.add(Dense(10, input_dim=4, activation='relu'))\n",
        "model_h1.add(Dense(3,  activation='softmax'))\n",
        "model_h1.summary()\n",
        "model_h1.compile(optimizer='rmsprop', loss='categorical_crossentropy', metrics=['accuracy'])\n"
      ],
      "execution_count": 17,
      "outputs": [
        {
          "output_type": "stream",
          "name": "stdout",
          "text": [
            "Model: \"sequential_3\"\n",
            "_________________________________________________________________\n",
            " Layer (type)                Output Shape              Param #   \n",
            "=================================================================\n",
            " dense_5 (Dense)             (None, 10)                50        \n",
            "                                                                 \n",
            " dense_6 (Dense)             (None, 3)                 33        \n",
            "                                                                 \n",
            "=================================================================\n",
            "Total params: 83\n",
            "Trainable params: 83\n",
            "Non-trainable params: 0\n",
            "_________________________________________________________________\n"
          ]
        }
      ]
    },
    {
      "cell_type": "code",
      "metadata": {
        "colab": {
          "base_uri": "https://localhost:8080/",
          "height": 312
        },
        "id": "daYDYnsGg9ul",
        "outputId": "7da5426d-2d97-41f3-db56-ac6c8c7776a9"
      },
      "source": [
        "plot_model(model_h1, show_shapes=True, show_layer_names=True, to_file='model_S.png')"
      ],
      "execution_count": 19,
      "outputs": [
        {
          "output_type": "execute_result",
          "data": {
            "image/png": "[encoded data removed]",
            "text/plain": [
              "<IPython.core.display.Image object>"
            ]
          },
          "metadata": {},
          "execution_count": 19
        }
      ]
    },
    {
      "cell_type": "markdown",
      "metadata": {
        "id": "0OpCJGUuhQHe"
      },
      "source": [
        "# 2. Functional API"
      ]
    },
    {
      "cell_type": "markdown",
      "metadata": {
        "id": "Kpg7erK5hSI_"
      },
      "source": [
        "## 2-1. FFNN (Feed-Forward Neural Networks)"
      ]
    },
    {
      "cell_type": "code",
      "metadata": {
        "id": "qRsxxH32hDYg"
      },
      "source": [
        "from tensorflow.keras.layers import Input, Dense\n",
        "from tensorflow.keras.models import Model"
      ],
      "execution_count": 20,
      "outputs": []
    },
    {
      "cell_type": "code",
      "metadata": {
        "id": "9W28qN5xhORg"
      },
      "source": [
        "inputs = Input(shape=(10,))\n",
        "hidden1 = Dense(64, activation='relu')(inputs)\n",
        "hidden2 = Dense(64, activation='relu')(hidden1)\n",
        "output = Dense(1, activation='sigmoid')(hidden2)\n",
        "model = Model(inputs=inputs, outputs=output)"
      ],
      "execution_count": 25,
      "outputs": []
    },
    {
      "cell_type": "code",
      "metadata": {
        "id": "Dxr1LrcEhT-Q",
        "colab": {
          "base_uri": "https://localhost:8080/"
        },
        "outputId": "f79c74b1-0e14-4a11-9ce7-f1513beb2d41"
      },
      "source": [
        "model.compile(optimizer='rmsprop', loss='categorical_crossentropy', metrics=['accuracy'])\n",
        "model.summary()"
      ],
      "execution_count": 26,
      "outputs": [
        {
          "output_type": "stream",
          "name": "stdout",
          "text": [
            "Model: \"model\"\n",
            "_________________________________________________________________\n",
            " Layer (type)                Output Shape              Param #   \n",
            "=================================================================\n",
            " input_1 (InputLayer)        [(None, 10)]              0         \n",
            "                                                                 \n",
            " dense_7 (Dense)             (None, 64)                704       \n",
            "                                                                 \n",
            " dense_8 (Dense)             (None, 64)                4160      \n",
            "                                                                 \n",
            " dense_9 (Dense)             (None, 1)                 65        \n",
            "                                                                 \n",
            "=================================================================\n",
            "Total params: 4,929\n",
            "Trainable params: 4,929\n",
            "Non-trainable params: 0\n",
            "_________________________________________________________________\n"
          ]
        }
      ]
    },
    {
      "cell_type": "code",
      "metadata": {
        "id": "CBJ3779yyvG0",
        "colab": {
          "base_uri": "https://localhost:8080/",
          "height": 422
        },
        "outputId": "2767b505-a9c0-40e8-c038-039c94ae3e1e"
      },
      "source": [
        "plot_model(model, show_shapes=True, show_layer_names=True, to_file='model_F.png')"
      ],
      "execution_count": 29,
      "outputs": [
        {
          "output_type": "execute_result",
          "data": {
            "image/png": "[encoded data removed]",
            "text/plain": [
              "<IPython.core.display.Image object>"
            ]
          },
          "metadata": {},
          "execution_count": 29
        }
      ]
    },
    {
      "cell_type": "markdown",
      "metadata": {
        "id": "MXNy5F8rhnYs"
      },
      "source": [
        "## 2-2. Linear Regression\n",
        "> 참고: https://wikidocs.net/111472"
      ]
    },
    {
      "cell_type": "code",
      "metadata": {
        "id": "3y3m4iG0hnHx",
        "colab": {
          "base_uri": "https://localhost:8080/"
        },
        "outputId": "abf389f7-22a1-4394-c713-fe37390a18f4"
      },
      "source": [
        "from tensorflow.keras.layers import Input, Dense\n",
        "from tensorflow.keras import optimizers\n",
        "from tensorflow.keras.models import Model\n",
        "\n",
        "X = [1, 2, 3, 4, 5, 6, 7, 8, 9] # 공부하는 시간\n",
        "y = [11, 22, 33, 44, 53, 66, 77, 87, 95] # 각 공부하는 시간에 맵핑되는 성적\n",
        "\n",
        "inputs = Input(shape=(1,))\n",
        "output = Dense(1, activation='linear')(inputs)\n",
        "linear_model = Model(inputs, output)\n",
        "\n",
        "sgd = optimizers.SGD(learning_rate=0.01)\n",
        "\n",
        "linear_model.compile(optimizer=sgd ,loss='mse',metrics=['mse'])\n",
        "linear_model.fit(X, y, epochs=300)"
      ],
      "execution_count": 30,
      "outputs": [
        {
          "output_type": "stream",
          "name": "stdout",
          "text": [
            "Epoch 1/300\n",
            "1/1 [==============================] - 1s 646ms/step - loss: 3144.1455 - mse: 3144.1455\n",
            "Epoch 2/300\n",
            "1/1 [==============================] - 0s 11ms/step - loss: 387.8929 - mse: 387.8929\n",
            "Epoch 3/300\n",
            "1/1 [==============================] - 0s 10ms/step - loss: 48.7559 - mse: 48.7559\n",
            "Epoch 4/300\n",
            "1/1 [==============================] - 0s 6ms/step - loss: 7.0267 - mse: 7.0267\n",
            "Epoch 5/300\n",
            "1/1 [==============================] - 0s 6ms/step - loss: 1.8915 - mse: 1.8915\n",
            "Epoch 6/300\n",
            "1/1 [==============================] - 0s 5ms/step - loss: 1.2588 - mse: 1.2588\n",
            "Epoch 7/300\n",
            "1/1 [==============================] - 0s 8ms/step - loss: 1.1802 - mse: 1.1802\n",
            "Epoch 8/300\n",
            "1/1 [==============================] - 0s 5ms/step - loss: 1.1697 - mse: 1.1697\n",
            "Epoch 9/300\n",
            "1/1 [==============================] - 0s 7ms/step - loss: 1.1677 - mse: 1.1677\n",
            "Epoch 10/300\n",
            "1/1 [==============================] - 0s 6ms/step - loss: 1.1666 - mse: 1.1666\n",
            "Epoch 11/300\n",
            "1/1 [==============================] - 0s 6ms/step - loss: 1.1657 - mse: 1.1657\n",
            "Epoch 12/300\n",
            "1/1 [==============================] - 0s 5ms/step - loss: 1.1649 - mse: 1.1649\n",
            "Epoch 13/300\n",
            "1/1 [==============================] - 0s 9ms/step - loss: 1.1640 - mse: 1.1640\n",
            "Epoch 14/300\n",
            "1/1 [==============================] - 0s 8ms/step - loss: 1.1632 - mse: 1.1632\n",
            "Epoch 15/300\n",
            "1/1 [==============================] - 0s 6ms/step - loss: 1.1623 - mse: 1.1623\n",
            "Epoch 16/300\n",
            "1/1 [==============================] - 0s 6ms/step - loss: 1.1615 - mse: 1.1615\n",
            "Epoch 17/300\n",
            "1/1 [==============================] - 0s 5ms/step - loss: 1.1606 - mse: 1.1606\n",
            "Epoch 18/300\n",
            "1/1 [==============================] - 0s 9ms/step - loss: 1.1598 - mse: 1.1598\n",
            "Epoch 19/300\n",
            "1/1 [==============================] - 0s 9ms/step - loss: 1.1590 - mse: 1.1590\n",
            "Epoch 20/300\n",
            "1/1 [==============================] - 0s 11ms/step - loss: 1.1582 - mse: 1.1582\n",
            "Epoch 21/300\n",
            "1/1 [==============================] - 0s 10ms/step - loss: 1.1574 - mse: 1.1574\n",
            "Epoch 22/300\n",
            "1/1 [==============================] - 0s 6ms/step - loss: 1.1566 - mse: 1.1566\n",
            "Epoch 23/300\n",
            "1/1 [==============================] - 0s 13ms/step - loss: 1.1558 - mse: 1.1558\n",
            "Epoch 24/300\n",
            "1/1 [==============================] - 0s 6ms/step - loss: 1.1550 - mse: 1.1550\n",
            "Epoch 25/300\n",
            "1/1 [==============================] - 0s 9ms/step - loss: 1.1542 - mse: 1.1542\n",
            "Epoch 26/300\n",
            "1/1 [==============================] - 0s 5ms/step - loss: 1.1534 - mse: 1.1534\n",
            "Epoch 27/300\n",
            "1/1 [==============================] - 0s 7ms/step - loss: 1.1527 - mse: 1.1527\n",
            "Epoch 28/300\n",
            "1/1 [==============================] - 0s 6ms/step - loss: 1.1519 - mse: 1.1519\n",
            "Epoch 29/300\n",
            "1/1 [==============================] - 0s 6ms/step - loss: 1.1512 - mse: 1.1512\n",
            "Epoch 30/300\n",
            "1/1 [==============================] - 0s 5ms/step - loss: 1.1504 - mse: 1.1504\n",
            "Epoch 31/300\n",
            "1/1 [==============================] - 0s 5ms/step - loss: 1.1497 - mse: 1.1497\n",
            "Epoch 32/300\n",
            "1/1 [==============================] - 0s 5ms/step - loss: 1.1489 - mse: 1.1489\n",
            "Epoch 33/300\n",
            "1/1 [==============================] - 0s 5ms/step - loss: 1.1482 - mse: 1.1482\n",
            "Epoch 34/300\n",
            "1/1 [==============================] - 0s 6ms/step - loss: 1.1475 - mse: 1.1475\n",
            "Epoch 35/300\n",
            "1/1 [==============================] - 0s 12ms/step - loss: 1.1468 - mse: 1.1468\n",
            "Epoch 36/300\n",
            "1/1 [==============================] - 0s 8ms/step - loss: 1.1461 - mse: 1.1461\n",
            "Epoch 37/300\n",
            "1/1 [==============================] - 0s 6ms/step - loss: 1.1453 - mse: 1.1453\n",
            "Epoch 38/300\n",
            "1/1 [==============================] - 0s 13ms/step - loss: 1.1446 - mse: 1.1446\n",
            "Epoch 39/300\n",
            "1/1 [==============================] - 0s 5ms/step - loss: 1.1439 - mse: 1.1439\n",
            "Epoch 40/300\n",
            "1/1 [==============================] - 0s 6ms/step - loss: 1.1433 - mse: 1.1433\n",
            "Epoch 41/300\n",
            "1/1 [==============================] - 0s 13ms/step - loss: 1.1426 - mse: 1.1426\n",
            "Epoch 42/300\n",
            "1/1 [==============================] - 0s 4ms/step - loss: 1.1419 - mse: 1.1419\n",
            "Epoch 43/300\n",
            "1/1 [==============================] - 0s 11ms/step - loss: 1.1412 - mse: 1.1412\n",
            "Epoch 44/300\n",
            "1/1 [==============================] - 0s 5ms/step - loss: 1.1406 - mse: 1.1406\n",
            "Epoch 45/300\n",
            "1/1 [==============================] - 0s 5ms/step - loss: 1.1399 - mse: 1.1399\n",
            "Epoch 46/300\n",
            "1/1 [==============================] - 0s 6ms/step - loss: 1.1392 - mse: 1.1392\n",
            "Epoch 47/300\n",
            "1/1 [==============================] - 0s 7ms/step - loss: 1.1386 - mse: 1.1386\n",
            "Epoch 48/300\n",
            "1/1 [==============================] - 0s 6ms/step - loss: 1.1379 - mse: 1.1379\n",
            "Epoch 49/300\n",
            "1/1 [==============================] - 0s 5ms/step - loss: 1.1373 - mse: 1.1373\n",
            "Epoch 50/300\n",
            "1/1 [==============================] - 0s 6ms/step - loss: 1.1367 - mse: 1.1367\n",
            "Epoch 51/300\n",
            "1/1 [==============================] - 0s 6ms/step - loss: 1.1360 - mse: 1.1360\n",
            "Epoch 52/300\n",
            "1/1 [==============================] - 0s 7ms/step - loss: 1.1354 - mse: 1.1354\n",
            "Epoch 53/300\n",
            "1/1 [==============================] - 0s 5ms/step - loss: 1.1348 - mse: 1.1348\n",
            "Epoch 54/300\n",
            "1/1 [==============================] - 0s 5ms/step - loss: 1.1342 - mse: 1.1342\n",
            "Epoch 55/300\n",
            "1/1 [==============================] - 0s 8ms/step - loss: 1.1336 - mse: 1.1336\n",
            "Epoch 56/300\n",
            "1/1 [==============================] - 0s 5ms/step - loss: 1.1330 - mse: 1.1330\n",
            "Epoch 57/300\n",
            "1/1 [==============================] - 0s 5ms/step - loss: 1.1324 - mse: 1.1324\n",
            "Epoch 58/300\n",
            "1/1 [==============================] - 0s 6ms/step - loss: 1.1318 - mse: 1.1318\n",
            "Epoch 59/300\n",
            "1/1 [==============================] - 0s 6ms/step - loss: 1.1312 - mse: 1.1312\n",
            "Epoch 60/300\n",
            "1/1 [==============================] - 0s 5ms/step - loss: 1.1306 - mse: 1.1306\n",
            "Epoch 61/300\n",
            "1/1 [==============================] - 0s 8ms/step - loss: 1.1300 - mse: 1.1300\n",
            "Epoch 62/300\n",
            "1/1 [==============================] - 0s 6ms/step - loss: 1.1294 - mse: 1.1294\n",
            "Epoch 63/300\n",
            "1/1 [==============================] - 0s 6ms/step - loss: 1.1289 - mse: 1.1289\n",
            "Epoch 64/300\n",
            "1/1 [==============================] - 0s 6ms/step - loss: 1.1283 - mse: 1.1283\n",
            "Epoch 65/300\n",
            "1/1 [==============================] - 0s 5ms/step - loss: 1.1277 - mse: 1.1277\n",
            "Epoch 66/300\n",
            "1/1 [==============================] - 0s 7ms/step - loss: 1.1272 - mse: 1.1272\n",
            "Epoch 67/300\n",
            "1/1 [==============================] - 0s 6ms/step - loss: 1.1266 - mse: 1.1266\n",
            "Epoch 68/300\n",
            "1/1 [==============================] - 0s 10ms/step - loss: 1.1261 - mse: 1.1261\n",
            "Epoch 69/300\n",
            "1/1 [==============================] - 0s 7ms/step - loss: 1.1256 - mse: 1.1256\n",
            "Epoch 70/300\n",
            "1/1 [==============================] - 0s 4ms/step - loss: 1.1250 - mse: 1.1250\n",
            "Epoch 71/300\n",
            "1/1 [==============================] - 0s 5ms/step - loss: 1.1245 - mse: 1.1245\n",
            "Epoch 72/300\n",
            "1/1 [==============================] - 0s 6ms/step - loss: 1.1239 - mse: 1.1239\n",
            "Epoch 73/300\n",
            "1/1 [==============================] - 0s 6ms/step - loss: 1.1234 - mse: 1.1234\n",
            "Epoch 74/300\n",
            "1/1 [==============================] - 0s 6ms/step - loss: 1.1229 - mse: 1.1229\n",
            "Epoch 75/300\n",
            "1/1 [==============================] - 0s 6ms/step - loss: 1.1224 - mse: 1.1224\n",
            "Epoch 76/300\n",
            "1/1 [==============================] - 0s 5ms/step - loss: 1.1219 - mse: 1.1219\n",
            "Epoch 77/300\n",
            "1/1 [==============================] - 0s 8ms/step - loss: 1.1214 - mse: 1.1214\n",
            "Epoch 78/300\n",
            "1/1 [==============================] - 0s 9ms/step - loss: 1.1209 - mse: 1.1209\n",
            "Epoch 79/300\n",
            "1/1 [==============================] - 0s 7ms/step - loss: 1.1204 - mse: 1.1204\n",
            "Epoch 80/300\n",
            "1/1 [==============================] - 0s 7ms/step - loss: 1.1199 - mse: 1.1199\n",
            "Epoch 81/300\n",
            "1/1 [==============================] - 0s 5ms/step - loss: 1.1194 - mse: 1.1194\n",
            "Epoch 82/300\n",
            "1/1 [==============================] - 0s 7ms/step - loss: 1.1189 - mse: 1.1189\n",
            "Epoch 83/300\n",
            "1/1 [==============================] - 0s 5ms/step - loss: 1.1184 - mse: 1.1184\n",
            "Epoch 84/300\n",
            "1/1 [==============================] - 0s 6ms/step - loss: 1.1179 - mse: 1.1179\n",
            "Epoch 85/300\n",
            "1/1 [==============================] - 0s 6ms/step - loss: 1.1174 - mse: 1.1174\n",
            "Epoch 86/300\n",
            "1/1 [==============================] - 0s 6ms/step - loss: 1.1170 - mse: 1.1170\n",
            "Epoch 87/300\n",
            "1/1 [==============================] - 0s 5ms/step - loss: 1.1165 - mse: 1.1165\n",
            "Epoch 88/300\n",
            "1/1 [==============================] - 0s 5ms/step - loss: 1.1160 - mse: 1.1160\n",
            "Epoch 89/300\n",
            "1/1 [==============================] - 0s 5ms/step - loss: 1.1156 - mse: 1.1156\n",
            "Epoch 90/300\n",
            "1/1 [==============================] - 0s 9ms/step - loss: 1.1151 - mse: 1.1151\n",
            "Epoch 91/300\n",
            "1/1 [==============================] - 0s 6ms/step - loss: 1.1147 - mse: 1.1147\n",
            "Epoch 92/300\n",
            "1/1 [==============================] - 0s 6ms/step - loss: 1.1142 - mse: 1.1142\n",
            "Epoch 93/300\n",
            "1/1 [==============================] - 0s 7ms/step - loss: 1.1138 - mse: 1.1138\n",
            "Epoch 94/300\n",
            "1/1 [==============================] - 0s 6ms/step - loss: 1.1133 - mse: 1.1133\n",
            "Epoch 95/300\n",
            "1/1 [==============================] - 0s 5ms/step - loss: 1.1129 - mse: 1.1129\n",
            "Epoch 96/300\n",
            "1/1 [==============================] - 0s 6ms/step - loss: 1.1125 - mse: 1.1125\n",
            "Epoch 97/300\n",
            "1/1 [==============================] - 0s 5ms/step - loss: 1.1120 - mse: 1.1120\n",
            "Epoch 98/300\n",
            "1/1 [==============================] - 0s 5ms/step - loss: 1.1116 - mse: 1.1116\n",
            "Epoch 99/300\n",
            "1/1 [==============================] - 0s 5ms/step - loss: 1.1112 - mse: 1.1112\n",
            "Epoch 100/300\n",
            "1/1 [==============================] - 0s 5ms/step - loss: 1.1108 - mse: 1.1108\n",
            "Epoch 101/300\n",
            "1/1 [==============================] - 0s 6ms/step - loss: 1.1103 - mse: 1.1103\n",
            "Epoch 102/300\n",
            "1/1 [==============================] - 0s 7ms/step - loss: 1.1099 - mse: 1.1099\n",
            "Epoch 103/300\n",
            "1/1 [==============================] - 0s 7ms/step - loss: 1.1095 - mse: 1.1095\n",
            "Epoch 104/300\n",
            "1/1 [==============================] - 0s 6ms/step - loss: 1.1091 - mse: 1.1091\n",
            "Epoch 105/300\n",
            "1/1 [==============================] - 0s 8ms/step - loss: 1.1087 - mse: 1.1087\n",
            "Epoch 106/300\n",
            "1/1 [==============================] - 0s 6ms/step - loss: 1.1083 - mse: 1.1083\n",
            "Epoch 107/300\n",
            "1/1 [==============================] - 0s 6ms/step - loss: 1.1079 - mse: 1.1079\n",
            "Epoch 108/300\n",
            "1/1 [==============================] - 0s 7ms/step - loss: 1.1075 - mse: 1.1075\n",
            "Epoch 109/300\n",
            "1/1 [==============================] - 0s 11ms/step - loss: 1.1071 - mse: 1.1071\n",
            "Epoch 110/300\n",
            "1/1 [==============================] - 0s 5ms/step - loss: 1.1067 - mse: 1.1067\n",
            "Epoch 111/300\n",
            "1/1 [==============================] - 0s 10ms/step - loss: 1.1064 - mse: 1.1064\n",
            "Epoch 112/300\n",
            "1/1 [==============================] - 0s 5ms/step - loss: 1.1060 - mse: 1.1060\n",
            "Epoch 113/300\n",
            "1/1 [==============================] - 0s 5ms/step - loss: 1.1056 - mse: 1.1056\n",
            "Epoch 114/300\n",
            "1/1 [==============================] - 0s 5ms/step - loss: 1.1052 - mse: 1.1052\n",
            "Epoch 115/300\n",
            "1/1 [==============================] - 0s 5ms/step - loss: 1.1048 - mse: 1.1048\n",
            "Epoch 116/300\n",
            "1/1 [==============================] - 0s 11ms/step - loss: 1.1045 - mse: 1.1045\n",
            "Epoch 117/300\n",
            "1/1 [==============================] - 0s 5ms/step - loss: 1.1041 - mse: 1.1041\n",
            "Epoch 118/300\n",
            "1/1 [==============================] - 0s 6ms/step - loss: 1.1037 - mse: 1.1037\n",
            "Epoch 119/300\n",
            "1/1 [==============================] - 0s 9ms/step - loss: 1.1034 - mse: 1.1034\n",
            "Epoch 120/300\n",
            "1/1 [==============================] - 0s 5ms/step - loss: 1.1030 - mse: 1.1030\n",
            "Epoch 121/300\n",
            "1/1 [==============================] - 0s 5ms/step - loss: 1.1027 - mse: 1.1027\n",
            "Epoch 122/300\n",
            "1/1 [==============================] - 0s 5ms/step - loss: 1.1023 - mse: 1.1023\n",
            "Epoch 123/300\n",
            "1/1 [==============================] - 0s 6ms/step - loss: 1.1020 - mse: 1.1020\n",
            "Epoch 124/300\n",
            "1/1 [==============================] - 0s 5ms/step - loss: 1.1016 - mse: 1.1016\n",
            "Epoch 125/300\n",
            "1/1 [==============================] - 0s 5ms/step - loss: 1.1013 - mse: 1.1013\n",
            "Epoch 126/300\n",
            "1/1 [==============================] - 0s 8ms/step - loss: 1.1010 - mse: 1.1010\n",
            "Epoch 127/300\n",
            "1/1 [==============================] - 0s 10ms/step - loss: 1.1006 - mse: 1.1006\n",
            "Epoch 128/300\n",
            "1/1 [==============================] - 0s 5ms/step - loss: 1.1003 - mse: 1.1003\n",
            "Epoch 129/300\n",
            "1/1 [==============================] - 0s 5ms/step - loss: 1.1000 - mse: 1.1000\n",
            "Epoch 130/300\n",
            "1/1 [==============================] - 0s 6ms/step - loss: 1.0996 - mse: 1.0996\n",
            "Epoch 131/300\n",
            "1/1 [==============================] - 0s 7ms/step - loss: 1.0993 - mse: 1.0993\n",
            "Epoch 132/300\n",
            "1/1 [==============================] - 0s 7ms/step - loss: 1.0990 - mse: 1.0990\n",
            "Epoch 133/300\n",
            "1/1 [==============================] - 0s 5ms/step - loss: 1.0987 - mse: 1.0987\n",
            "Epoch 134/300\n",
            "1/1 [==============================] - 0s 8ms/step - loss: 1.0983 - mse: 1.0983\n",
            "Epoch 135/300\n",
            "1/1 [==============================] - 0s 5ms/step - loss: 1.0980 - mse: 1.0980\n",
            "Epoch 136/300\n",
            "1/1 [==============================] - 0s 6ms/step - loss: 1.0977 - mse: 1.0977\n",
            "Epoch 137/300\n",
            "1/1 [==============================] - 0s 10ms/step - loss: 1.0974 - mse: 1.0974\n",
            "Epoch 138/300\n",
            "1/1 [==============================] - 0s 5ms/step - loss: 1.0971 - mse: 1.0971\n",
            "Epoch 139/300\n",
            "1/1 [==============================] - 0s 6ms/step - loss: 1.0968 - mse: 1.0968\n",
            "Epoch 140/300\n",
            "1/1 [==============================] - 0s 9ms/step - loss: 1.0965 - mse: 1.0965\n",
            "Epoch 141/300\n",
            "1/1 [==============================] - 0s 6ms/step - loss: 1.0962 - mse: 1.0962\n",
            "Epoch 142/300\n",
            "1/1 [==============================] - 0s 12ms/step - loss: 1.0959 - mse: 1.0959\n",
            "Epoch 143/300\n",
            "1/1 [==============================] - 0s 5ms/step - loss: 1.0956 - mse: 1.0956\n",
            "Epoch 144/300\n",
            "1/1 [==============================] - 0s 10ms/step - loss: 1.0953 - mse: 1.0953\n",
            "Epoch 145/300\n",
            "1/1 [==============================] - 0s 7ms/step - loss: 1.0950 - mse: 1.0950\n",
            "Epoch 146/300\n",
            "1/1 [==============================] - 0s 10ms/step - loss: 1.0947 - mse: 1.0947\n",
            "Epoch 147/300\n",
            "1/1 [==============================] - 0s 6ms/step - loss: 1.0944 - mse: 1.0944\n",
            "Epoch 148/300\n",
            "1/1 [==============================] - 0s 7ms/step - loss: 1.0942 - mse: 1.0942\n",
            "Epoch 149/300\n",
            "1/1 [==============================] - 0s 6ms/step - loss: 1.0939 - mse: 1.0939\n",
            "Epoch 150/300\n",
            "1/1 [==============================] - 0s 5ms/step - loss: 1.0936 - mse: 1.0936\n",
            "Epoch 151/300\n",
            "1/1 [==============================] - 0s 5ms/step - loss: 1.0933 - mse: 1.0933\n",
            "Epoch 152/300\n",
            "1/1 [==============================] - 0s 6ms/step - loss: 1.0930 - mse: 1.0930\n",
            "Epoch 153/300\n",
            "1/1 [==============================] - 0s 6ms/step - loss: 1.0928 - mse: 1.0928\n",
            "Epoch 154/300\n",
            "1/1 [==============================] - 0s 6ms/step - loss: 1.0925 - mse: 1.0925\n",
            "Epoch 155/300\n",
            "1/1 [==============================] - 0s 7ms/step - loss: 1.0922 - mse: 1.0922\n",
            "Epoch 156/300\n",
            "1/1 [==============================] - 0s 9ms/step - loss: 1.0920 - mse: 1.0920\n",
            "Epoch 157/300\n",
            "1/1 [==============================] - 0s 5ms/step - loss: 1.0917 - mse: 1.0917\n",
            "Epoch 158/300\n",
            "1/1 [==============================] - 0s 7ms/step - loss: 1.0914 - mse: 1.0914\n",
            "Epoch 159/300\n",
            "1/1 [==============================] - 0s 6ms/step - loss: 1.0912 - mse: 1.0912\n",
            "Epoch 160/300\n",
            "1/1 [==============================] - 0s 10ms/step - loss: 1.0909 - mse: 1.0909\n",
            "Epoch 161/300\n",
            "1/1 [==============================] - 0s 6ms/step - loss: 1.0907 - mse: 1.0907\n",
            "Epoch 162/300\n",
            "1/1 [==============================] - 0s 7ms/step - loss: 1.0904 - mse: 1.0904\n",
            "Epoch 163/300\n",
            "1/1 [==============================] - 0s 8ms/step - loss: 1.0902 - mse: 1.0902\n",
            "Epoch 164/300\n",
            "1/1 [==============================] - 0s 11ms/step - loss: 1.0899 - mse: 1.0899\n",
            "Epoch 165/300\n",
            "1/1 [==============================] - 0s 4ms/step - loss: 1.0897 - mse: 1.0897\n",
            "Epoch 166/300\n",
            "1/1 [==============================] - 0s 9ms/step - loss: 1.0894 - mse: 1.0894\n",
            "Epoch 167/300\n",
            "1/1 [==============================] - 0s 11ms/step - loss: 1.0892 - mse: 1.0892\n",
            "Epoch 168/300\n",
            "1/1 [==============================] - 0s 5ms/step - loss: 1.0889 - mse: 1.0889\n",
            "Epoch 169/300\n",
            "1/1 [==============================] - 0s 11ms/step - loss: 1.0887 - mse: 1.0887\n",
            "Epoch 170/300\n",
            "1/1 [==============================] - 0s 6ms/step - loss: 1.0885 - mse: 1.0885\n",
            "Epoch 171/300\n",
            "1/1 [==============================] - 0s 11ms/step - loss: 1.0882 - mse: 1.0882\n",
            "Epoch 172/300\n",
            "1/1 [==============================] - 0s 14ms/step - loss: 1.0880 - mse: 1.0880\n",
            "Epoch 173/300\n",
            "1/1 [==============================] - 0s 9ms/step - loss: 1.0878 - mse: 1.0878\n",
            "Epoch 174/300\n",
            "1/1 [==============================] - 0s 12ms/step - loss: 1.0875 - mse: 1.0875\n",
            "Epoch 175/300\n",
            "1/1 [==============================] - 0s 7ms/step - loss: 1.0873 - mse: 1.0873\n",
            "Epoch 176/300\n",
            "1/1 [==============================] - 0s 6ms/step - loss: 1.0871 - mse: 1.0871\n",
            "Epoch 177/300\n",
            "1/1 [==============================] - 0s 5ms/step - loss: 1.0869 - mse: 1.0869\n",
            "Epoch 178/300\n",
            "1/1 [==============================] - 0s 6ms/step - loss: 1.0867 - mse: 1.0867\n",
            "Epoch 179/300\n",
            "1/1 [==============================] - 0s 6ms/step - loss: 1.0864 - mse: 1.0864\n",
            "Epoch 180/300\n",
            "1/1 [==============================] - 0s 6ms/step - loss: 1.0862 - mse: 1.0862\n",
            "Epoch 181/300\n",
            "1/1 [==============================] - 0s 5ms/step - loss: 1.0860 - mse: 1.0860\n",
            "Epoch 182/300\n",
            "1/1 [==============================] - 0s 6ms/step - loss: 1.0858 - mse: 1.0858\n",
            "Epoch 183/300\n",
            "1/1 [==============================] - 0s 6ms/step - loss: 1.0856 - mse: 1.0856\n",
            "Epoch 184/300\n",
            "1/1 [==============================] - 0s 6ms/step - loss: 1.0854 - mse: 1.0854\n",
            "Epoch 185/300\n",
            "1/1 [==============================] - 0s 10ms/step - loss: 1.0852 - mse: 1.0852\n",
            "Epoch 186/300\n",
            "1/1 [==============================] - 0s 11ms/step - loss: 1.0849 - mse: 1.0849\n",
            "Epoch 187/300\n",
            "1/1 [==============================] - 0s 10ms/step - loss: 1.0847 - mse: 1.0847\n",
            "Epoch 188/300\n",
            "1/1 [==============================] - 0s 6ms/step - loss: 1.0845 - mse: 1.0845\n",
            "Epoch 189/300\n",
            "1/1 [==============================] - 0s 8ms/step - loss: 1.0843 - mse: 1.0843\n",
            "Epoch 190/300\n",
            "1/1 [==============================] - 0s 5ms/step - loss: 1.0841 - mse: 1.0841\n",
            "Epoch 191/300\n",
            "1/1 [==============================] - 0s 5ms/step - loss: 1.0839 - mse: 1.0839\n",
            "Epoch 192/300\n",
            "1/1 [==============================] - 0s 6ms/step - loss: 1.0837 - mse: 1.0837\n",
            "Epoch 193/300\n",
            "1/1 [==============================] - 0s 5ms/step - loss: 1.0835 - mse: 1.0835\n",
            "Epoch 194/300\n",
            "1/1 [==============================] - 0s 6ms/step - loss: 1.0833 - mse: 1.0833\n",
            "Epoch 195/300\n",
            "1/1 [==============================] - 0s 5ms/step - loss: 1.0832 - mse: 1.0832\n",
            "Epoch 196/300\n",
            "1/1 [==============================] - 0s 6ms/step - loss: 1.0830 - mse: 1.0830\n",
            "Epoch 197/300\n",
            "1/1 [==============================] - 0s 10ms/step - loss: 1.0828 - mse: 1.0828\n",
            "Epoch 198/300\n",
            "1/1 [==============================] - 0s 9ms/step - loss: 1.0826 - mse: 1.0826\n",
            "Epoch 199/300\n",
            "1/1 [==============================] - 0s 6ms/step - loss: 1.0824 - mse: 1.0824\n",
            "Epoch 200/300\n",
            "1/1 [==============================] - 0s 6ms/step - loss: 1.0822 - mse: 1.0822\n",
            "Epoch 201/300\n",
            "1/1 [==============================] - 0s 5ms/step - loss: 1.0820 - mse: 1.0820\n",
            "Epoch 202/300\n",
            "1/1 [==============================] - 0s 6ms/step - loss: 1.0818 - mse: 1.0818\n",
            "Epoch 203/300\n",
            "1/1 [==============================] - 0s 5ms/step - loss: 1.0817 - mse: 1.0817\n",
            "Epoch 204/300\n",
            "1/1 [==============================] - 0s 7ms/step - loss: 1.0815 - mse: 1.0815\n",
            "Epoch 205/300\n",
            "1/1 [==============================] - 0s 7ms/step - loss: 1.0813 - mse: 1.0813\n",
            "Epoch 206/300\n",
            "1/1 [==============================] - 0s 7ms/step - loss: 1.0811 - mse: 1.0811\n",
            "Epoch 207/300\n",
            "1/1 [==============================] - 0s 5ms/step - loss: 1.0810 - mse: 1.0810\n",
            "Epoch 208/300\n",
            "1/1 [==============================] - 0s 6ms/step - loss: 1.0808 - mse: 1.0808\n",
            "Epoch 209/300\n",
            "1/1 [==============================] - 0s 6ms/step - loss: 1.0806 - mse: 1.0806\n",
            "Epoch 210/300\n",
            "1/1 [==============================] - 0s 10ms/step - loss: 1.0804 - mse: 1.0804\n",
            "Epoch 211/300\n",
            "1/1 [==============================] - 0s 9ms/step - loss: 1.0803 - mse: 1.0803\n",
            "Epoch 212/300\n",
            "1/1 [==============================] - 0s 5ms/step - loss: 1.0801 - mse: 1.0801\n",
            "Epoch 213/300\n",
            "1/1 [==============================] - 0s 5ms/step - loss: 1.0799 - mse: 1.0799\n",
            "Epoch 214/300\n",
            "1/1 [==============================] - 0s 11ms/step - loss: 1.0798 - mse: 1.0798\n",
            "Epoch 215/300\n",
            "1/1 [==============================] - 0s 6ms/step - loss: 1.0796 - mse: 1.0796\n",
            "Epoch 216/300\n",
            "1/1 [==============================] - 0s 6ms/step - loss: 1.0795 - mse: 1.0795\n",
            "Epoch 217/300\n",
            "1/1 [==============================] - 0s 11ms/step - loss: 1.0793 - mse: 1.0793\n",
            "Epoch 218/300\n",
            "1/1 [==============================] - 0s 9ms/step - loss: 1.0791 - mse: 1.0791\n",
            "Epoch 219/300\n",
            "1/1 [==============================] - 0s 11ms/step - loss: 1.0790 - mse: 1.0790\n",
            "Epoch 220/300\n",
            "1/1 [==============================] - 0s 8ms/step - loss: 1.0788 - mse: 1.0788\n",
            "Epoch 221/300\n",
            "1/1 [==============================] - 0s 5ms/step - loss: 1.0787 - mse: 1.0787\n",
            "Epoch 222/300\n",
            "1/1 [==============================] - 0s 6ms/step - loss: 1.0785 - mse: 1.0785\n",
            "Epoch 223/300\n",
            "1/1 [==============================] - 0s 6ms/step - loss: 1.0784 - mse: 1.0784\n",
            "Epoch 224/300\n",
            "1/1 [==============================] - 0s 5ms/step - loss: 1.0782 - mse: 1.0782\n",
            "Epoch 225/300\n",
            "1/1 [==============================] - 0s 5ms/step - loss: 1.0781 - mse: 1.0781\n",
            "Epoch 226/300\n",
            "1/1 [==============================] - 0s 5ms/step - loss: 1.0779 - mse: 1.0779\n",
            "Epoch 227/300\n",
            "1/1 [==============================] - 0s 5ms/step - loss: 1.0778 - mse: 1.0778\n",
            "Epoch 228/300\n",
            "1/1 [==============================] - 0s 7ms/step - loss: 1.0776 - mse: 1.0776\n",
            "Epoch 229/300\n",
            "1/1 [==============================] - 0s 6ms/step - loss: 1.0775 - mse: 1.0775\n",
            "Epoch 230/300\n",
            "1/1 [==============================] - 0s 6ms/step - loss: 1.0773 - mse: 1.0773\n",
            "Epoch 231/300\n",
            "1/1 [==============================] - 0s 13ms/step - loss: 1.0772 - mse: 1.0772\n",
            "Epoch 232/300\n",
            "1/1 [==============================] - 0s 5ms/step - loss: 1.0770 - mse: 1.0770\n",
            "Epoch 233/300\n",
            "1/1 [==============================] - 0s 5ms/step - loss: 1.0769 - mse: 1.0769\n",
            "Epoch 234/300\n",
            "1/1 [==============================] - 0s 7ms/step - loss: 1.0768 - mse: 1.0768\n",
            "Epoch 235/300\n",
            "1/1 [==============================] - 0s 15ms/step - loss: 1.0766 - mse: 1.0766\n",
            "Epoch 236/300\n",
            "1/1 [==============================] - 0s 5ms/step - loss: 1.0765 - mse: 1.0765\n",
            "Epoch 237/300\n",
            "1/1 [==============================] - 0s 10ms/step - loss: 1.0763 - mse: 1.0763\n",
            "Epoch 238/300\n",
            "1/1 [==============================] - 0s 7ms/step - loss: 1.0762 - mse: 1.0762\n",
            "Epoch 239/300\n",
            "1/1 [==============================] - 0s 8ms/step - loss: 1.0761 - mse: 1.0761\n",
            "Epoch 240/300\n",
            "1/1 [==============================] - 0s 8ms/step - loss: 1.0759 - mse: 1.0759\n",
            "Epoch 241/300\n",
            "1/1 [==============================] - 0s 7ms/step - loss: 1.0758 - mse: 1.0758\n",
            "Epoch 242/300\n",
            "1/1 [==============================] - 0s 6ms/step - loss: 1.0757 - mse: 1.0757\n",
            "Epoch 243/300\n",
            "1/1 [==============================] - 0s 6ms/step - loss: 1.0756 - mse: 1.0756\n",
            "Epoch 244/300\n",
            "1/1 [==============================] - 0s 6ms/step - loss: 1.0754 - mse: 1.0754\n",
            "Epoch 245/300\n",
            "1/1 [==============================] - 0s 5ms/step - loss: 1.0753 - mse: 1.0753\n",
            "Epoch 246/300\n",
            "1/1 [==============================] - 0s 6ms/step - loss: 1.0752 - mse: 1.0752\n",
            "Epoch 247/300\n",
            "1/1 [==============================] - 0s 6ms/step - loss: 1.0750 - mse: 1.0750\n",
            "Epoch 248/300\n",
            "1/1 [==============================] - 0s 7ms/step - loss: 1.0749 - mse: 1.0749\n",
            "Epoch 249/300\n",
            "1/1 [==============================] - 0s 7ms/step - loss: 1.0748 - mse: 1.0748\n",
            "Epoch 250/300\n",
            "1/1 [==============================] - 0s 6ms/step - loss: 1.0747 - mse: 1.0747\n",
            "Epoch 251/300\n",
            "1/1 [==============================] - 0s 12ms/step - loss: 1.0746 - mse: 1.0746\n",
            "Epoch 252/300\n",
            "1/1 [==============================] - 0s 5ms/step - loss: 1.0744 - mse: 1.0744\n",
            "Epoch 253/300\n",
            "1/1 [==============================] - 0s 6ms/step - loss: 1.0743 - mse: 1.0743\n",
            "Epoch 254/300\n",
            "1/1 [==============================] - 0s 13ms/step - loss: 1.0742 - mse: 1.0742\n",
            "Epoch 255/300\n",
            "1/1 [==============================] - 0s 6ms/step - loss: 1.0741 - mse: 1.0741\n",
            "Epoch 256/300\n",
            "1/1 [==============================] - 0s 5ms/step - loss: 1.0740 - mse: 1.0740\n",
            "Epoch 257/300\n",
            "1/1 [==============================] - 0s 6ms/step - loss: 1.0739 - mse: 1.0739\n",
            "Epoch 258/300\n",
            "1/1 [==============================] - 0s 10ms/step - loss: 1.0737 - mse: 1.0737\n",
            "Epoch 259/300\n",
            "1/1 [==============================] - 0s 6ms/step - loss: 1.0736 - mse: 1.0736\n",
            "Epoch 260/300\n",
            "1/1 [==============================] - 0s 6ms/step - loss: 1.0735 - mse: 1.0735\n",
            "Epoch 261/300\n",
            "1/1 [==============================] - 0s 6ms/step - loss: 1.0734 - mse: 1.0734\n",
            "Epoch 262/300\n",
            "1/1 [==============================] - 0s 6ms/step - loss: 1.0733 - mse: 1.0733\n",
            "Epoch 263/300\n",
            "1/1 [==============================] - 0s 6ms/step - loss: 1.0732 - mse: 1.0732\n",
            "Epoch 264/300\n",
            "1/1 [==============================] - 0s 5ms/step - loss: 1.0731 - mse: 1.0731\n",
            "Epoch 265/300\n",
            "1/1 [==============================] - 0s 5ms/step - loss: 1.0730 - mse: 1.0730\n",
            "Epoch 266/300\n",
            "1/1 [==============================] - 0s 5ms/step - loss: 1.0729 - mse: 1.0729\n",
            "Epoch 267/300\n",
            "1/1 [==============================] - 0s 11ms/step - loss: 1.0727 - mse: 1.0727\n",
            "Epoch 268/300\n",
            "1/1 [==============================] - 0s 10ms/step - loss: 1.0726 - mse: 1.0726\n",
            "Epoch 269/300\n",
            "1/1 [==============================] - 0s 12ms/step - loss: 1.0725 - mse: 1.0725\n",
            "Epoch 270/300\n",
            "1/1 [==============================] - 0s 9ms/step - loss: 1.0724 - mse: 1.0724\n",
            "Epoch 271/300\n",
            "1/1 [==============================] - 0s 9ms/step - loss: 1.0723 - mse: 1.0723\n",
            "Epoch 272/300\n",
            "1/1 [==============================] - 0s 5ms/step - loss: 1.0722 - mse: 1.0722\n",
            "Epoch 273/300\n",
            "1/1 [==============================] - 0s 5ms/step - loss: 1.0721 - mse: 1.0721\n",
            "Epoch 274/300\n",
            "1/1 [==============================] - 0s 10ms/step - loss: 1.0720 - mse: 1.0720\n",
            "Epoch 275/300\n",
            "1/1 [==============================] - 0s 8ms/step - loss: 1.0719 - mse: 1.0719\n",
            "Epoch 276/300\n",
            "1/1 [==============================] - 0s 9ms/step - loss: 1.0718 - mse: 1.0718\n",
            "Epoch 277/300\n",
            "1/1 [==============================] - 0s 7ms/step - loss: 1.0717 - mse: 1.0717\n",
            "Epoch 278/300\n",
            "1/1 [==============================] - 0s 13ms/step - loss: 1.0716 - mse: 1.0716\n",
            "Epoch 279/300\n",
            "1/1 [==============================] - 0s 5ms/step - loss: 1.0715 - mse: 1.0715\n",
            "Epoch 280/300\n",
            "1/1 [==============================] - 0s 13ms/step - loss: 1.0714 - mse: 1.0714\n",
            "Epoch 281/300\n",
            "1/1 [==============================] - 0s 12ms/step - loss: 1.0713 - mse: 1.0713\n",
            "Epoch 282/300\n",
            "1/1 [==============================] - 0s 5ms/step - loss: 1.0712 - mse: 1.0712\n",
            "Epoch 283/300\n",
            "1/1 [==============================] - 0s 10ms/step - loss: 1.0712 - mse: 1.0712\n",
            "Epoch 284/300\n",
            "1/1 [==============================] - 0s 5ms/step - loss: 1.0711 - mse: 1.0711\n",
            "Epoch 285/300\n",
            "1/1 [==============================] - 0s 6ms/step - loss: 1.0710 - mse: 1.0710\n",
            "Epoch 286/300\n",
            "1/1 [==============================] - 0s 8ms/step - loss: 1.0709 - mse: 1.0709\n",
            "Epoch 287/300\n",
            "1/1 [==============================] - 0s 6ms/step - loss: 1.0708 - mse: 1.0708\n",
            "Epoch 288/300\n",
            "1/1 [==============================] - 0s 6ms/step - loss: 1.0707 - mse: 1.0707\n",
            "Epoch 289/300\n",
            "1/1 [==============================] - 0s 19ms/step - loss: 1.0706 - mse: 1.0706\n",
            "Epoch 290/300\n",
            "1/1 [==============================] - 0s 12ms/step - loss: 1.0705 - mse: 1.0705\n",
            "Epoch 291/300\n",
            "1/1 [==============================] - 0s 9ms/step - loss: 1.0704 - mse: 1.0704\n",
            "Epoch 292/300\n",
            "1/1 [==============================] - 0s 10ms/step - loss: 1.0704 - mse: 1.0704\n",
            "Epoch 293/300\n",
            "1/1 [==============================] - 0s 6ms/step - loss: 1.0703 - mse: 1.0703\n",
            "Epoch 294/300\n",
            "1/1 [==============================] - 0s 5ms/step - loss: 1.0702 - mse: 1.0702\n",
            "Epoch 295/300\n",
            "1/1 [==============================] - 0s 5ms/step - loss: 1.0701 - mse: 1.0701\n",
            "Epoch 296/300\n",
            "1/1 [==============================] - 0s 7ms/step - loss: 1.0700 - mse: 1.0700\n",
            "Epoch 297/300\n",
            "1/1 [==============================] - 0s 8ms/step - loss: 1.0699 - mse: 1.0699\n",
            "Epoch 298/300\n",
            "1/1 [==============================] - 0s 7ms/step - loss: 1.0698 - mse: 1.0698\n",
            "Epoch 299/300\n",
            "1/1 [==============================] - 0s 9ms/step - loss: 1.0698 - mse: 1.0698\n",
            "Epoch 300/300\n",
            "1/1 [==============================] - 0s 6ms/step - loss: 1.0697 - mse: 1.0697\n"
          ]
        },
        {
          "output_type": "execute_result",
          "data": {
            "text/plain": [
              "<keras.callbacks.History at 0x7fe5e4bcdb90>"
            ]
          },
          "metadata": {},
          "execution_count": 30
        }
      ]
    },
    {
      "cell_type": "code",
      "metadata": {
        "id": "U-k31dqbrTIO",
        "colab": {
          "base_uri": "https://localhost:8080/"
        },
        "outputId": "a9771684-6fdf-4a88-9c7f-a1c596ecbfc4"
      },
      "source": [
        "linear_model.get_config()"
      ],
      "execution_count": 31,
      "outputs": [
        {
          "output_type": "execute_result",
          "data": {
            "text/plain": [
              "{'input_layers': [['input_2', 0, 0]],\n",
              " 'layers': [{'class_name': 'InputLayer',\n",
              "   'config': {'batch_input_shape': (None, 1),\n",
              "    'dtype': 'float32',\n",
              "    'name': 'input_2',\n",
              "    'ragged': False,\n",
              "    'sparse': False},\n",
              "   'inbound_nodes': [],\n",
              "   'name': 'input_2'},\n",
              "  {'class_name': 'Dense',\n",
              "   'config': {'activation': 'linear',\n",
              "    'activity_regularizer': None,\n",
              "    'bias_constraint': None,\n",
              "    'bias_initializer': {'class_name': 'Zeros', 'config': {}},\n",
              "    'bias_regularizer': None,\n",
              "    'dtype': 'float32',\n",
              "    'kernel_constraint': None,\n",
              "    'kernel_initializer': {'class_name': 'GlorotUniform',\n",
              "     'config': {'seed': None}},\n",
              "    'kernel_regularizer': None,\n",
              "    'name': 'dense_10',\n",
              "    'trainable': True,\n",
              "    'units': 1,\n",
              "    'use_bias': True},\n",
              "   'inbound_nodes': [[['input_2', 0, 0, {}]]],\n",
              "   'name': 'dense_10'}],\n",
              " 'name': 'model_1',\n",
              " 'output_layers': [['dense_10', 0, 0]]}"
            ]
          },
          "metadata": {},
          "execution_count": 31
        }
      ]
    },
    {
      "cell_type": "code",
      "metadata": {
        "id": "JI0SNxAmGTLS",
        "colab": {
          "base_uri": "https://localhost:8080/"
        },
        "outputId": "7b87299c-d90e-403e-f8da-f5d7245510a1"
      },
      "source": [
        "linear_model.predict([11,15])"
      ],
      "execution_count": 32,
      "outputs": [
        {
          "output_type": "execute_result",
          "data": {
            "text/plain": [
              "array([[118.161415],\n",
              "       [160.75812 ]], dtype=float32)"
            ]
          },
          "metadata": {},
          "execution_count": 32
        }
      ]
    },
    {
      "cell_type": "code",
      "metadata": {
        "id": "UKjDK9vluj9T",
        "colab": {
          "base_uri": "https://localhost:8080/"
        },
        "outputId": "e150e15f-b549-4a53-dbd2-36db2fe931b2"
      },
      "source": [
        "X"
      ],
      "execution_count": 33,
      "outputs": [
        {
          "output_type": "execute_result",
          "data": {
            "text/plain": [
              "[1, 2, 3, 4, 5, 6, 7, 8, 9]"
            ]
          },
          "metadata": {},
          "execution_count": 33
        }
      ]
    },
    {
      "cell_type": "code",
      "metadata": {
        "id": "XTRhSt8UuFSD",
        "colab": {
          "base_uri": "https://localhost:8080/"
        },
        "outputId": "7d58b87a-d2d1-40b3-bc6d-99f78ebebd3b"
      },
      "source": [
        "linear_model.predict(X)"
      ],
      "execution_count": 34,
      "outputs": [
        {
          "output_type": "execute_result",
          "data": {
            "text/plain": [
              "array([[11.669664],\n",
              "       [22.31884 ],\n",
              "       [32.968014],\n",
              "       [43.617188],\n",
              "       [54.26636 ],\n",
              "       [64.91554 ],\n",
              "       [75.56471 ],\n",
              "       [86.21389 ],\n",
              "       [96.86307 ]], dtype=float32)"
            ]
          },
          "metadata": {},
          "execution_count": 34
        }
      ]
    },
    {
      "cell_type": "code",
      "metadata": {
        "id": "TnH-qxlDtLej"
      },
      "source": [
        "import matplotlib.pyplot as plt"
      ],
      "execution_count": 35,
      "outputs": []
    },
    {
      "cell_type": "code",
      "metadata": {
        "id": "5G-0TsZItDzO",
        "colab": {
          "base_uri": "https://localhost:8080/",
          "height": 267
        },
        "outputId": "cb45eb40-2460-4fea-f48a-3b8f7cce6d55"
      },
      "source": [
        "plt.plot(X, linear_model.predict(X), 'b', X, y, 'k.')\n",
        "plt.show()"
      ],
      "execution_count": 36,
      "outputs": [
        {
          "output_type": "display_data",
          "data": {
            "image/png": "[encoded data removed]",
            "text/plain": [
              "<Figure size 432x288 with 1 Axes>"
            ]
          },
          "metadata": {
            "needs_background": "light"
          }
        }
      ]
    },
    {
      "cell_type": "markdown",
      "metadata": {
        "id": "6w69xEAThwUk"
      },
      "source": [
        "## 2-3. Logisitic Regression"
      ]
    },
    {
      "cell_type": "code",
      "metadata": {
        "id": "EEtnlKmMhqgY",
        "colab": {
          "base_uri": "https://localhost:8080/"
        },
        "outputId": "19c01a80-88c8-4551-90d2-aab96c5ba8d3"
      },
      "source": [
        "from tensorflow.keras.layers import Input, Dense\n",
        "from tensorflow.keras.models import Model\n",
        "\n",
        "inputs = Input(shape=(3,))\n",
        "output = Dense(1, activation='sigmoid')(inputs)\n",
        "logistic_model = Model(inputs, output)\n",
        "logistic_model.summary()"
      ],
      "execution_count": 37,
      "outputs": [
        {
          "output_type": "stream",
          "name": "stdout",
          "text": [
            "Model: \"model_2\"\n",
            "_________________________________________________________________\n",
            " Layer (type)                Output Shape              Param #   \n",
            "=================================================================\n",
            " input_3 (InputLayer)        [(None, 3)]               0         \n",
            "                                                                 \n",
            " dense_11 (Dense)            (None, 1)                 4         \n",
            "                                                                 \n",
            "=================================================================\n",
            "Total params: 4\n",
            "Trainable params: 4\n",
            "Non-trainable params: 0\n",
            "_________________________________________________________________\n"
          ]
        }
      ]
    },
    {
      "cell_type": "markdown",
      "metadata": {
        "id": "IBPe6iUth1vi"
      },
      "source": [
        "## 2-4. model that accepts multiple inputs\n"
      ]
    },
    {
      "cell_type": "code",
      "metadata": {
        "id": "TEhnaVoAh0GI",
        "colab": {
          "base_uri": "https://localhost:8080/"
        },
        "outputId": "f6e44c49-e3d4-4bce-da30-15e5496b6a77"
      },
      "source": [
        "from tensorflow.keras.layers import Input, Dense, concatenate\n",
        "from tensorflow.keras.models import Model\n",
        "\n",
        "# 두 개의 입력층을 정의\n",
        "inputA = Input(shape=(64,))\n",
        "inputB = Input(shape=(128,))\n",
        "\n",
        "# 첫번째 입력층으로부터 분기되어 진행되는 인공 신경망을 정의\n",
        "x = Dense(16, activation=\"relu\")(inputA)\n",
        "x = Dense(8, activation=\"relu\")(x)\n",
        "x = Model(inputs=inputA, outputs=x)\n",
        "\n",
        "# 두번째 입력층으로부터 분기되어 진행되는 인공 신경망을 정의\n",
        "y = Dense(64, activation=\"relu\")(inputB)\n",
        "y = Dense(32, activation=\"relu\")(y)\n",
        "y = Dense(8, activation=\"relu\")(y)\n",
        "y = Model(inputs=inputB, outputs=y)\n",
        "\n",
        "# 두개의 인공 신경망의 출력을 연결(concatenate)\n",
        "result = concatenate([x.output, y.output])\n",
        "\n",
        "z = Dense(2, activation=\"relu\")(result)\n",
        "z = Dense(1, activation=\"linear\")(z)\n",
        "\n",
        "multi_model = Model(inputs=[x.input, y.input], outputs=z)\n",
        "multi_model.summary()"
      ],
      "execution_count": 38,
      "outputs": [
        {
          "output_type": "stream",
          "name": "stdout",
          "text": [
            "Model: \"model_5\"\n",
            "__________________________________________________________________________________________________\n",
            " Layer (type)                   Output Shape         Param #     Connected to                     \n",
            "==================================================================================================\n",
            " input_5 (InputLayer)           [(None, 128)]        0           []                               \n",
            "                                                                                                  \n",
            " input_4 (InputLayer)           [(None, 64)]         0           []                               \n",
            "                                                                                                  \n",
            " dense_14 (Dense)               (None, 64)           8256        ['input_5[0][0]']                \n",
            "                                                                                                  \n",
            " dense_12 (Dense)               (None, 16)           1040        ['input_4[0][0]']                \n",
            "                                                                                                  \n",
            " dense_15 (Dense)               (None, 32)           2080        ['dense_14[0][0]']               \n",
            "                                                                                                  \n",
            " dense_13 (Dense)               (None, 8)            136         ['dense_12[0][0]']               \n",
            "                                                                                                  \n",
            " dense_16 (Dense)               (None, 8)            264         ['dense_15[0][0]']               \n",
            "                                                                                                  \n",
            " concatenate (Concatenate)      (None, 16)           0           ['dense_13[0][0]',               \n",
            "                                                                  'dense_16[0][0]']               \n",
            "                                                                                                  \n",
            " dense_17 (Dense)               (None, 2)            34          ['concatenate[0][0]']            \n",
            "                                                                                                  \n",
            " dense_18 (Dense)               (None, 1)            3           ['dense_17[0][0]']               \n",
            "                                                                                                  \n",
            "==================================================================================================\n",
            "Total params: 11,813\n",
            "Trainable params: 11,813\n",
            "Non-trainable params: 0\n",
            "__________________________________________________________________________________________________\n"
          ]
        }
      ]
    },
    {
      "cell_type": "code",
      "metadata": {
        "id": "motoX6C-Ms3H",
        "colab": {
          "base_uri": "https://localhost:8080/",
          "height": 754
        },
        "outputId": "25766dd0-5fc9-4ccf-c313-047c703b879d"
      },
      "source": [
        "#  Plot model\n",
        "plot_model(multi_model, show_shapes=True, show_layer_names=True, to_file='model_M.png')\n"
      ],
      "execution_count": 39,
      "outputs": [
        {
          "output_type": "execute_result",
          "data": {
            "image/png": "[encoded data removed]",
            "text/plain": [
              "<IPython.core.display.Image object>"
            ]
          },
          "metadata": {},
          "execution_count": 39
        }
      ]
    },
    {
      "cell_type": "markdown",
      "metadata": {
        "id": "uIzhaMfjiAPa"
      },
      "source": [
        "## 2-5. LSTM"
      ]
    },
    {
      "cell_type": "code",
      "metadata": {
        "id": "TQPevdlGiBuW",
        "colab": {
          "base_uri": "https://localhost:8080/"
        },
        "outputId": "17176f91-95e1-493e-fa5f-48fc50174ca4"
      },
      "source": [
        "from tensorflow.keras.layers import Input, Dense, LSTM\n",
        "from tensorflow.keras.models import Model\n",
        "\n",
        "inputs = Input(shape=(50,1))\n",
        "lstm_layer = LSTM(10)(inputs)\n",
        "x = Dense(10, activation='relu')(lstm_layer)\n",
        "output = Dense(1, activation='sigmoid')(x)\n",
        "\n",
        "lstm_model = Model(inputs=inputs, outputs=output)\n",
        "lstm_model.summary()"
      ],
      "execution_count": 40,
      "outputs": [
        {
          "output_type": "stream",
          "name": "stdout",
          "text": [
            "Model: \"model_6\"\n",
            "_________________________________________________________________\n",
            " Layer (type)                Output Shape              Param #   \n",
            "=================================================================\n",
            " input_6 (InputLayer)        [(None, 50, 1)]           0         \n",
            "                                                                 \n",
            " lstm (LSTM)                 (None, 10)                480       \n",
            "                                                                 \n",
            " dense_19 (Dense)            (None, 10)                110       \n",
            "                                                                 \n",
            " dense_20 (Dense)            (None, 1)                 11        \n",
            "                                                                 \n",
            "=================================================================\n",
            "Total params: 601\n",
            "Trainable params: 601\n",
            "Non-trainable params: 0\n",
            "_________________________________________________________________\n"
          ]
        }
      ]
    },
    {
      "cell_type": "markdown",
      "metadata": {
        "id": "XdbiBz1WFaR8"
      },
      "source": [
        "## Number of parameters in an lstm layer\n",
        "> 4 * lstm_hidden_state_size * (lstm_inputs_size + bias_variable + lstm_outputs_size) \n",
        "- lstm_hidden_state_size = 10\n",
        "- lstm_inputs_size = 1\n",
        "- bias_variable = 1\n",
        "- lstm_outputs_size = 10\n",
        "\n",
        ">> 4*10(1 + 1 + 100 = 480"
      ]
    },
    {
      "cell_type": "code",
      "metadata": {
        "id": "YfRtCEbzMyLO",
        "colab": {
          "base_uri": "https://localhost:8080/",
          "height": 422
        },
        "outputId": "f67b033f-cd93-44c8-825f-64342ba92c70"
      },
      "source": [
        "# Plot model\n",
        "plot_model(lstm_model, show_shapes=True, show_layer_names=True, to_file='model_L.png')\n"
      ],
      "execution_count": 41,
      "outputs": [
        {
          "output_type": "execute_result",
          "data": {
            "image/png": "[encoded data removed]",
            "text/plain": [
              "<IPython.core.display.Image object>"
            ]
          },
          "metadata": {},
          "execution_count": 41
        }
      ]
    }
  ]
}