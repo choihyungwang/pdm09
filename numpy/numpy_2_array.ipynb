{
  "nbformat": 4,
  "nbformat_minor": 0,
  "metadata": {
    "kernelspec": {
      "display_name": "Python 3",
      "language": "python",
      "name": "python3"
    },
    "language_info": {
      "codemirror_mode": {
        "name": "ipython",
        "version": 3
      },
      "file_extension": ".py",
      "mimetype": "text/x-python",
      "name": "python",
      "nbconvert_exporter": "python",
      "pygments_lexer": "ipython3",
      "version": "3.7.5"
    },
    "colab": {
      "name": "numpy_2_array.ipynb",
      "provenance": [],
      "collapsed_sections": [],
      "include_colab_link": true
    }
  },
  "cells": [
    {
      "cell_type": "markdown",
      "metadata": {
        "id": "view-in-github",
        "colab_type": "text"
      },
      "source": [
        "<a href=\"https://colab.research.google.com/github/choihyungwang/pdm09/blob/main/numpy/numpy_2_array.ipynb\" target=\"_parent\"><img src=\"https://colab.research.google.com/assets/colab-badge.svg\" alt=\"Open In Colab\"/></a>"
      ]
    },
    {
      "cell_type": "markdown",
      "metadata": {
        "id": "qLtLw3l3DC1l"
      },
      "source": [
        "# numpy array\n",
        "\n",
        "- 생성\n",
        "- 구조 살펴보기\n",
        "- 수학연산 (columnwise, rowwise)"
      ]
    },
    {
      "cell_type": "code",
      "metadata": {
        "id": "1ZpPRcynDC1l",
        "colab": {
          "base_uri": "https://localhost:8080/"
        },
        "outputId": "168d44e5-878e-4381-fda3-3a2e8e99802a"
      },
      "source": [
        "from numpy import asarray\n",
        "# define data as a list\n",
        "data = [[1,2,3], [4,5,6]]\n",
        "# convert to a numpy array\n",
        "data = asarray(data)\n",
        "# summarize the array content\n",
        "print(data)\n",
        "# summarize the array shape\n",
        "print(data.shape)"
      ],
      "execution_count": 12,
      "outputs": [
        {
          "output_type": "stream",
          "name": "stdout",
          "text": [
            "[[1 2 3]\n",
            " [4 5 6]]\n",
            "(2, 3)\n"
          ]
        }
      ]
    },
    {
      "cell_type": "markdown",
      "metadata": {
        "id": "1pmgPh3DDC1p"
      },
      "source": [
        "## Print rows"
      ]
    },
    {
      "cell_type": "code",
      "metadata": {
        "id": "0rLupYCmDC1q",
        "colab": {
          "base_uri": "https://localhost:8080/"
        },
        "outputId": "bf70a591-8339-45ba-80d0-916c22992c24"
      },
      "source": [
        "# enumerate rows in a numpy array\n",
        "from numpy import asarray\n",
        "# define data as a list\n",
        "data = [[1,2,3], [4,5,6]]\n",
        "# data.shape # Error!\n",
        "# convert to a numpy array\n",
        "data = asarray(data)\n",
        "# step through rows\n",
        "for row in range(data.shape[0]):\n",
        "\tprint(data[row])"
      ],
      "execution_count": 13,
      "outputs": [
        {
          "output_type": "stream",
          "name": "stdout",
          "text": [
            "[1 2 3]\n",
            "[4 5 6]\n"
          ]
        }
      ]
    },
    {
      "cell_type": "code",
      "metadata": {
        "colab": {
          "base_uri": "https://localhost:8080/"
        },
        "id": "gAxTep5zkOTe",
        "outputId": "6fd618c9-d609-4d74-858c-b180147cd2fd"
      },
      "source": [
        "data.shape, data.shape[0], data.shape[1]"
      ],
      "execution_count": 14,
      "outputs": [
        {
          "output_type": "execute_result",
          "data": {
            "text/plain": [
              "((2, 3), 2, 3)"
            ]
          },
          "metadata": {},
          "execution_count": 14
        }
      ]
    },
    {
      "cell_type": "markdown",
      "metadata": {
        "id": "S1Bl58KpDC1s"
      },
      "source": [
        "## Print columns"
      ]
    },
    {
      "cell_type": "code",
      "metadata": {
        "id": "2jS_7YIWDC1t",
        "colab": {
          "base_uri": "https://localhost:8080/"
        },
        "outputId": "ec4bf4b4-e3e8-48a4-d185-ec0645fb1eed"
      },
      "source": [
        "# enumerate rows in a numpy array\n",
        "from numpy import asarray\n",
        "# define data as a list\n",
        "data = [[1,2,3], [4,5,6]]\n",
        "# convert to a numpy array\n",
        "data = asarray(data)\n",
        "print(data)\n",
        "# step through columns\n",
        "for col in range(data.shape[1]):\n",
        "\tprint(data[:,col])"
      ],
      "execution_count": 15,
      "outputs": [
        {
          "output_type": "stream",
          "name": "stdout",
          "text": [
            "[[1 2 3]\n",
            " [4 5 6]]\n",
            "[1 4]\n",
            "[2 5]\n",
            "[3 6]\n"
          ]
        }
      ]
    },
    {
      "cell_type": "markdown",
      "metadata": {
        "id": "BTdfAyqRlVM1"
      },
      "source": [
        "---"
      ]
    },
    {
      "cell_type": "markdown",
      "metadata": {
        "id": "tGhULkDaDC1v"
      },
      "source": [
        "## NumPy Array Operations By Row and Column\n",
        "- axis=None: Apply operation array-wise.\n",
        "- axis=0: Apply operation column-wise, across all rows for each column.\n",
        "- axis=1: Apply operation row-wise, across all columns for each row."
      ]
    },
    {
      "cell_type": "code",
      "metadata": {
        "id": "nFCQ6buxDC1v",
        "colab": {
          "base_uri": "https://localhost:8080/"
        },
        "outputId": "859533fb-2b2b-4a3e-ade7-3911fc044bdf"
      },
      "source": [
        "# sum values array-wise\n",
        "from numpy import asarray\n",
        "# define data as a list\n",
        "data = [[1,2,3], [4,5,6]]\n",
        "# convert to a numpy array\n",
        "data = asarray(data)\n",
        "# summarize the array content\n",
        "print(data)\n",
        "# sum data by array\n",
        "result = data.sum(axis=None)\n",
        "# summarize the result\n",
        "print(result)"
      ],
      "execution_count": 16,
      "outputs": [
        {
          "output_type": "stream",
          "name": "stdout",
          "text": [
            "[[1 2 3]\n",
            " [4 5 6]]\n",
            "21\n"
          ]
        }
      ]
    },
    {
      "cell_type": "markdown",
      "metadata": {
        "id": "Mcmj1qCwDC1y"
      },
      "source": [
        "### Axis=0 Column-Wise Operation (수직으로)"
      ]
    },
    {
      "cell_type": "code",
      "metadata": {
        "id": "irwyItrKDC10",
        "colab": {
          "base_uri": "https://localhost:8080/"
        },
        "outputId": "fdb91c7a-248a-4e25-c49a-f26da42d7a3f"
      },
      "source": [
        "# sum values column-wise\n",
        "from numpy import asarray\n",
        "# define data as a list\n",
        "data = [[1,2,3], [4,5,6]]\n",
        "# convert to a numpy array\n",
        "data = asarray(data)\n",
        "# summarize the array content\n",
        "print(data)\n",
        "# sum data by column\n",
        "result = data.sum(axis=0)\n",
        "# summarize the result\n",
        "print(result)"
      ],
      "execution_count": 17,
      "outputs": [
        {
          "output_type": "stream",
          "name": "stdout",
          "text": [
            "[[1 2 3]\n",
            " [4 5 6]]\n",
            "[5 7 9]\n"
          ]
        }
      ]
    },
    {
      "cell_type": "markdown",
      "metadata": {
        "id": "OXNCVoP1DC13"
      },
      "source": [
        "### Axis=1 Row-Wise Operation (수평으로)"
      ]
    },
    {
      "cell_type": "code",
      "metadata": {
        "id": "QmStdHwqDC13",
        "colab": {
          "base_uri": "https://localhost:8080/"
        },
        "outputId": "85ff02ea-27fc-4063-b247-6928de71dc56"
      },
      "source": [
        "# sum values row-wise\n",
        "from numpy import asarray\n",
        "# define data as a list\n",
        "data = [[1,2,3], [4,5,6]]\n",
        "# convert to a numpy array\n",
        "data = asarray(data)\n",
        "# summarize the array content\n",
        "print(data)\n",
        "# sum data by row\n",
        "result = data.sum(axis=1)\n",
        "# summarize the result\n",
        "print(result)"
      ],
      "execution_count": 18,
      "outputs": [
        {
          "output_type": "stream",
          "name": "stdout",
          "text": [
            "[[1 2 3]\n",
            " [4 5 6]]\n",
            "[ 6 15]\n"
          ]
        }
      ]
    },
    {
      "cell_type": "markdown",
      "metadata": {
        "id": "WD-mr8TylTH-"
      },
      "source": [
        "---"
      ]
    },
    {
      "cell_type": "markdown",
      "metadata": {
        "id": "JNfFF_h-DC2A"
      },
      "source": [
        "## [Challenge]\n",
        "- 3d-array\n",
        "    * axis = 0\n",
        "    * axis = 1\n",
        "    * axis = 2\n",
        "    * axis = (0,1)"
      ]
    },
    {
      "cell_type": "markdown",
      "metadata": {
        "id": "w7qMCHmrGHTQ"
      },
      "source": [
        "## [DIY: 도전하기]\n",
        "\n",
        "- 3차원 배열을 리스트로부터 만드시오.\n",
        "- [참고: numpy_sum_axis](http://taewan.kim/post/numpy_sum_axis/)"
      ]
    },
    {
      "cell_type": "code",
      "metadata": {
        "id": "dMOzrginDC2A",
        "colab": {
          "base_uri": "https://localhost:8080/"
        },
        "outputId": "ecfa36f3-1991-4d63-fba5-474739d072a8"
      },
      "source": [
        "# Make 3d-array in numpy\n",
        "from numpy import asarray\n",
        "data = [[1,2,3], [4,5,6]], [[3,5,7], [2,4,6]], [[5,7,9], [8,5,7]]\n",
        "data = asarray(data)\n",
        "print(data)\n",
        "print(data.shape)\n",
        "\n"
      ],
      "execution_count": 19,
      "outputs": [
        {
          "output_type": "stream",
          "name": "stdout",
          "text": [
            "[[[1 2 3]\n",
            "  [4 5 6]]\n",
            "\n",
            " [[3 5 7]\n",
            "  [2 4 6]]\n",
            "\n",
            " [[5 7 9]\n",
            "  [8 5 7]]]\n",
            "(3, 2, 3)\n"
          ]
        }
      ]
    },
    {
      "cell_type": "code",
      "metadata": {
        "id": "idjZZCwTDC2E"
      },
      "source": [
        ""
      ],
      "execution_count": 19,
      "outputs": []
    }
  ]
}