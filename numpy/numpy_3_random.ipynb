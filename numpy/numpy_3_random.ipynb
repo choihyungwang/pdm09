{
  "nbformat": 4,
  "nbformat_minor": 0,
  "metadata": {
    "colab": {
      "name": "numpy_3_random.ipynb",
      "provenance": [],
      "collapsed_sections": [],
      "include_colab_link": true
    },
    "kernelspec": {
      "name": "python3",
      "display_name": "Python 3"
    }
  },
  "cells": [
    {
      "cell_type": "markdown",
      "metadata": {
        "id": "view-in-github",
        "colab_type": "text"
      },
      "source": [
        "<a href=\"https://colab.research.google.com/github/choihyungwang/pdm09/blob/main/numpy/numpy_3_random.ipynb\" target=\"_parent\"><img src=\"https://colab.research.google.com/assets/colab-badge.svg\" alt=\"Open In Colab\"/></a>"
      ]
    },
    {
      "cell_type": "markdown",
      "metadata": {
        "id": "_zrirXHfgmyY"
      },
      "source": [
        "# numpy\n",
        "## random 서브모듈\n",
        "> [데이터싸이언스 스쿨:난수발생](https://datascienceschool.net/01%20python/03.05%20%EB%82%9C%EC%88%98%20%EB%B0%9C%EC%83%9D%EA%B3%BC%20%EC%B9%B4%EC%9A%B4%ED%8C%85.html)"
      ]
    },
    {
      "cell_type": "code",
      "metadata": {
        "id": "kQbzzSMZG2PX"
      },
      "source": [
        "import numpy as np"
      ],
      "execution_count": null,
      "outputs": []
    },
    {
      "cell_type": "markdown",
      "metadata": {
        "id": "1Ry0YHkNFis5"
      },
      "source": [
        "## 난수 생성\n",
        "> NumPy의 random 서브모듈은 난수를 생성하는 다양한 명령을 제공.\n",
        "\n",
        "- rand: 0부터 1사이의 균일 분포 (uniform distribution)\n",
        "- randn: 가우시안 표준 정규 분포 (normal distribution, Gaussian)\n",
        "- randint: 균일 분포의 정수 난수 (uniform int)\n",
        "\n",
        "> randn()은 평균 0, 표준편차 1 인 가우시안 정규분포를 생성."
      ]
    },
    {
      "cell_type": "markdown",
      "metadata": {
        "id": "CtO1VxvurziR"
      },
      "source": [
        "### rand: 0부터 1사이의 균일 분포 (uniform distribution)"
      ]
    },
    {
      "cell_type": "code",
      "metadata": {
        "id": "LA1oF6aEG7kJ",
        "colab": {
          "base_uri": "https://localhost:8080/"
        },
        "outputId": "393c89dc-f715-406c-81e0-1b72f03c1a0f"
      },
      "source": [
        "np.random.rand(5)"
      ],
      "execution_count": null,
      "outputs": [
        {
          "output_type": "execute_result",
          "data": {
            "text/plain": [
              "array([0.01841728, 0.31920321, 0.79958673, 0.38736887, 0.62597562])"
            ]
          },
          "metadata": {},
          "execution_count": 4
        }
      ]
    },
    {
      "cell_type": "code",
      "metadata": {
        "id": "H6f4ix3NHCyR",
        "colab": {
          "base_uri": "https://localhost:8080/"
        },
        "outputId": "6b1646b6-d7a8-4838-e321-b06246e45b05"
      },
      "source": [
        "np.random.rand(5)"
      ],
      "execution_count": null,
      "outputs": [
        {
          "output_type": "execute_result",
          "data": {
            "text/plain": [
              "array([0.24652652, 0.02689499, 0.16945211, 0.40044048, 0.04308728])"
            ]
          },
          "metadata": {},
          "execution_count": 5
        }
      ]
    },
    {
      "cell_type": "markdown",
      "metadata": {
        "id": "c88F6gf8r4K2"
      },
      "source": [
        "### randn: 가우시안 표준 정규 분포 (normal distribution, Gaussian)"
      ]
    },
    {
      "cell_type": "code",
      "metadata": {
        "id": "rtVfCL-uP2Tw",
        "colab": {
          "base_uri": "https://localhost:8080/"
        },
        "outputId": "30c549c4-55a6-4bb2-91a3-e32fabf8367e"
      },
      "source": [
        "np.random.randn(5)"
      ],
      "execution_count": null,
      "outputs": [
        {
          "output_type": "execute_result",
          "data": {
            "text/plain": [
              "array([-0.09066491,  1.86619358, -1.49796497, -1.60601498, -0.21614922])"
            ]
          },
          "metadata": {},
          "execution_count": 6
        }
      ]
    },
    {
      "cell_type": "code",
      "metadata": {
        "colab": {
          "base_uri": "https://localhost:8080/"
        },
        "id": "cBklKtpR1Xtk",
        "outputId": "b54c75a3-a63a-49e8-9eac-a599cc616d64"
      },
      "source": [
        "np.random.randn(5)"
      ],
      "execution_count": null,
      "outputs": [
        {
          "output_type": "execute_result",
          "data": {
            "text/plain": [
              "array([-1.67697077,  0.93539882,  0.4740838 , -1.257369  ,  0.77606373])"
            ]
          },
          "metadata": {},
          "execution_count": 7
        }
      ]
    },
    {
      "cell_type": "markdown",
      "metadata": {
        "id": "wsvTzTFSsBSJ"
      },
      "source": [
        "### randint: 균일 분포의 정수 난수 (uniform int)\n",
        "- numpy.random.randint(low, high=None, size=None, dtype='l')"
      ]
    },
    {
      "cell_type": "code",
      "metadata": {
        "id": "WSvAH8uVs2Vb",
        "colab": {
          "base_uri": "https://localhost:8080/"
        },
        "outputId": "bc3a9a25-49e3-4dd4-98cd-84b25d46bd25"
      },
      "source": [
        "np.random.randint(5)"
      ],
      "execution_count": null,
      "outputs": [
        {
          "output_type": "execute_result",
          "data": {
            "text/plain": [
              "1"
            ]
          },
          "metadata": {},
          "execution_count": 8
        }
      ]
    },
    {
      "cell_type": "code",
      "metadata": {
        "colab": {
          "base_uri": "https://localhost:8080/"
        },
        "id": "sM9_Kh_Q2BbD",
        "outputId": "15027a8b-ab40-4baa-b87a-cce665d8b838"
      },
      "source": [
        "# die number \n",
        "np.random.randint(1,7)"
      ],
      "execution_count": null,
      "outputs": [
        {
          "output_type": "execute_result",
          "data": {
            "text/plain": [
              "6"
            ]
          },
          "metadata": {},
          "execution_count": 9
        }
      ]
    },
    {
      "cell_type": "code",
      "metadata": {
        "id": "McWHW15uQDPr",
        "colab": {
          "base_uri": "https://localhost:8080/"
        },
        "outputId": "cb972d74-acba-4a44-b17b-a7c32b1b643b"
      },
      "source": [
        "np.random.randint(5,9) "
      ],
      "execution_count": null,
      "outputs": [
        {
          "output_type": "execute_result",
          "data": {
            "text/plain": [
              "8"
            ]
          },
          "metadata": {},
          "execution_count": 10
        }
      ]
    },
    {
      "cell_type": "code",
      "metadata": {
        "id": "oBsWu9FmQQSC",
        "colab": {
          "base_uri": "https://localhost:8080/"
        },
        "outputId": "46b5e1f8-aec1-4612-fe7f-9ad1cf468613"
      },
      "source": [
        "np.random.randint(0,10,5)"
      ],
      "execution_count": null,
      "outputs": [
        {
          "output_type": "execute_result",
          "data": {
            "text/plain": [
              "array([2, 6, 8, 4, 6])"
            ]
          },
          "metadata": {},
          "execution_count": 11
        }
      ]
    },
    {
      "cell_type": "code",
      "metadata": {
        "id": "0kNuJxjaQYEu",
        "colab": {
          "base_uri": "https://localhost:8080/"
        },
        "outputId": "28c9c10f-de4e-4aa8-de9f-c4b706f53bb8"
      },
      "source": [
        "np.random.randint(0,10,5)"
      ],
      "execution_count": null,
      "outputs": [
        {
          "output_type": "execute_result",
          "data": {
            "text/plain": [
              "array([3, 6, 2, 5, 8])"
            ]
          },
          "metadata": {},
          "execution_count": 12
        }
      ]
    },
    {
      "cell_type": "markdown",
      "metadata": {
        "id": "K58DiNYUmANL"
      },
      "source": [
        "---"
      ]
    },
    {
      "cell_type": "markdown",
      "metadata": {
        "id": "xU5NWjQ3F_ld"
      },
      "source": [
        "## 난수 생성 seed 설정\n",
        "- numpy.random.seed(seed=None)\n",
        "- np.random.seed(number)"
      ]
    },
    {
      "cell_type": "code",
      "metadata": {
        "id": "AxUeYmQSQawG"
      },
      "source": [
        "np.random.seed()"
      ],
      "execution_count": null,
      "outputs": []
    },
    {
      "cell_type": "code",
      "metadata": {
        "id": "C33YjKqvRJ33",
        "colab": {
          "base_uri": "https://localhost:8080/"
        },
        "outputId": "ce8ab865-6b0b-4d9a-d9c2-8e917bfe8e95"
      },
      "source": [
        "np.random.rand(5)"
      ],
      "execution_count": null,
      "outputs": [
        {
          "output_type": "execute_result",
          "data": {
            "text/plain": [
              "array([0.99287603, 0.17401484, 0.01768089, 0.23942472, 0.25001817])"
            ]
          },
          "metadata": {},
          "execution_count": 14
        }
      ]
    },
    {
      "cell_type": "code",
      "metadata": {
        "id": "Ne8rIyN9RO81",
        "colab": {
          "base_uri": "https://localhost:8080/"
        },
        "outputId": "c2e835e5-224d-44b7-9fe4-602d3de763ea"
      },
      "source": [
        "np.random.rand(5)"
      ],
      "execution_count": null,
      "outputs": [
        {
          "output_type": "execute_result",
          "data": {
            "text/plain": [
              "array([0.02601595, 0.5253377 , 0.64703347, 0.19060723, 0.67823173])"
            ]
          },
          "metadata": {},
          "execution_count": 15
        }
      ]
    },
    {
      "cell_type": "markdown",
      "metadata": {
        "id": "wnQ4gFoltu81"
      },
      "source": [
        "### 동일한 무작위수 생성\n",
        "- seed를 고정하고 무작위수 생성"
      ]
    },
    {
      "cell_type": "code",
      "metadata": {
        "id": "LGPOJGfgRSWx"
      },
      "source": [
        "np.random.seed(1234)"
      ],
      "execution_count": null,
      "outputs": []
    },
    {
      "cell_type": "code",
      "metadata": {
        "id": "t2PNRUpfRXZk",
        "colab": {
          "base_uri": "https://localhost:8080/"
        },
        "outputId": "d798a070-febc-4d07-c19c-d8cf68dd19f6"
      },
      "source": [
        "np.random.rand(5)"
      ],
      "execution_count": null,
      "outputs": [
        {
          "output_type": "execute_result",
          "data": {
            "text/plain": [
              "array([0.19151945, 0.62210877, 0.43772774, 0.78535858, 0.77997581])"
            ]
          },
          "metadata": {},
          "execution_count": 17
        }
      ]
    },
    {
      "cell_type": "code",
      "metadata": {
        "id": "x8yKednV8CZy",
        "colab": {
          "base_uri": "https://localhost:8080/"
        },
        "outputId": "e74eea65-d664-4c3c-b602-9cb1ed44318b"
      },
      "source": [
        "np.random.rand(5)"
      ],
      "execution_count": null,
      "outputs": [
        {
          "output_type": "execute_result",
          "data": {
            "text/plain": [
              "array([0.27259261, 0.27646426, 0.80187218, 0.95813935, 0.87593263])"
            ]
          },
          "metadata": {},
          "execution_count": 18
        }
      ]
    },
    {
      "cell_type": "code",
      "metadata": {
        "id": "bo2A_ntYRcKw"
      },
      "source": [
        "np.random.seed(1234)"
      ],
      "execution_count": null,
      "outputs": []
    },
    {
      "cell_type": "code",
      "metadata": {
        "id": "U5qXdwYQRYeT",
        "colab": {
          "base_uri": "https://localhost:8080/"
        },
        "outputId": "156fd9e5-1c62-4b24-81fd-a499c7399362"
      },
      "source": [
        "np.random.rand(5)"
      ],
      "execution_count": null,
      "outputs": [
        {
          "output_type": "execute_result",
          "data": {
            "text/plain": [
              "array([0.19151945, 0.62210877, 0.43772774, 0.78535858, 0.77997581])"
            ]
          },
          "metadata": {},
          "execution_count": 20
        }
      ]
    },
    {
      "cell_type": "markdown",
      "metadata": {
        "id": "pwMXGAwmRhpW"
      },
      "source": [
        "### seed 고정 후에 randint(5)"
      ]
    },
    {
      "cell_type": "code",
      "metadata": {
        "id": "tqmTOMMVRhGW",
        "colab": {
          "base_uri": "https://localhost:8080/"
        },
        "outputId": "94501da6-3695-4e75-f0f0-8358f2374387"
      },
      "source": [
        "np.random.seed(5678)\n",
        "np.random.randint(1,10,5)"
      ],
      "execution_count": null,
      "outputs": [
        {
          "output_type": "execute_result",
          "data": {
            "text/plain": [
              "array([5, 8, 3, 5, 4])"
            ]
          },
          "metadata": {},
          "execution_count": 21
        }
      ]
    },
    {
      "cell_type": "code",
      "metadata": {
        "id": "YxQYjcOLSA-Z",
        "colab": {
          "base_uri": "https://localhost:8080/"
        },
        "outputId": "1b3b8d46-6a55-4cff-8d22-8901980bad70"
      },
      "source": [
        "np.random.randint(1,10,5)"
      ],
      "execution_count": null,
      "outputs": [
        {
          "output_type": "execute_result",
          "data": {
            "text/plain": [
              "array([6, 3, 7, 4, 1])"
            ]
          },
          "metadata": {},
          "execution_count": 22
        }
      ]
    },
    {
      "cell_type": "code",
      "metadata": {
        "id": "aQYF5QpGSD6p",
        "colab": {
          "base_uri": "https://localhost:8080/"
        },
        "outputId": "3c5200e3-58e9-45ce-c204-b15679353181"
      },
      "source": [
        "np.random.seed(5678)\n",
        "np.random.randint(1,10,5)"
      ],
      "execution_count": null,
      "outputs": [
        {
          "output_type": "execute_result",
          "data": {
            "text/plain": [
              "array([5, 8, 3, 5, 4])"
            ]
          },
          "metadata": {},
          "execution_count": 23
        }
      ]
    },
    {
      "cell_type": "code",
      "metadata": {
        "id": "cfIhMEcVSGKa",
        "colab": {
          "base_uri": "https://localhost:8080/"
        },
        "outputId": "f1ace082-f213-4070-c2f0-7837034d09b2"
      },
      "source": [
        "np.random.seed(5678)\n",
        "np.random.randint(1,10,5)"
      ],
      "execution_count": null,
      "outputs": [
        {
          "output_type": "execute_result",
          "data": {
            "text/plain": [
              "array([5, 8, 3, 5, 4])"
            ]
          },
          "metadata": {},
          "execution_count": 24
        }
      ]
    },
    {
      "cell_type": "code",
      "metadata": {
        "id": "Ik9a-QkcfLwy",
        "colab": {
          "base_uri": "https://localhost:8080/"
        },
        "outputId": "5944756f-4a86-4236-e9a6-60b6cc4ac19e"
      },
      "source": [
        "# seed 변경\n",
        "np.random.seed(0)\n",
        "np.random.randint(1,10,5)"
      ],
      "execution_count": null,
      "outputs": [
        {
          "output_type": "execute_result",
          "data": {
            "text/plain": [
              "array([6, 1, 4, 4, 8])"
            ]
          },
          "metadata": {},
          "execution_count": 25
        }
      ]
    },
    {
      "cell_type": "markdown",
      "metadata": {
        "id": "Zg3g31drmDMI"
      },
      "source": [
        "---\n",
        "---"
      ]
    },
    {
      "cell_type": "markdown",
      "metadata": {
        "id": "YNVh_pbhfROq"
      },
      "source": [
        "## DIY: 도전 코딩 - numpy 정리 과제\n",
        "- 생성된 마구잡이수를 조사하고 사용하기 \n",
        "- 9월19일 자정 마감."
      ]
    },
    {
      "cell_type": "markdown",
      "metadata": {
        "id": "vxNHFDSIgMmC"
      },
      "source": [
        "### [도전 1.] 0부터 9까지의 마구잡이 정수를 1000개 만들고 각 수의 빈도를 구하시오. "
      ]
    },
    {
      "cell_type": "code",
      "metadata": {
        "id": "qkDfXH1xgjBz",
        "colab": {
          "base_uri": "https://localhost:8080/"
        },
        "outputId": "37bc4cf8-985d-42be-830a-8ad97408c187"
      },
      "source": [
        "# n1000=\n",
        "n1000 = np.random.randint(0,10,1000)\n",
        "n1000"
      ],
      "execution_count": 29,
      "outputs": [
        {
          "output_type": "execute_result",
          "data": {
            "text/plain": [
              "array([5, 7, 0, 2, 3, 4, 8, 4, 3, 1, 8, 9, 1, 7, 2, 8, 5, 9, 3, 0, 0, 2,\n",
              "       3, 1, 6, 8, 7, 0, 1, 9, 7, 0, 1, 4, 8, 1, 9, 0, 2, 6, 2, 5, 6, 3,\n",
              "       5, 0, 0, 2, 1, 1, 1, 3, 8, 2, 2, 5, 4, 9, 4, 1, 3, 8, 4, 4, 0, 4,\n",
              "       5, 6, 9, 4, 5, 6, 6, 6, 7, 1, 1, 0, 5, 9, 2, 1, 3, 1, 5, 0, 3, 2,\n",
              "       0, 5, 4, 8, 3, 0, 7, 9, 6, 3, 4, 3, 7, 0, 9, 7, 3, 7, 6, 0, 4, 4,\n",
              "       3, 2, 7, 0, 0, 0, 4, 2, 3, 7, 9, 6, 9, 1, 3, 2, 6, 2, 1, 6, 7, 0,\n",
              "       3, 3, 6, 8, 0, 8, 9, 2, 9, 7, 6, 5, 8, 2, 6, 0, 6, 9, 5, 4, 0, 1,\n",
              "       8, 8, 6, 9, 5, 5, 1, 8, 5, 9, 4, 8, 4, 4, 7, 1, 9, 0, 1, 6, 8, 3,\n",
              "       1, 3, 6, 3, 5, 0, 3, 5, 1, 3, 8, 0, 7, 3, 3, 2, 4, 8, 8, 0, 7, 8,\n",
              "       0, 8, 6, 4, 2, 3, 0, 3, 1, 1, 6, 7, 8, 4, 9, 0, 4, 0, 9, 9, 8, 7,\n",
              "       1, 9, 6, 7, 7, 5, 7, 8, 1, 1, 9, 3, 9, 3, 3, 5, 8, 7, 3, 9, 0, 3,\n",
              "       9, 7, 0, 1, 3, 8, 0, 3, 5, 7, 1, 4, 5, 0, 1, 7, 9, 7, 3, 3, 9, 1,\n",
              "       7, 1, 5, 6, 8, 4, 9, 2, 0, 6, 1, 7, 0, 5, 4, 7, 7, 4, 8, 0, 7, 7,\n",
              "       6, 2, 2, 3, 2, 3, 5, 7, 2, 3, 7, 5, 7, 8, 9, 9, 7, 4, 9, 7, 8, 0,\n",
              "       2, 1, 7, 6, 5, 1, 8, 8, 1, 8, 6, 3, 5, 6, 0, 1, 2, 6, 5, 5, 5, 6,\n",
              "       0, 0, 6, 2, 0, 5, 2, 3, 7, 6, 6, 3, 3, 4, 4, 0, 7, 3, 3, 4, 6, 1,\n",
              "       9, 4, 6, 8, 7, 9, 3, 0, 4, 0, 9, 8, 8, 4, 8, 6, 9, 5, 1, 6, 2, 9,\n",
              "       5, 5, 9, 8, 2, 4, 2, 3, 1, 5, 1, 7, 5, 4, 7, 6, 7, 6, 5, 8, 3, 3,\n",
              "       8, 0, 8, 1, 0, 8, 6, 9, 6, 1, 9, 5, 3, 8, 6, 0, 4, 1, 8, 9, 9, 3,\n",
              "       0, 5, 7, 4, 5, 3, 6, 0, 2, 0, 4, 1, 3, 0, 7, 4, 0, 8, 8, 3, 6, 0,\n",
              "       1, 7, 5, 3, 5, 1, 3, 5, 7, 4, 9, 6, 6, 2, 1, 5, 2, 4, 3, 3, 7, 3,\n",
              "       1, 4, 4, 5, 9, 7, 9, 2, 2, 7, 9, 5, 0, 2, 7, 8, 8, 5, 4, 8, 1, 4,\n",
              "       5, 9, 9, 9, 4, 7, 4, 9, 3, 9, 4, 1, 7, 6, 4, 5, 9, 1, 9, 6, 4, 6,\n",
              "       0, 9, 1, 3, 7, 7, 9, 4, 3, 8, 8, 8, 9, 5, 5, 3, 7, 6, 5, 1, 0, 9,\n",
              "       4, 3, 9, 3, 3, 4, 0, 6, 8, 2, 0, 7, 6, 8, 7, 4, 1, 2, 7, 0, 2, 7,\n",
              "       7, 3, 8, 0, 6, 2, 5, 1, 9, 1, 9, 8, 2, 7, 2, 0, 4, 8, 2, 2, 3, 3,\n",
              "       4, 8, 1, 3, 3, 6, 9, 8, 8, 7, 0, 1, 3, 3, 7, 1, 6, 7, 2, 4, 6, 6,\n",
              "       5, 9, 4, 5, 3, 5, 4, 6, 7, 4, 6, 8, 0, 1, 1, 1, 2, 4, 4, 0, 7, 3,\n",
              "       1, 4, 0, 3, 4, 2, 3, 5, 0, 1, 6, 0, 5, 7, 0, 1, 1, 4, 1, 6, 7, 2,\n",
              "       4, 8, 4, 8, 7, 1, 6, 9, 3, 5, 7, 0, 0, 2, 8, 1, 3, 6, 9, 9, 0, 5,\n",
              "       4, 3, 3, 0, 4, 1, 0, 3, 1, 8, 5, 9, 9, 2, 6, 2, 1, 0, 3, 6, 4, 4,\n",
              "       5, 6, 3, 2, 0, 6, 0, 7, 3, 1, 8, 5, 6, 1, 2, 4, 1, 0, 5, 4, 0, 9,\n",
              "       5, 3, 5, 1, 6, 3, 8, 1, 0, 3, 7, 6, 5, 6, 2, 4, 5, 5, 3, 8, 1, 7,\n",
              "       4, 9, 8, 4, 9, 7, 0, 2, 5, 9, 5, 6, 4, 7, 0, 8, 7, 4, 2, 8, 3, 2,\n",
              "       5, 1, 9, 6, 5, 4, 7, 4, 3, 4, 5, 6, 5, 6, 9, 3, 5, 4, 6, 6, 5, 3,\n",
              "       2, 0, 5, 7, 4, 7, 8, 7, 8, 9, 9, 9, 2, 3, 1, 8, 5, 3, 4, 4, 0, 8,\n",
              "       4, 7, 8, 8, 0, 3, 7, 3, 3, 5, 8, 0, 9, 9, 6, 2, 5, 0, 8, 8, 5, 7,\n",
              "       6, 1, 4, 1, 4, 4, 9, 6, 5, 1, 3, 0, 1, 1, 8, 5, 6, 6, 1, 9, 3, 0,\n",
              "       6, 4, 1, 4, 5, 4, 7, 8, 3, 6, 8, 4, 8, 9, 3, 7, 8, 9, 7, 9, 1, 5,\n",
              "       1, 6, 6, 3, 7, 6, 9, 5, 1, 4, 5, 8, 5, 4, 4, 7, 3, 8, 4, 7, 5, 1,\n",
              "       5, 6, 0, 9, 2, 9, 9, 5, 4, 1, 1, 4, 7, 8, 4, 2, 8, 8, 1, 4, 0, 4,\n",
              "       5, 3, 2, 9, 5, 0, 4, 6, 9, 6, 9, 0, 2, 0, 0, 3, 1, 1, 4, 5, 9, 2,\n",
              "       1, 4, 4, 7, 2, 7, 1, 5, 6, 3, 3, 3, 4, 6, 6, 1, 9, 8, 4, 1, 7, 9,\n",
              "       2, 1, 8, 9, 7, 7, 4, 5, 0, 3, 2, 5, 4, 9, 0, 9, 2, 6, 0, 4, 8, 1,\n",
              "       9, 0, 6, 1, 8, 7, 3, 4, 2, 5, 8, 9, 0, 0, 6, 1, 6, 3, 4, 4, 7, 1,\n",
              "       2, 1, 1, 8, 0, 1, 3, 7, 4, 7])"
            ]
          },
          "metadata": {},
          "execution_count": 29
        }
      ]
    },
    {
      "cell_type": "code",
      "metadata": {
        "id": "9_6nzbQD3FZi",
        "colab": {
          "base_uri": "https://localhost:8080/"
        },
        "outputId": "d025f119-a22f-4aca-f68e-84c583ea643e"
      },
      "source": [
        " np.unique(n1000)"
      ],
      "execution_count": null,
      "outputs": [
        {
          "output_type": "execute_result",
          "data": {
            "text/plain": [
              "array([0, 1, 2, 3, 4, 5, 6, 7, 8, 9])"
            ]
          },
          "metadata": {},
          "execution_count": 79
        }
      ]
    },
    {
      "cell_type": "code",
      "metadata": {
        "id": "eiw9R1243Rzp",
        "colab": {
          "base_uri": "https://localhost:8080/"
        },
        "outputId": "662059a3-c8fd-4d21-c6c8-a0bf655c44ad"
      },
      "source": [
        "# 각 수의 빈도\n",
        "value, count= np.unique(n1000, return_counts=True)\n",
        "value, count\n"
      ],
      "execution_count": 33,
      "outputs": [
        {
          "output_type": "execute_result",
          "data": {
            "text/plain": [
              "(array([0, 1, 2, 3, 4, 5, 6, 7, 8, 9]),\n",
              " array([102, 109,  71, 113, 115,  99,  97, 101,  96,  97]))"
            ]
          },
          "metadata": {},
          "execution_count": 33
        }
      ]
    },
    {
      "cell_type": "markdown",
      "metadata": {
        "id": "cIhlY6-GghMN"
      },
      "source": [
        "### [도전 2.] 0부터 9까지의 마구잡이 정수를 1000개 만들고 각 수가 처음 출현하는 인덱스를 구하시오.\n",
        "> 0이 처음 나타날 때의 인덱스, 1이 처음 나타날 때의 인덱스, ... "
      ]
    },
    {
      "cell_type": "code",
      "metadata": {
        "colab": {
          "base_uri": "https://localhost:8080/"
        },
        "id": "j-Pq2ZsS49ok",
        "outputId": "6d809a7a-fee7-4b37-894e-78a7ad4ca170"
      },
      "source": [
        "n1000[0], n1000[800]"
      ],
      "execution_count": null,
      "outputs": [
        {
          "output_type": "execute_result",
          "data": {
            "text/plain": [
              "(8, 2)"
            ]
          },
          "metadata": {},
          "execution_count": 81
        }
      ]
    },
    {
      "cell_type": "code",
      "metadata": {
        "id": "oA1ec_RjgL3X",
        "colab": {
          "base_uri": "https://localhost:8080/"
        },
        "outputId": "5c548cfa-82e1-4a73-a289-3f0dc8c58a09"
      },
      "source": [
        "# 각 수가 처음 출현하는 인덱스\n",
        "n1000= np.random.randint(0,10,1000)\n",
        "n1000"
      ],
      "execution_count": 16,
      "outputs": [
        {
          "output_type": "execute_result",
          "data": {
            "text/plain": [
              "array([3, 5, 3, 0, 0, 3, 1, 6, 2, 4, 6, 1, 5, 8, 6, 4, 4, 2, 2, 2, 3, 5,\n",
              "       1, 1, 6, 7, 7, 6, 6, 4, 9, 5, 9, 5, 1, 6, 2, 2, 0, 6, 8, 4, 1, 0,\n",
              "       6, 8, 2, 7, 9, 1, 7, 1, 5, 1, 6, 2, 9, 2, 0, 4, 8, 2, 9, 3, 7, 0,\n",
              "       8, 9, 4, 5, 0, 0, 8, 5, 3, 9, 7, 6, 2, 3, 6, 0, 5, 0, 2, 1, 0, 8,\n",
              "       9, 9, 0, 3, 8, 9, 7, 5, 4, 8, 0, 6, 1, 9, 6, 6, 2, 3, 2, 8, 5, 7,\n",
              "       6, 2, 7, 7, 5, 8, 3, 1, 2, 7, 1, 9, 1, 8, 6, 5, 4, 2, 8, 0, 5, 9,\n",
              "       8, 1, 2, 1, 9, 1, 1, 5, 3, 1, 9, 1, 0, 2, 4, 0, 9, 4, 3, 9, 5, 9,\n",
              "       9, 6, 5, 1, 3, 2, 8, 1, 8, 2, 1, 8, 2, 9, 8, 3, 3, 1, 0, 1, 0, 8,\n",
              "       3, 4, 2, 7, 1, 8, 9, 9, 4, 5, 1, 4, 5, 1, 5, 0, 1, 3, 3, 0, 6, 9,\n",
              "       7, 4, 9, 4, 9, 2, 9, 1, 5, 1, 9, 3, 0, 8, 4, 4, 0, 4, 8, 9, 8, 1,\n",
              "       3, 6, 3, 2, 1, 3, 9, 7, 1, 5, 9, 9, 1, 2, 8, 8, 6, 9, 0, 2, 8, 2,\n",
              "       2, 8, 2, 5, 1, 5, 2, 8, 4, 3, 5, 6, 5, 3, 6, 5, 4, 1, 0, 4, 4, 6,\n",
              "       2, 7, 1, 8, 4, 4, 4, 5, 4, 2, 2, 3, 0, 9, 9, 0, 6, 7, 4, 0, 2, 9,\n",
              "       8, 9, 4, 9, 6, 1, 3, 5, 0, 4, 8, 8, 0, 0, 6, 6, 3, 4, 0, 5, 6, 6,\n",
              "       7, 6, 5, 5, 0, 0, 1, 2, 6, 7, 6, 4, 4, 8, 0, 6, 3, 9, 9, 1, 0, 7,\n",
              "       1, 7, 4, 1, 5, 0, 9, 8, 6, 4, 7, 6, 5, 6, 2, 9, 9, 5, 0, 2, 2, 1,\n",
              "       0, 9, 2, 6, 4, 6, 2, 8, 4, 1, 6, 3, 0, 9, 1, 3, 8, 7, 3, 0, 1, 4,\n",
              "       1, 5, 6, 6, 6, 9, 9, 4, 2, 5, 2, 3, 5, 4, 8, 2, 7, 8, 2, 2, 4, 4,\n",
              "       4, 7, 7, 8, 9, 2, 3, 1, 0, 5, 1, 3, 2, 4, 2, 0, 7, 2, 2, 0, 3, 3,\n",
              "       2, 2, 7, 2, 1, 3, 5, 2, 7, 6, 0, 2, 9, 8, 4, 5, 8, 2, 6, 4, 1, 1,\n",
              "       9, 0, 3, 3, 0, 3, 3, 7, 2, 5, 8, 0, 1, 6, 6, 0, 4, 9, 6, 6, 4, 2,\n",
              "       0, 1, 2, 2, 3, 3, 5, 7, 2, 2, 3, 6, 2, 9, 5, 3, 4, 2, 3, 2, 1, 1,\n",
              "       5, 5, 5, 7, 6, 2, 4, 1, 1, 1, 3, 2, 3, 5, 3, 8, 4, 7, 0, 2, 1, 1,\n",
              "       2, 7, 2, 8, 0, 1, 6, 8, 5, 3, 0, 4, 6, 3, 4, 4, 6, 4, 0, 6, 8, 4,\n",
              "       7, 2, 6, 8, 4, 3, 2, 2, 6, 5, 9, 1, 4, 6, 8, 3, 6, 5, 2, 8, 9, 9,\n",
              "       4, 7, 7, 7, 8, 9, 8, 7, 6, 6, 1, 1, 9, 4, 0, 5, 7, 6, 6, 6, 0, 3,\n",
              "       0, 1, 7, 1, 5, 1, 0, 5, 7, 0, 9, 8, 3, 6, 5, 3, 5, 9, 9, 6, 7, 5,\n",
              "       2, 7, 0, 0, 4, 0, 8, 0, 6, 8, 9, 1, 9, 9, 8, 8, 9, 5, 5, 5, 5, 5,\n",
              "       6, 6, 5, 6, 2, 2, 3, 3, 4, 0, 8, 9, 4, 8, 4, 4, 1, 1, 7, 3, 1, 3,\n",
              "       0, 1, 5, 1, 0, 3, 2, 5, 1, 4, 8, 7, 0, 7, 3, 2, 0, 1, 1, 8, 6, 8,\n",
              "       3, 4, 7, 5, 4, 9, 6, 9, 4, 4, 8, 3, 3, 0, 9, 0, 8, 4, 2, 0, 7, 7,\n",
              "       6, 0, 4, 6, 2, 0, 7, 3, 5, 5, 1, 8, 5, 2, 2, 8, 3, 9, 8, 3, 6, 0,\n",
              "       3, 1, 4, 9, 1, 0, 1, 6, 0, 0, 0, 7, 0, 2, 3, 8, 3, 5, 9, 4, 1, 5,\n",
              "       7, 1, 0, 7, 7, 9, 2, 4, 2, 3, 5, 9, 8, 4, 8, 8, 3, 3, 2, 7, 2, 9,\n",
              "       8, 7, 7, 9, 3, 6, 3, 2, 1, 4, 2, 8, 7, 8, 4, 8, 6, 4, 6, 1, 5, 9,\n",
              "       3, 3, 0, 9, 4, 8, 7, 5, 9, 2, 0, 9, 2, 3, 8, 7, 7, 7, 8, 5, 6, 7,\n",
              "       5, 9, 6, 6, 3, 1, 4, 0, 7, 5, 5, 8, 5, 4, 3, 0, 7, 2, 5, 2, 7, 8,\n",
              "       3, 6, 5, 3, 8, 3, 7, 1, 2, 4, 7, 5, 2, 1, 3, 9, 7, 5, 2, 6, 7, 0,\n",
              "       1, 8, 0, 3, 8, 5, 8, 8, 8, 3, 3, 5, 7, 9, 6, 5, 2, 2, 5, 7, 4, 2,\n",
              "       5, 1, 9, 3, 2, 7, 6, 5, 7, 9, 6, 1, 3, 8, 3, 5, 4, 7, 9, 6, 1, 7,\n",
              "       9, 3, 2, 5, 0, 4, 2, 9, 7, 2, 6, 9, 8, 2, 9, 6, 4, 3, 6, 6, 6, 6,\n",
              "       2, 0, 3, 3, 4, 4, 3, 9, 3, 0, 6, 7, 9, 7, 0, 0, 6, 7, 9, 1, 0, 5,\n",
              "       9, 8, 4, 7, 6, 1, 6, 2, 4, 8, 2, 6, 8, 0, 3, 2, 6, 6, 1, 6, 5, 2,\n",
              "       9, 6, 2, 2, 3, 5, 8, 2, 4, 8, 2, 6, 9, 4, 8, 4, 2, 1, 8, 2, 4, 0,\n",
              "       2, 6, 1, 6, 7, 2, 9, 1, 1, 6, 1, 4, 0, 3, 5, 3, 5, 6, 2, 4, 2, 3,\n",
              "       1, 0, 0, 1, 8, 3, 0, 5, 4, 6])"
            ]
          },
          "metadata": {},
          "execution_count": 16
        }
      ]
    },
    {
      "cell_type": "code",
      "metadata": {
        "id": "8Bay2lK9N6kw",
        "outputId": "05652b82-c1e4-4d97-c12a-4a1dfb9ee4fc",
        "colab": {
          "base_uri": "https://localhost:8080/"
        }
      },
      "source": [
        "np.unique(n1000)"
      ],
      "execution_count": 14,
      "outputs": [
        {
          "output_type": "execute_result",
          "data": {
            "text/plain": [
              "array([0, 1, 2, 3, 4, 5, 6, 7, 8, 9])"
            ]
          },
          "metadata": {},
          "execution_count": 14
        }
      ]
    },
    {
      "cell_type": "code",
      "metadata": {
        "id": "133xbTvLNJT_",
        "outputId": "4c3dc2ab-93d5-4538-ccdd-492f54b4b3da",
        "colab": {
          "base_uri": "https://localhost:8080/"
        }
      },
      "source": [
        "unique_array=np.unique(n1000,return_index=True)\n",
        "print(unique_array)"
      ],
      "execution_count": 17,
      "outputs": [
        {
          "output_type": "stream",
          "name": "stdout",
          "text": [
            "(array([0, 1, 2, 3, 4, 5, 6, 7, 8, 9]), array([ 3,  6,  8,  0,  9,  1,  7, 25, 13, 30]))\n"
          ]
        }
      ]
    },
    {
      "cell_type": "markdown",
      "metadata": {
        "id": "sadkRzWjgiTM"
      },
      "source": [
        "### [도전 3.] seed를 1234로 고정하고, 위의 도전1,2를 다시 해보시오. "
      ]
    },
    {
      "cell_type": "code",
      "metadata": {
        "id": "3LVS9RspFmvM",
        "colab": {
          "base_uri": "https://localhost:8080/"
        },
        "outputId": "7ad1ec8f-d92e-4514-eddd-6324bdf8cd31"
      },
      "source": [
        "np.random.seed(1234)\n",
        "n1000 = np.random.randint(0,10,1000)\n",
        "n1000"
      ],
      "execution_count": 24,
      "outputs": [
        {
          "output_type": "execute_result",
          "data": {
            "text/plain": [
              "array([3, 6, 5, 4, 8, 9, 1, 7, 9, 6, 8, 0, 5, 0, 9, 6, 2, 0, 5, 2, 6, 3,\n",
              "       7, 0, 9, 0, 3, 2, 3, 1, 3, 1, 3, 7, 1, 7, 4, 0, 5, 1, 5, 9, 9, 4,\n",
              "       0, 9, 8, 8, 6, 8, 6, 3, 1, 2, 5, 2, 5, 6, 7, 4, 3, 5, 6, 4, 6, 2,\n",
              "       4, 2, 7, 9, 7, 7, 2, 9, 7, 4, 9, 0, 9, 2, 9, 1, 2, 9, 1, 5, 7, 4,\n",
              "       7, 7, 1, 4, 0, 5, 4, 9, 2, 9, 1, 3, 5, 9, 3, 0, 4, 4, 0, 6, 8, 4,\n",
              "       8, 1, 8, 9, 8, 2, 0, 2, 2, 3, 2, 9, 7, 4, 8, 1, 9, 2, 7, 4, 3, 2,\n",
              "       5, 5, 1, 0, 8, 4, 0, 0, 1, 0, 3, 9, 1, 9, 3, 7, 9, 3, 4, 4, 1, 1,\n",
              "       6, 2, 9, 8, 7, 8, 0, 8, 7, 9, 5, 6, 3, 9, 4, 7, 7, 1, 7, 2, 5, 2,\n",
              "       7, 2, 6, 8, 6, 1, 9, 3, 3, 4, 9, 7, 2, 8, 1, 9, 4, 3, 1, 0, 7, 8,\n",
              "       0, 9, 3, 9, 3, 9, 0, 5, 9, 2, 3, 1, 7, 1, 4, 7, 3, 8, 4, 5, 3, 8,\n",
              "       8, 8, 1, 3, 6, 8, 9, 1, 5, 8, 4, 1, 1, 1, 2, 3, 4, 2, 1, 9, 4, 0,\n",
              "       0, 2, 1, 2, 5, 9, 8, 8, 7, 5, 7, 0, 0, 6, 6, 1, 9, 4, 6, 7, 2, 0,\n",
              "       7, 0, 2, 8, 4, 8, 3, 2, 4, 7, 7, 0, 1, 1, 0, 0, 0, 1, 1, 9, 4, 9,\n",
              "       9, 5, 2, 4, 1, 0, 3, 5, 2, 3, 3, 5, 4, 5, 4, 0, 5, 6, 7, 3, 1, 5,\n",
              "       4, 5, 9, 1, 7, 6, 3, 3, 0, 0, 2, 3, 1, 6, 1, 3, 5, 6, 9, 2, 6, 6,\n",
              "       9, 7, 8, 9, 1, 3, 6, 6, 2, 2, 4, 9, 3, 8, 7, 5, 1, 3, 1, 3, 0, 2,\n",
              "       0, 3, 5, 2, 6, 6, 6, 4, 1, 0, 7, 4, 1, 8, 5, 9, 6, 2, 8, 7, 9, 7,\n",
              "       7, 3, 6, 5, 6, 8, 6, 5, 9, 1, 9, 2, 1, 9, 1, 5, 0, 2, 3, 8, 8, 1,\n",
              "       3, 7, 3, 5, 1, 5, 6, 9, 5, 0, 1, 3, 5, 8, 9, 9, 7, 8, 8, 9, 4, 4,\n",
              "       1, 5, 4, 6, 8, 7, 9, 4, 1, 7, 7, 0, 4, 6, 1, 9, 1, 1, 9, 0, 8, 1,\n",
              "       3, 7, 2, 8, 3, 2, 2, 3, 4, 1, 6, 3, 5, 2, 4, 2, 1, 3, 9, 7, 9, 7,\n",
              "       2, 5, 7, 5, 8, 5, 0, 4, 0, 9, 3, 1, 0, 0, 6, 4, 3, 4, 1, 8, 6, 8,\n",
              "       7, 1, 5, 7, 9, 1, 5, 6, 5, 1, 6, 0, 9, 2, 2, 1, 4, 9, 9, 6, 6, 2,\n",
              "       4, 1, 5, 5, 5, 5, 8, 6, 7, 2, 3, 9, 7, 2, 1, 1, 9, 6, 5, 9, 2, 1,\n",
              "       3, 8, 3, 8, 7, 3, 8, 0, 5, 0, 9, 9, 7, 4, 5, 6, 3, 8, 1, 7, 4, 1,\n",
              "       9, 2, 4, 3, 3, 9, 4, 2, 6, 0, 5, 4, 6, 6, 6, 3, 8, 8, 8, 5, 7, 9,\n",
              "       9, 0, 7, 8, 4, 6, 5, 7, 5, 9, 2, 6, 3, 0, 8, 1, 6, 0, 3, 7, 5, 0,\n",
              "       8, 9, 8, 5, 1, 9, 4, 6, 2, 6, 3, 3, 7, 3, 2, 8, 5, 2, 4, 8, 0, 5,\n",
              "       2, 3, 7, 2, 6, 1, 2, 4, 7, 2, 3, 5, 8, 4, 3, 5, 8, 0, 5, 3, 5, 3,\n",
              "       5, 6, 1, 1, 3, 1, 7, 3, 4, 1, 7, 0, 9, 8, 5, 9, 3, 8, 2, 3, 0, 9,\n",
              "       0, 4, 3, 4, 5, 0, 2, 7, 2, 8, 5, 3, 5, 0, 5, 9, 0, 6, 7, 2, 6, 6,\n",
              "       2, 2, 0, 1, 1, 3, 8, 3, 3, 2, 5, 9, 5, 4, 6, 9, 5, 9, 2, 5, 5, 6,\n",
              "       5, 7, 3, 0, 2, 3, 1, 9, 9, 8, 8, 0, 8, 6, 6, 1, 4, 3, 5, 5, 4, 9,\n",
              "       3, 8, 2, 3, 0, 6, 2, 8, 3, 3, 8, 2, 6, 2, 0, 3, 0, 3, 9, 0, 4, 2,\n",
              "       7, 1, 2, 2, 2, 1, 5, 9, 5, 3, 7, 1, 0, 1, 1, 8, 3, 5, 4, 4, 2, 4,\n",
              "       5, 6, 4, 2, 6, 1, 7, 6, 2, 3, 9, 4, 1, 4, 1, 0, 7, 3, 4, 5, 0, 8,\n",
              "       2, 2, 5, 4, 9, 5, 3, 3, 4, 6, 8, 4, 2, 2, 0, 6, 2, 8, 9, 2, 4, 3,\n",
              "       4, 4, 0, 8, 3, 4, 2, 9, 2, 8, 4, 0, 0, 6, 6, 7, 6, 7, 9, 3, 9, 7,\n",
              "       8, 2, 9, 1, 0, 6, 3, 8, 4, 9, 9, 6, 7, 9, 2, 3, 6, 4, 5, 8, 5, 9,\n",
              "       9, 7, 1, 0, 6, 3, 3, 4, 1, 8, 2, 8, 0, 3, 9, 0, 6, 6, 7, 7, 9, 2,\n",
              "       2, 1, 0, 9, 5, 0, 9, 7, 5, 3, 8, 2, 6, 4, 5, 6, 1, 9, 6, 3, 7, 0,\n",
              "       4, 9, 4, 4, 5, 1, 0, 9, 7, 0, 5, 3, 8, 9, 1, 7, 0, 9, 6, 8, 2, 1,\n",
              "       7, 5, 4, 0, 1, 1, 7, 8, 2, 7, 6, 9, 9, 2, 1, 1, 8, 9, 0, 7, 2, 4,\n",
              "       2, 9, 8, 1, 0, 1, 4, 4, 9, 9, 0, 1, 9, 9, 3, 1, 7, 2, 8, 4, 7, 4,\n",
              "       3, 2, 8, 4, 7, 7, 0, 1, 4, 6, 5, 5, 0, 5, 2, 0, 8, 3, 5, 7, 8, 4,\n",
              "       7, 6, 7, 7, 2, 7, 6, 0, 2, 6])"
            ]
          },
          "metadata": {},
          "execution_count": 24
        }
      ]
    },
    {
      "cell_type": "code",
      "metadata": {
        "id": "RSFOgvV-RhST",
        "outputId": "36ff1b48-104a-4eec-8894-418e6aa7a9ab",
        "colab": {
          "base_uri": "https://localhost:8080/"
        }
      },
      "source": [
        "np.unique(n1000)"
      ],
      "execution_count": 25,
      "outputs": [
        {
          "output_type": "execute_result",
          "data": {
            "text/plain": [
              "array([0, 1, 2, 3, 4, 5, 6, 7, 8, 9])"
            ]
          },
          "metadata": {},
          "execution_count": 25
        }
      ]
    },
    {
      "cell_type": "code",
      "metadata": {
        "id": "WjL0ZLccGYyT",
        "colab": {
          "base_uri": "https://localhost:8080/"
        },
        "outputId": "b4e60052-7a56-43bd-8e93-82e965236ccd"
      },
      "source": [
        "value, count= np.unique(n1000, return_counts=True)\n",
        "value, count"
      ],
      "execution_count": 28,
      "outputs": [
        {
          "output_type": "execute_result",
          "data": {
            "text/plain": [
              "(array([0, 1, 2, 3, 4, 5, 6, 7, 8, 9]),\n",
              " array([ 93, 107, 107, 108,  97,  98,  89,  95,  90, 116]))"
            ]
          },
          "metadata": {},
          "execution_count": 28
        }
      ]
    },
    {
      "cell_type": "code",
      "metadata": {
        "id": "fKSmYQUpRwQo",
        "outputId": "a6c32455-f131-4fe1-feaf-14300d55e4af",
        "colab": {
          "base_uri": "https://localhost:8080/"
        }
      },
      "source": [
        "np.random.seed(1234)\n",
        "n1000 = np.random.randint(0,10,1000)\n",
        "n1000"
      ],
      "execution_count": 36,
      "outputs": [
        {
          "output_type": "execute_result",
          "data": {
            "text/plain": [
              "array([3, 6, 5, 4, 8, 9, 1, 7, 9, 6, 8, 0, 5, 0, 9, 6, 2, 0, 5, 2, 6, 3,\n",
              "       7, 0, 9, 0, 3, 2, 3, 1, 3, 1, 3, 7, 1, 7, 4, 0, 5, 1, 5, 9, 9, 4,\n",
              "       0, 9, 8, 8, 6, 8, 6, 3, 1, 2, 5, 2, 5, 6, 7, 4, 3, 5, 6, 4, 6, 2,\n",
              "       4, 2, 7, 9, 7, 7, 2, 9, 7, 4, 9, 0, 9, 2, 9, 1, 2, 9, 1, 5, 7, 4,\n",
              "       7, 7, 1, 4, 0, 5, 4, 9, 2, 9, 1, 3, 5, 9, 3, 0, 4, 4, 0, 6, 8, 4,\n",
              "       8, 1, 8, 9, 8, 2, 0, 2, 2, 3, 2, 9, 7, 4, 8, 1, 9, 2, 7, 4, 3, 2,\n",
              "       5, 5, 1, 0, 8, 4, 0, 0, 1, 0, 3, 9, 1, 9, 3, 7, 9, 3, 4, 4, 1, 1,\n",
              "       6, 2, 9, 8, 7, 8, 0, 8, 7, 9, 5, 6, 3, 9, 4, 7, 7, 1, 7, 2, 5, 2,\n",
              "       7, 2, 6, 8, 6, 1, 9, 3, 3, 4, 9, 7, 2, 8, 1, 9, 4, 3, 1, 0, 7, 8,\n",
              "       0, 9, 3, 9, 3, 9, 0, 5, 9, 2, 3, 1, 7, 1, 4, 7, 3, 8, 4, 5, 3, 8,\n",
              "       8, 8, 1, 3, 6, 8, 9, 1, 5, 8, 4, 1, 1, 1, 2, 3, 4, 2, 1, 9, 4, 0,\n",
              "       0, 2, 1, 2, 5, 9, 8, 8, 7, 5, 7, 0, 0, 6, 6, 1, 9, 4, 6, 7, 2, 0,\n",
              "       7, 0, 2, 8, 4, 8, 3, 2, 4, 7, 7, 0, 1, 1, 0, 0, 0, 1, 1, 9, 4, 9,\n",
              "       9, 5, 2, 4, 1, 0, 3, 5, 2, 3, 3, 5, 4, 5, 4, 0, 5, 6, 7, 3, 1, 5,\n",
              "       4, 5, 9, 1, 7, 6, 3, 3, 0, 0, 2, 3, 1, 6, 1, 3, 5, 6, 9, 2, 6, 6,\n",
              "       9, 7, 8, 9, 1, 3, 6, 6, 2, 2, 4, 9, 3, 8, 7, 5, 1, 3, 1, 3, 0, 2,\n",
              "       0, 3, 5, 2, 6, 6, 6, 4, 1, 0, 7, 4, 1, 8, 5, 9, 6, 2, 8, 7, 9, 7,\n",
              "       7, 3, 6, 5, 6, 8, 6, 5, 9, 1, 9, 2, 1, 9, 1, 5, 0, 2, 3, 8, 8, 1,\n",
              "       3, 7, 3, 5, 1, 5, 6, 9, 5, 0, 1, 3, 5, 8, 9, 9, 7, 8, 8, 9, 4, 4,\n",
              "       1, 5, 4, 6, 8, 7, 9, 4, 1, 7, 7, 0, 4, 6, 1, 9, 1, 1, 9, 0, 8, 1,\n",
              "       3, 7, 2, 8, 3, 2, 2, 3, 4, 1, 6, 3, 5, 2, 4, 2, 1, 3, 9, 7, 9, 7,\n",
              "       2, 5, 7, 5, 8, 5, 0, 4, 0, 9, 3, 1, 0, 0, 6, 4, 3, 4, 1, 8, 6, 8,\n",
              "       7, 1, 5, 7, 9, 1, 5, 6, 5, 1, 6, 0, 9, 2, 2, 1, 4, 9, 9, 6, 6, 2,\n",
              "       4, 1, 5, 5, 5, 5, 8, 6, 7, 2, 3, 9, 7, 2, 1, 1, 9, 6, 5, 9, 2, 1,\n",
              "       3, 8, 3, 8, 7, 3, 8, 0, 5, 0, 9, 9, 7, 4, 5, 6, 3, 8, 1, 7, 4, 1,\n",
              "       9, 2, 4, 3, 3, 9, 4, 2, 6, 0, 5, 4, 6, 6, 6, 3, 8, 8, 8, 5, 7, 9,\n",
              "       9, 0, 7, 8, 4, 6, 5, 7, 5, 9, 2, 6, 3, 0, 8, 1, 6, 0, 3, 7, 5, 0,\n",
              "       8, 9, 8, 5, 1, 9, 4, 6, 2, 6, 3, 3, 7, 3, 2, 8, 5, 2, 4, 8, 0, 5,\n",
              "       2, 3, 7, 2, 6, 1, 2, 4, 7, 2, 3, 5, 8, 4, 3, 5, 8, 0, 5, 3, 5, 3,\n",
              "       5, 6, 1, 1, 3, 1, 7, 3, 4, 1, 7, 0, 9, 8, 5, 9, 3, 8, 2, 3, 0, 9,\n",
              "       0, 4, 3, 4, 5, 0, 2, 7, 2, 8, 5, 3, 5, 0, 5, 9, 0, 6, 7, 2, 6, 6,\n",
              "       2, 2, 0, 1, 1, 3, 8, 3, 3, 2, 5, 9, 5, 4, 6, 9, 5, 9, 2, 5, 5, 6,\n",
              "       5, 7, 3, 0, 2, 3, 1, 9, 9, 8, 8, 0, 8, 6, 6, 1, 4, 3, 5, 5, 4, 9,\n",
              "       3, 8, 2, 3, 0, 6, 2, 8, 3, 3, 8, 2, 6, 2, 0, 3, 0, 3, 9, 0, 4, 2,\n",
              "       7, 1, 2, 2, 2, 1, 5, 9, 5, 3, 7, 1, 0, 1, 1, 8, 3, 5, 4, 4, 2, 4,\n",
              "       5, 6, 4, 2, 6, 1, 7, 6, 2, 3, 9, 4, 1, 4, 1, 0, 7, 3, 4, 5, 0, 8,\n",
              "       2, 2, 5, 4, 9, 5, 3, 3, 4, 6, 8, 4, 2, 2, 0, 6, 2, 8, 9, 2, 4, 3,\n",
              "       4, 4, 0, 8, 3, 4, 2, 9, 2, 8, 4, 0, 0, 6, 6, 7, 6, 7, 9, 3, 9, 7,\n",
              "       8, 2, 9, 1, 0, 6, 3, 8, 4, 9, 9, 6, 7, 9, 2, 3, 6, 4, 5, 8, 5, 9,\n",
              "       9, 7, 1, 0, 6, 3, 3, 4, 1, 8, 2, 8, 0, 3, 9, 0, 6, 6, 7, 7, 9, 2,\n",
              "       2, 1, 0, 9, 5, 0, 9, 7, 5, 3, 8, 2, 6, 4, 5, 6, 1, 9, 6, 3, 7, 0,\n",
              "       4, 9, 4, 4, 5, 1, 0, 9, 7, 0, 5, 3, 8, 9, 1, 7, 0, 9, 6, 8, 2, 1,\n",
              "       7, 5, 4, 0, 1, 1, 7, 8, 2, 7, 6, 9, 9, 2, 1, 1, 8, 9, 0, 7, 2, 4,\n",
              "       2, 9, 8, 1, 0, 1, 4, 4, 9, 9, 0, 1, 9, 9, 3, 1, 7, 2, 8, 4, 7, 4,\n",
              "       3, 2, 8, 4, 7, 7, 0, 1, 4, 6, 5, 5, 0, 5, 2, 0, 8, 3, 5, 7, 8, 4,\n",
              "       7, 6, 7, 7, 2, 7, 6, 0, 2, 6])"
            ]
          },
          "metadata": {},
          "execution_count": 36
        }
      ]
    },
    {
      "cell_type": "code",
      "metadata": {
        "id": "COce6ud_SdrX",
        "outputId": "85c3cad6-f13c-4cd7-8c0c-7548cf42c729",
        "colab": {
          "base_uri": "https://localhost:8080/"
        }
      },
      "source": [
        "np.unique(n1000)"
      ],
      "execution_count": 38,
      "outputs": [
        {
          "output_type": "execute_result",
          "data": {
            "text/plain": [
              "array([0, 1, 2, 3, 4, 5, 6, 7, 8, 9])"
            ]
          },
          "metadata": {},
          "execution_count": 38
        }
      ]
    },
    {
      "cell_type": "code",
      "metadata": {
        "id": "ri4r2vp7Sg2J",
        "outputId": "e330beff-79da-4916-87f7-b3f7a37f1c8f",
        "colab": {
          "base_uri": "https://localhost:8080/"
        }
      },
      "source": [
        "unique_array=np.unique(n1000,return_index=True)\n",
        "print(unique_array)"
      ],
      "execution_count": 42,
      "outputs": [
        {
          "output_type": "stream",
          "name": "stdout",
          "text": [
            "(array([0, 1, 2, 3, 4, 5, 6, 7, 8, 9]), array([11,  6, 16,  0,  3,  2,  1,  7,  4,  5]))\n"
          ]
        }
      ]
    },
    {
      "cell_type": "markdown",
      "metadata": {
        "id": "zAGojAainnox"
      },
      "source": [
        "### [도전 4.] 0부터 999까지의 마구잡이 정수로 구성되는 28X28 이차원배열을 만드시오.\n",
        "- 시드를 고정 : np.random.seed(1234)\n",
        "1. 각 행의 최대값, 최소값을 구하시오.\n",
        "2. 배열 전체의 최대값, 최소값을 구하시오.\n",
        "3. 배열전체의 최대값, 최소값의 index를 각각 찾으시오."
      ]
    },
    {
      "cell_type": "code",
      "metadata": {
        "id": "iAXcyRhtHkxX",
        "colab": {
          "base_uri": "https://localhost:8080/"
        },
        "outputId": "ced96d81-259f-4875-993e-039e87990af2"
      },
      "source": [
        "import numpy as np\n",
        "np.random.seed(1234)\n",
        "v = np.random.randint(0,1000,(28,28))\n",
        "v"
      ],
      "execution_count": 2,
      "outputs": [
        {
          "output_type": "execute_result",
          "data": {
            "text/plain": [
              "array([[815, 723, 294,  53, 204, 372, 664, 655, 689, 279, 233, 154,  30,\n",
              "        683, 158, 748, 892, 794, 374, 442, 120, 880, 476, 325, 336, 969,\n",
              "        383, 246],\n",
              "       [510, 431, 562, 752, 763,  76, 293, 802, 934, 506, 195, 743, 139,\n",
              "        640, 745, 843, 336,   3, 258, 275, 908, 961, 459, 371, 619, 465,\n",
              "         14, 243],\n",
              "       [455, 828, 490, 619, 942, 924,  81, 855, 781, 116, 608, 908, 197,\n",
              "        625, 991, 997, 671, 761, 601,  84,  45, 528,  41, 840, 440, 236,\n",
              "        838, 952],\n",
              "       [ 86, 940, 986, 979, 303, 689,  18, 597, 686, 482, 805, 365, 806,\n",
              "        135, 996, 707, 901, 750, 559, 244, 374, 687, 911, 546,  10, 284,\n",
              "          4,  82],\n",
              "       [103, 345, 311, 235, 334, 663, 434, 761, 574, 183, 340, 617, 256,\n",
              "        633, 354, 761, 346, 417, 882, 377, 497, 789, 967, 196, 119, 999,\n",
              "        465, 250],\n",
              "       [436, 448, 469, 372, 873, 626, 425,   1, 142, 771, 798, 396, 713,\n",
              "        877, 787,  26, 992,  68, 891, 996, 832, 150, 440, 980, 136, 684,\n",
              "        753, 920],\n",
              "       [990, 745, 527, 840, 898, 400, 619, 130, 754, 591, 195,  46, 482,\n",
              "        825, 439, 292, 600, 673, 377, 682, 514, 471, 365, 212, 291, 786,\n",
              "        332, 965],\n",
              "       [117, 593, 208, 520, 493,  75,  15, 788, 784, 448, 573, 881, 864,\n",
              "        638, 211, 313, 561, 318, 953, 211, 667, 343, 233, 931, 164, 596,\n",
              "        317, 540],\n",
              "       [257, 779, 702, 509, 657, 286, 806,  98, 921, 568, 487, 408,  12,\n",
              "        460, 864, 520, 303, 855, 793, 749, 789, 150, 429, 531,  41, 431,\n",
              "        932, 999],\n",
              "       [551, 913, 295, 955, 210, 379, 165,  98,  87, 550, 904, 694, 657,\n",
              "        553, 303, 659, 939, 940, 547, 938, 404, 794, 345, 107, 919, 642,\n",
              "        744, 577],\n",
              "       [729, 283, 974, 580, 987, 316, 874, 259, 209, 687, 957, 447,  32,\n",
              "        887, 909, 312,  48, 617, 314, 350, 931, 953, 316, 595, 505, 368,\n",
              "        757, 649],\n",
              "       [572, 178, 819, 433, 106, 711, 721, 260,   3, 127, 600, 558, 606,\n",
              "        509, 431, 575,  84,   5, 723, 380, 584, 840, 447, 696, 526, 337,\n",
              "        739, 316],\n",
              "       [358, 264,  41, 673, 837, 728, 575, 877, 628, 785, 513,   1, 130,\n",
              "        691, 333, 692, 114, 861, 654, 237, 943, 203, 193, 669, 521, 608,\n",
              "        336, 946],\n",
              "       [785,  31, 508, 863, 381, 970, 494, 907, 418, 565, 857, 472, 920,\n",
              "        478, 991, 439, 565,  23, 383, 186, 224, 784, 758, 774, 465, 462,\n",
              "        953, 132],\n",
              "       [814, 459, 390, 727, 402, 944, 935, 144, 994, 584, 174, 564, 424,\n",
              "        243, 941, 770, 700, 788, 615, 471, 458, 507, 844, 826, 384, 554,\n",
              "        913, 177],\n",
              "       [ 16, 944,  80, 849, 460, 863, 191, 561, 527, 665, 468, 873, 409,\n",
              "        325, 306, 110, 655, 852, 717,  46, 763, 529, 896, 707, 677,  82,\n",
              "        542, 666],\n",
              "       [316, 943, 963, 435, 933, 900, 549, 506, 875, 292, 592, 517, 822,\n",
              "        759, 730, 191, 211, 844, 140, 545,  85, 388, 101, 617, 433, 814,\n",
              "        695, 102],\n",
              "       [611, 787, 943, 364, 252, 810, 304, 763, 364,  90, 432,   2,  35,\n",
              "         46, 161, 508,  38, 737, 707, 430, 826, 933, 454, 162, 374, 198,\n",
              "        809, 922],\n",
              "       [ 10, 855, 280, 457, 524, 700, 257, 861, 179, 758, 134,  18, 946,\n",
              "        429, 548, 634, 857, 627, 814,  43, 973, 744,  55, 917, 542, 462,\n",
              "         97, 698],\n",
              "       [381, 291, 465, 563, 560, 734, 478, 898, 429, 575,   0, 223,  19,\n",
              "        517, 674, 922, 399, 134, 575, 635, 358, 102, 468, 657, 848, 343,\n",
              "        212, 810],\n",
              "       [ 26, 731, 481, 888, 606, 213, 238,  25, 172, 653, 557, 182, 715,\n",
              "        306, 862, 300,  88,  74, 332, 407, 105, 138, 599, 893, 567, 828,\n",
              "        211,  15],\n",
              "       [926, 710, 549, 566, 715,  79, 568,   6, 309, 457, 865, 745, 434,\n",
              "         74, 705, 302, 321, 261, 464, 130, 835, 447, 936, 152, 129, 253,\n",
              "        451, 231],\n",
              "       [  3, 621, 229, 510, 961, 997, 970, 620, 534, 857, 251, 269, 565,\n",
              "        303, 960, 268,  81, 531,  53, 861, 360,  41, 217, 215, 184, 136,\n",
              "        249, 526],\n",
              "       [756, 260, 988, 289,  53, 654, 475, 299, 796,  68, 710, 714, 856,\n",
              "        747, 263, 233, 559,  84, 383, 284, 273, 701, 391, 695, 448, 751,\n",
              "        884,  31],\n",
              "       [886, 698, 561, 251, 745, 476, 539, 353, 798,  43, 961, 729, 816,\n",
              "        792, 737,  15,   3,  26, 583, 338, 872, 943, 893, 847, 451, 562,\n",
              "        236, 370],\n",
              "       [179, 692, 177, 998, 941,  43, 707, 891, 623, 618, 773,  91, 254,\n",
              "        546, 332, 820, 594, 193, 947, 185, 327, 825, 983, 274, 773, 151,\n",
              "        781,  59],\n",
              "       [974, 666, 863, 661, 296, 997, 528, 372, 144, 249, 835, 609, 223,\n",
              "        720, 144, 604, 430, 502, 333, 452, 211, 532, 635, 751, 762, 747,\n",
              "        321, 184],\n",
              "       [ 54, 168, 647, 529,  79, 629, 939, 173, 877, 295, 569,  13, 897,\n",
              "        591, 748, 629, 390, 379, 149, 625, 966, 416, 249, 242, 732, 994,\n",
              "        812, 625]])"
            ]
          },
          "metadata": {},
          "execution_count": 2
        }
      ]
    },
    {
      "cell_type": "code",
      "metadata": {
        "id": "mgSAgw3xHs3M",
        "outputId": "2a715c12-4d0b-4c81-faa4-55ac111e474e",
        "colab": {
          "base_uri": "https://localhost:8080/"
        }
      },
      "source": [
        "v1= v.max(axis=1)\n",
        "v2= v.min(axis=1)\n",
        "print(v1)\n",
        "print(v2)"
      ],
      "execution_count": 4,
      "outputs": [
        {
          "output_type": "stream",
          "name": "stdout",
          "text": [
            "[969 961 997 996 999 996 990 953 999 955 987 840 946 991 994 944 963 943\n",
            " 973 922 893 936 997 988 961 998 997 994]\n",
            "[ 30   3  41   4 103   1  46  15  12  87  32   3   1  23 144  16  85   2\n",
            "  10   0  15   6   3  31   3  43 144  13]\n"
          ]
        }
      ]
    },
    {
      "cell_type": "code",
      "metadata": {
        "id": "3XCigxSxJn4c",
        "outputId": "a767de61-d6b5-4df8-981a-5fe22cfcaf3b",
        "colab": {
          "base_uri": "https://localhost:8080/"
        }
      },
      "source": [
        "v3 = v.max(axis=None)\n",
        "v4 = v.min(axis=None)\n",
        "print(v3)\n",
        "print(v4)"
      ],
      "execution_count": 46,
      "outputs": [
        {
          "output_type": "stream",
          "name": "stdout",
          "text": [
            "999\n",
            "0\n"
          ]
        }
      ]
    },
    {
      "cell_type": "code",
      "metadata": {
        "id": "e0xLJ3veK8Qg",
        "outputId": "e0d6cd12-a282-43c7-a0f9-6bbe204b233a",
        "colab": {
          "base_uri": "https://localhost:8080/"
        }
      },
      "source": [
        "s1 = np.where(v3 == v)\n",
        "s2 = np.where(v4 == v)\n",
        "s1,s2"
      ],
      "execution_count": 56,
      "outputs": [
        {
          "output_type": "execute_result",
          "data": {
            "text/plain": [
              "((array([4, 8]), array([25, 27])), (array([19]), array([10])))"
            ]
          },
          "metadata": {},
          "execution_count": 56
        }
      ]
    },
    {
      "cell_type": "markdown",
      "metadata": {
        "id": "VoSu8rNOnwPU"
      },
      "source": [
        "---\n",
        "---"
      ]
    },
    {
      "cell_type": "markdown",
      "metadata": {
        "id": "ozoCcRquhg4p"
      },
      "source": [
        "## python graphics\n",
        "- matplotlib\n",
        "> import matplotlib.pyplot as plt"
      ]
    },
    {
      "cell_type": "markdown",
      "metadata": {
        "id": "h6yEJiGJ4Lbk"
      },
      "source": [
        "### 무작위수 분포 그려보기"
      ]
    },
    {
      "cell_type": "code",
      "metadata": {
        "id": "ngcwuNlfhrIQ"
      },
      "source": [
        "import matplotlib.pyplot as plt"
      ],
      "execution_count": null,
      "outputs": []
    },
    {
      "cell_type": "code",
      "metadata": {
        "id": "jr30IHxvJDuE",
        "colab": {
          "base_uri": "https://localhost:8080/",
          "height": 319
        },
        "outputId": "6cb379d8-ed3d-496f-c54e-a0de9cc75750"
      },
      "source": [
        "plt.hist(n1000,label=range(0,10), color='red') # bins=40)\n",
        "# plt.show()"
      ],
      "execution_count": null,
      "outputs": [
        {
          "output_type": "execute_result",
          "data": {
            "text/plain": [
              "(array([ 94., 112.,  95., 110.,  98., 102.,  90., 109., 102.,  88.]),\n",
              " array([0. , 0.9, 1.8, 2.7, 3.6, 4.5, 5.4, 6.3, 7.2, 8.1, 9. ]),\n",
              " <a list of 10 Patch objects>)"
            ]
          },
          "metadata": {},
          "execution_count": 33
        },
        {
          "output_type": "display_data",
          "data": {
            "image/png": "[encoded data removed]",
            "text/plain": [
              "<Figure size 432x288 with 1 Axes>"
            ]
          },
          "metadata": {
            "needs_background": "light"
          }
        }
      ]
    },
    {
      "cell_type": "markdown",
      "metadata": {
        "id": "b-JcgSU-Ktyz"
      },
      "source": [
        "### [도전] 균일분포와 정규분포를 비교하는 그림을 그리시오."
      ]
    },
    {
      "cell_type": "code",
      "metadata": {
        "id": "k0XaT2f9JGZy",
        "colab": {
          "base_uri": "https://localhost:8080/",
          "height": 373
        },
        "outputId": "935850c5-9df8-4820-c6df-d9901db1f240"
      },
      "source": [
        "plt.hist(np.random.rand(100000))"
      ],
      "execution_count": null,
      "outputs": [
        {
          "output_type": "execute_result",
          "data": {
            "text/plain": [
              "(array([10094., 10071.,  9929.,  9857., 10079., 10110.,  9822.,  9997.,\n",
              "        10030., 10011.]),\n",
              " array([3.31055446e-06, 1.00000775e-01, 1.99998239e-01, 2.99995703e-01,\n",
              "        3.99993167e-01, 4.99990631e-01, 5.99988095e-01, 6.99985559e-01,\n",
              "        7.99983024e-01, 8.99980488e-01, 9.99977952e-01]),\n",
              " <a list of 10 Patch objects>)"
            ]
          },
          "metadata": {},
          "execution_count": 34
        },
        {
          "output_type": "display_data",
          "data": {
            "image/png": "[encoded data removed]",
            "text/plain": [
              "<Figure size 432x288 with 1 Axes>"
            ]
          },
          "metadata": {
            "needs_background": "light"
          }
        }
      ]
    },
    {
      "cell_type": "code",
      "metadata": {
        "id": "T8SCqKVeMhBF",
        "colab": {
          "base_uri": "https://localhost:8080/",
          "height": 643
        },
        "outputId": "dca51c9b-b8e2-469b-d844-0c97d218c348"
      },
      "source": [
        "plt.hist(np.random.randn(100000),bins=50)"
      ],
      "execution_count": null,
      "outputs": [
        {
          "output_type": "execute_result",
          "data": {
            "text/plain": [
              "(array([1.000e+00, 0.000e+00, 0.000e+00, 1.000e+00, 6.000e+00, 5.000e+00,\n",
              "        1.100e+01, 1.900e+01, 5.600e+01, 8.500e+01, 1.290e+02, 2.270e+02,\n",
              "        3.390e+02, 5.250e+02, 7.870e+02, 1.147e+03, 1.591e+03, 2.056e+03,\n",
              "        2.736e+03, 3.441e+03, 4.346e+03, 5.040e+03, 5.826e+03, 6.334e+03,\n",
              "        6.759e+03, 7.110e+03, 7.045e+03, 7.011e+03, 6.694e+03, 6.137e+03,\n",
              "        5.245e+03, 4.572e+03, 3.695e+03, 3.076e+03, 2.322e+03, 1.674e+03,\n",
              "        1.278e+03, 9.370e+02, 6.530e+02, 4.280e+02, 2.630e+02, 1.700e+02,\n",
              "        1.010e+02, 5.000e+01, 3.200e+01, 2.200e+01, 8.000e+00, 8.000e+00,\n",
              "        1.000e+00, 1.000e+00]),\n",
              " array([-4.69458783, -4.51497896, -4.33537009, -4.15576122, -3.97615235,\n",
              "        -3.79654348, -3.61693461, -3.43732575, -3.25771688, -3.07810801,\n",
              "        -2.89849914, -2.71889027, -2.5392814 , -2.35967253, -2.18006366,\n",
              "        -2.00045479, -1.82084592, -1.64123705, -1.46162818, -1.28201931,\n",
              "        -1.10241044, -0.92280157, -0.7431927 , -0.56358383, -0.38397496,\n",
              "        -0.20436609, -0.02475723,  0.15485164,  0.33446051,  0.51406938,\n",
              "         0.69367825,  0.87328712,  1.05289599,  1.23250486,  1.41211373,\n",
              "         1.5917226 ,  1.77133147,  1.95094034,  2.13054921,  2.31015808,\n",
              "         2.48976695,  2.66937582,  2.84898469,  3.02859356,  3.20820242,\n",
              "         3.38781129,  3.56742016,  3.74702903,  3.9266379 ,  4.10624677,\n",
              "         4.28585564]),\n",
              " <a list of 50 Patch objects>)"
            ]
          },
          "metadata": {},
          "execution_count": 35
        },
        {
          "output_type": "display_data",
          "data": {
            "image/png": "[encoded data removed]",
            "text/plain": [
              "<Figure size 432x288 with 1 Axes>"
            ]
          },
          "metadata": {
            "needs_background": "light"
          }
        }
      ]
    },
    {
      "cell_type": "markdown",
      "metadata": {
        "id": "LYthn3089aqD"
      },
      "source": [
        "## 보충 코드"
      ]
    },
    {
      "cell_type": "code",
      "metadata": {
        "id": "BUkVDXTJMkwc",
        "colab": {
          "base_uri": "https://localhost:8080/"
        },
        "outputId": "b68ad33d-0be1-41a4-95ac-8a69ba58ed0d"
      },
      "source": [
        "n1000 = np.random.randint(0,10,1000)\n",
        "n1000"
      ],
      "execution_count": null,
      "outputs": [
        {
          "output_type": "execute_result",
          "data": {
            "text/plain": [
              "array([4, 6, 6, 7, 6, 4, 4, 5, 6, 1, 8, 3, 2, 6, 1, 1, 3, 3, 4, 1, 7, 7,\n",
              "       9, 3, 1, 9, 3, 0, 7, 8, 6, 8, 0, 8, 6, 9, 9, 8, 5, 7, 2, 7, 6, 0,\n",
              "       5, 3, 0, 1, 7, 1, 4, 8, 5, 7, 6, 9, 3, 8, 0, 4, 7, 1, 3, 5, 5, 0,\n",
              "       8, 4, 6, 6, 4, 6, 9, 6, 1, 2, 7, 0, 4, 5, 4, 6, 2, 3, 7, 2, 7, 7,\n",
              "       8, 4, 2, 4, 0, 1, 9, 2, 9, 7, 5, 2, 7, 2, 2, 4, 6, 5, 9, 0, 9, 8,\n",
              "       5, 1, 2, 9, 4, 0, 5, 2, 8, 1, 7, 3, 0, 5, 9, 5, 0, 4, 7, 7, 9, 2,\n",
              "       8, 0, 9, 2, 5, 1, 5, 3, 4, 4, 8, 7, 9, 2, 6, 1, 9, 4, 0, 9, 7, 8,\n",
              "       5, 8, 1, 4, 9, 1, 0, 6, 3, 0, 8, 4, 3, 5, 5, 0, 5, 3, 4, 5, 0, 2,\n",
              "       5, 5, 5, 0, 4, 3, 2, 0, 4, 4, 3, 6, 9, 9, 9, 2, 1, 1, 0, 5, 4, 5,\n",
              "       4, 4, 5, 2, 6, 4, 7, 0, 5, 8, 8, 2, 7, 7, 7, 8, 5, 9, 6, 0, 1, 8,\n",
              "       5, 3, 9, 2, 1, 4, 9, 7, 5, 2, 6, 0, 9, 6, 9, 8, 9, 5, 6, 1, 7, 0,\n",
              "       3, 8, 0, 6, 6, 7, 8, 8, 7, 7, 3, 6, 0, 6, 4, 5, 8, 1, 7, 0, 7, 8,\n",
              "       4, 2, 3, 2, 8, 8, 9, 6, 4, 1, 8, 1, 3, 4, 4, 9, 5, 2, 8, 8, 0, 9,\n",
              "       1, 8, 7, 8, 1, 1, 5, 6, 8, 9, 3, 0, 1, 1, 1, 9, 3, 2, 5, 3, 1, 4,\n",
              "       6, 3, 3, 3, 5, 2, 4, 5, 1, 1, 7, 3, 7, 8, 6, 7, 5, 4, 6, 6, 0, 2,\n",
              "       5, 9, 0, 6, 0, 6, 7, 4, 7, 4, 7, 5, 5, 9, 5, 5, 1, 7, 9, 4, 3, 7,\n",
              "       2, 1, 2, 3, 5, 0, 9, 0, 0, 0, 0, 3, 2, 5, 5, 1, 6, 7, 9, 0, 9, 7,\n",
              "       1, 7, 7, 7, 1, 4, 4, 1, 0, 7, 5, 3, 8, 5, 2, 9, 5, 5, 7, 8, 8, 1,\n",
              "       6, 7, 9, 0, 7, 5, 4, 1, 4, 0, 8, 2, 4, 1, 4, 8, 2, 7, 1, 1, 2, 5,\n",
              "       2, 0, 0, 0, 7, 3, 7, 8, 4, 6, 1, 2, 1, 1, 3, 7, 7, 0, 8, 8, 7, 2,\n",
              "       9, 6, 0, 9, 4, 9, 5, 2, 4, 7, 1, 7, 0, 8, 9, 1, 6, 5, 0, 7, 2, 2,\n",
              "       7, 4, 6, 8, 4, 2, 6, 6, 5, 3, 7, 6, 3, 1, 8, 1, 8, 8, 0, 7, 9, 1,\n",
              "       7, 6, 6, 4, 1, 6, 2, 0, 8, 5, 1, 5, 5, 4, 5, 0, 8, 6, 5, 4, 8, 8,\n",
              "       4, 3, 3, 6, 8, 0, 1, 6, 0, 3, 6, 4, 2, 7, 0, 9, 3, 9, 3, 0, 7, 4,\n",
              "       4, 8, 9, 8, 0, 6, 0, 2, 8, 5, 9, 2, 5, 2, 3, 7, 3, 5, 5, 2, 9, 0,\n",
              "       5, 2, 4, 1, 8, 3, 9, 7, 8, 0, 6, 5, 2, 2, 8, 6, 8, 0, 3, 2, 1, 4,\n",
              "       4, 2, 3, 9, 2, 5, 4, 1, 2, 0, 3, 4, 6, 2, 5, 0, 6, 0, 0, 1, 7, 4,\n",
              "       0, 4, 4, 4, 5, 6, 4, 4, 7, 3, 5, 6, 2, 0, 5, 7, 1, 8, 3, 5, 5, 6,\n",
              "       9, 0, 0, 0, 0, 4, 7, 7, 4, 8, 6, 6, 1, 4, 8, 1, 1, 1, 5, 7, 2, 0,\n",
              "       9, 8, 2, 4, 4, 2, 5, 4, 8, 7, 1, 1, 0, 5, 7, 6, 6, 4, 2, 2, 5, 4,\n",
              "       8, 9, 8, 6, 1, 7, 7, 3, 9, 9, 5, 6, 7, 8, 0, 2, 6, 3, 2, 5, 8, 9,\n",
              "       2, 0, 0, 6, 1, 4, 5, 2, 7, 8, 1, 0, 4, 4, 9, 0, 8, 5, 5, 8, 0, 7,\n",
              "       6, 3, 7, 0, 6, 3, 0, 3, 4, 8, 0, 2, 3, 2, 2, 0, 2, 9, 0, 5, 9, 6,\n",
              "       5, 5, 7, 2, 6, 6, 3, 2, 3, 4, 6, 8, 6, 3, 9, 5, 1, 3, 2, 1, 0, 7,\n",
              "       2, 4, 7, 6, 7, 0, 3, 6, 5, 1, 7, 4, 0, 2, 8, 3, 2, 9, 2, 8, 3, 6,\n",
              "       3, 5, 3, 9, 9, 8, 9, 1, 6, 6, 5, 6, 9, 9, 6, 1, 2, 4, 3, 7, 8, 5,\n",
              "       0, 8, 4, 6, 4, 8, 3, 0, 8, 2, 7, 7, 1, 5, 8, 5, 9, 0, 0, 9, 8, 2,\n",
              "       2, 3, 7, 6, 2, 2, 5, 8, 0, 0, 8, 0, 7, 6, 1, 6, 4, 8, 6, 3, 2, 8,\n",
              "       8, 0, 1, 0, 7, 7, 7, 8, 7, 6, 2, 8, 5, 8, 2, 6, 8, 2, 5, 3, 1, 2,\n",
              "       8, 4, 6, 6, 7, 6, 3, 1, 7, 8, 9, 8, 2, 8, 8, 5, 3, 5, 1, 2, 4, 3,\n",
              "       2, 1, 8, 8, 3, 1, 1, 5, 1, 7, 7, 1, 7, 4, 2, 0, 3, 7, 8, 9, 7, 7,\n",
              "       1, 7, 2, 1, 6, 1, 7, 0, 5, 9, 4, 8, 8, 0, 5, 1, 0, 2, 3, 6, 7, 6,\n",
              "       2, 4, 6, 1, 3, 6, 8, 2, 3, 6, 2, 6, 9, 6, 3, 8, 8, 4, 4, 8, 6, 6,\n",
              "       8, 5, 3, 9, 2, 1, 3, 8, 4, 5, 2, 3, 4, 9, 8, 5, 6, 8, 4, 6, 0, 7,\n",
              "       3, 6, 4, 3, 8, 4, 0, 2, 3, 1, 3, 4, 3, 4, 4, 8, 7, 7, 0, 0, 4, 0,\n",
              "       0, 7, 8, 9, 5, 0, 0, 6, 9, 8])"
            ]
          },
          "metadata": {},
          "execution_count": 36
        }
      ]
    },
    {
      "cell_type": "code",
      "metadata": {
        "id": "xza_yV8nMshU"
      },
      "source": [
        "value, count= np.unique(n1000, return_counts=True)"
      ],
      "execution_count": null,
      "outputs": []
    },
    {
      "cell_type": "code",
      "metadata": {
        "id": "al1pM1aK9Vk7",
        "colab": {
          "base_uri": "https://localhost:8080/"
        },
        "outputId": "1baa20e0-272d-48ef-dc78-73ee9bc8b0fe"
      },
      "source": [
        "value, count"
      ],
      "execution_count": null,
      "outputs": [
        {
          "output_type": "execute_result",
          "data": {
            "text/plain": [
              "(array([0, 1, 2, 3, 4, 5, 6, 7, 8, 9]),\n",
              " array([108,  92, 100,  86, 104, 104, 105, 109, 114,  78]))"
            ]
          },
          "metadata": {},
          "execution_count": 38
        }
      ]
    }
  ]
}