{
  "nbformat": 4,
  "nbformat_minor": 0,
  "metadata": {
    "colab": {
      "name": "numpy_3_random.ipynb",
      "provenance": [],
      "collapsed_sections": [],
      "include_colab_link": true
    },
    "kernelspec": {
      "name": "python3",
      "display_name": "Python 3"
    }
  },
  "cells": [
    {
      "cell_type": "markdown",
      "metadata": {
        "id": "view-in-github",
        "colab_type": "text"
      },
      "source": [
        "<a href=\"https://colab.research.google.com/github/choihyungwang/pdm09/blob/main/numpy/numpy_3_random.ipynb\" target=\"_parent\"><img src=\"https://colab.research.google.com/assets/colab-badge.svg\" alt=\"Open In Colab\"/></a>"
      ]
    },
    {
      "cell_type": "markdown",
      "metadata": {
        "id": "_zrirXHfgmyY"
      },
      "source": [
        "# numpy\n",
        "## random 서브모듈\n",
        "> [데이터싸이언스 스쿨:난수발생](https://datascienceschool.net/01%20python/03.05%20%EB%82%9C%EC%88%98%20%EB%B0%9C%EC%83%9D%EA%B3%BC%20%EC%B9%B4%EC%9A%B4%ED%8C%85.html)"
      ]
    },
    {
      "cell_type": "code",
      "metadata": {
        "id": "kQbzzSMZG2PX"
      },
      "source": [
        "import numpy as np"
      ],
      "execution_count": 1,
      "outputs": []
    },
    {
      "cell_type": "markdown",
      "metadata": {
        "id": "1Ry0YHkNFis5"
      },
      "source": [
        "## 난수 생성\n",
        "> NumPy의 random 서브모듈은 난수를 생성하는 다양한 명령을 제공.\n",
        "\n",
        "- rand: 0부터 1사이의 균일 분포 (uniform distribution)\n",
        "- randn: 가우시안 표준 정규 분포 (normal distribution, Gaussian)\n",
        "- randint: 균일 분포의 정수 난수 (uniform int)\n",
        "\n",
        "> randn()은 평균 0, 표준편차 1 인 가우시안 정규분포를 생성."
      ]
    },
    {
      "cell_type": "markdown",
      "metadata": {
        "id": "CtO1VxvurziR"
      },
      "source": [
        "### rand: 0부터 1사이의 균일 분포 (uniform distribution)"
      ]
    },
    {
      "cell_type": "code",
      "metadata": {
        "id": "LA1oF6aEG7kJ",
        "colab": {
          "base_uri": "https://localhost:8080/"
        },
        "outputId": "c1fa24bd-ddeb-4b27-c2f0-71f0bb1337c3"
      },
      "source": [
        "np.random.rand(5)"
      ],
      "execution_count": 2,
      "outputs": [
        {
          "output_type": "execute_result",
          "data": {
            "text/plain": [
              "array([0.11041717, 0.33763861, 0.976267  , 0.16513313, 0.02785758])"
            ]
          },
          "metadata": {},
          "execution_count": 2
        }
      ]
    },
    {
      "cell_type": "code",
      "metadata": {
        "id": "H6f4ix3NHCyR",
        "colab": {
          "base_uri": "https://localhost:8080/"
        },
        "outputId": "e17c9413-4a31-4ede-b390-6aee34519ae8"
      },
      "source": [
        "np.random.rand(5)"
      ],
      "execution_count": 3,
      "outputs": [
        {
          "output_type": "execute_result",
          "data": {
            "text/plain": [
              "array([0.67728425, 0.8624391 , 0.60956345, 0.39383738, 0.71745252])"
            ]
          },
          "metadata": {},
          "execution_count": 3
        }
      ]
    },
    {
      "cell_type": "markdown",
      "metadata": {
        "id": "c88F6gf8r4K2"
      },
      "source": [
        "### randn: 가우시안 표준 정규 분포 (normal distribution, Gaussian)"
      ]
    },
    {
      "cell_type": "code",
      "metadata": {
        "id": "rtVfCL-uP2Tw",
        "colab": {
          "base_uri": "https://localhost:8080/"
        },
        "outputId": "283838f7-c773-4b34-9fbd-4aada76d1a75"
      },
      "source": [
        "np.random.randn(5)"
      ],
      "execution_count": 4,
      "outputs": [
        {
          "output_type": "execute_result",
          "data": {
            "text/plain": [
              "array([ 0.48158895, -1.25025387, -0.67674414,  0.21921018, -1.08759651])"
            ]
          },
          "metadata": {},
          "execution_count": 4
        }
      ]
    },
    {
      "cell_type": "code",
      "metadata": {
        "colab": {
          "base_uri": "https://localhost:8080/"
        },
        "id": "cBklKtpR1Xtk",
        "outputId": "3adf4a05-2a38-4570-ac48-5ebb84d973fe"
      },
      "source": [
        "np.random.randn(5)"
      ],
      "execution_count": 5,
      "outputs": [
        {
          "output_type": "execute_result",
          "data": {
            "text/plain": [
              "array([ 0.40941097,  0.91265001, -1.2044888 , -0.45609284, -0.08139428])"
            ]
          },
          "metadata": {},
          "execution_count": 5
        }
      ]
    },
    {
      "cell_type": "markdown",
      "metadata": {
        "id": "wsvTzTFSsBSJ"
      },
      "source": [
        "### randint: 균일 분포의 정수 난수 (uniform int)\n",
        "- numpy.random.randint(low, high=None, size=None, dtype='l')"
      ]
    },
    {
      "cell_type": "code",
      "metadata": {
        "id": "WSvAH8uVs2Vb",
        "colab": {
          "base_uri": "https://localhost:8080/"
        },
        "outputId": "18b64e8a-55b5-404d-fe28-f173dc8e5867"
      },
      "source": [
        "np.random.randint(5)"
      ],
      "execution_count": 10,
      "outputs": [
        {
          "output_type": "execute_result",
          "data": {
            "text/plain": [
              "3"
            ]
          },
          "metadata": {},
          "execution_count": 10
        }
      ]
    },
    {
      "cell_type": "code",
      "metadata": {
        "colab": {
          "base_uri": "https://localhost:8080/"
        },
        "id": "sM9_Kh_Q2BbD",
        "outputId": "2bdab104-9a68-4923-c125-2e940b87c1e2"
      },
      "source": [
        "# die number \n",
        "np.random.randint(1,7)"
      ],
      "execution_count": 18,
      "outputs": [
        {
          "output_type": "execute_result",
          "data": {
            "text/plain": [
              "2"
            ]
          },
          "metadata": {},
          "execution_count": 18
        }
      ]
    },
    {
      "cell_type": "code",
      "metadata": {
        "id": "McWHW15uQDPr",
        "colab": {
          "base_uri": "https://localhost:8080/"
        },
        "outputId": "23e402d6-07ea-4815-e167-3e39c18185cf"
      },
      "source": [
        "np.random.randint(5,9) "
      ],
      "execution_count": 13,
      "outputs": [
        {
          "output_type": "execute_result",
          "data": {
            "text/plain": [
              "5"
            ]
          },
          "metadata": {},
          "execution_count": 13
        }
      ]
    },
    {
      "cell_type": "code",
      "metadata": {
        "id": "oBsWu9FmQQSC",
        "colab": {
          "base_uri": "https://localhost:8080/"
        },
        "outputId": "36ae9d02-015b-401c-cfe6-d2ca0357d555"
      },
      "source": [
        "np.random.randint(0,10,5)"
      ],
      "execution_count": 19,
      "outputs": [
        {
          "output_type": "execute_result",
          "data": {
            "text/plain": [
              "array([9, 3, 0, 1, 7])"
            ]
          },
          "metadata": {},
          "execution_count": 19
        }
      ]
    },
    {
      "cell_type": "code",
      "metadata": {
        "id": "0kNuJxjaQYEu",
        "colab": {
          "base_uri": "https://localhost:8080/"
        },
        "outputId": "106274b0-2a50-4deb-c6b5-d251df64e7a9"
      },
      "source": [
        "np.random.randint(0,10,5)"
      ],
      "execution_count": 20,
      "outputs": [
        {
          "output_type": "execute_result",
          "data": {
            "text/plain": [
              "array([5, 3, 1, 9, 4])"
            ]
          },
          "metadata": {},
          "execution_count": 20
        }
      ]
    },
    {
      "cell_type": "markdown",
      "metadata": {
        "id": "K58DiNYUmANL"
      },
      "source": [
        "---"
      ]
    },
    {
      "cell_type": "markdown",
      "metadata": {
        "id": "xU5NWjQ3F_ld"
      },
      "source": [
        "## 난수 생성 seed 설정\n",
        "- numpy.random.seed(seed=None)\n",
        "- np.random.seed(number)"
      ]
    },
    {
      "cell_type": "code",
      "metadata": {
        "id": "AxUeYmQSQawG"
      },
      "source": [
        "np.random.seed()"
      ],
      "execution_count": 21,
      "outputs": []
    },
    {
      "cell_type": "code",
      "metadata": {
        "id": "C33YjKqvRJ33",
        "colab": {
          "base_uri": "https://localhost:8080/"
        },
        "outputId": "4350d289-fbc3-477b-81f0-0d9aa305b190"
      },
      "source": [
        "np.random.rand(5)"
      ],
      "execution_count": 22,
      "outputs": [
        {
          "output_type": "execute_result",
          "data": {
            "text/plain": [
              "array([0.88602646, 0.23056295, 0.27559457, 0.87345963, 0.71022183])"
            ]
          },
          "metadata": {},
          "execution_count": 22
        }
      ]
    },
    {
      "cell_type": "code",
      "metadata": {
        "id": "Ne8rIyN9RO81",
        "colab": {
          "base_uri": "https://localhost:8080/"
        },
        "outputId": "f34a5f43-4048-46ad-c948-c29cb8f5b02e"
      },
      "source": [
        "np.random.rand(5)"
      ],
      "execution_count": 23,
      "outputs": [
        {
          "output_type": "execute_result",
          "data": {
            "text/plain": [
              "array([0.87092184, 0.15535962, 0.29159488, 0.04841499, 0.96737385])"
            ]
          },
          "metadata": {},
          "execution_count": 23
        }
      ]
    },
    {
      "cell_type": "markdown",
      "metadata": {
        "id": "wnQ4gFoltu81"
      },
      "source": [
        "### 동일한 무작위수 생성\n",
        "- seed를 고정하고 무작위수 생성"
      ]
    },
    {
      "cell_type": "code",
      "metadata": {
        "id": "LGPOJGfgRSWx"
      },
      "source": [
        "np.random.seed(1234)"
      ],
      "execution_count": 24,
      "outputs": []
    },
    {
      "cell_type": "code",
      "metadata": {
        "id": "t2PNRUpfRXZk",
        "colab": {
          "base_uri": "https://localhost:8080/"
        },
        "outputId": "acefacb9-49e6-4ea6-82f4-c336db1563d6"
      },
      "source": [
        "np.random.rand(5)"
      ],
      "execution_count": 25,
      "outputs": [
        {
          "output_type": "execute_result",
          "data": {
            "text/plain": [
              "array([0.19151945, 0.62210877, 0.43772774, 0.78535858, 0.77997581])"
            ]
          },
          "metadata": {},
          "execution_count": 25
        }
      ]
    },
    {
      "cell_type": "code",
      "metadata": {
        "id": "x8yKednV8CZy",
        "colab": {
          "base_uri": "https://localhost:8080/"
        },
        "outputId": "f395841a-6d51-44b8-99c9-81149009e497"
      },
      "source": [
        "np.random.rand(5)"
      ],
      "execution_count": 26,
      "outputs": [
        {
          "output_type": "execute_result",
          "data": {
            "text/plain": [
              "array([0.27259261, 0.27646426, 0.80187218, 0.95813935, 0.87593263])"
            ]
          },
          "metadata": {},
          "execution_count": 26
        }
      ]
    },
    {
      "cell_type": "code",
      "metadata": {
        "id": "bo2A_ntYRcKw"
      },
      "source": [
        "np.random.seed(1234)"
      ],
      "execution_count": 27,
      "outputs": []
    },
    {
      "cell_type": "code",
      "metadata": {
        "id": "U5qXdwYQRYeT",
        "colab": {
          "base_uri": "https://localhost:8080/"
        },
        "outputId": "a072324a-f625-4b42-b7f3-b1dc0a57dfd6"
      },
      "source": [
        "np.random.rand(5)"
      ],
      "execution_count": 28,
      "outputs": [
        {
          "output_type": "execute_result",
          "data": {
            "text/plain": [
              "array([0.19151945, 0.62210877, 0.43772774, 0.78535858, 0.77997581])"
            ]
          },
          "metadata": {},
          "execution_count": 28
        }
      ]
    },
    {
      "cell_type": "markdown",
      "metadata": {
        "id": "pwMXGAwmRhpW"
      },
      "source": [
        "### seed 고정 후에 randint(5)"
      ]
    },
    {
      "cell_type": "code",
      "metadata": {
        "id": "tqmTOMMVRhGW",
        "colab": {
          "base_uri": "https://localhost:8080/"
        },
        "outputId": "01616287-2821-4a28-a564-7562897c53e7"
      },
      "source": [
        "np.random.seed(5678)\n",
        "np.random.randint(1,10,5)"
      ],
      "execution_count": 29,
      "outputs": [
        {
          "output_type": "execute_result",
          "data": {
            "text/plain": [
              "array([5, 8, 3, 5, 4])"
            ]
          },
          "metadata": {},
          "execution_count": 29
        }
      ]
    },
    {
      "cell_type": "code",
      "metadata": {
        "id": "YxQYjcOLSA-Z",
        "colab": {
          "base_uri": "https://localhost:8080/"
        },
        "outputId": "c33f1373-5998-49df-e146-fcca83d5ffce"
      },
      "source": [
        "np.random.randint(1,10,5)"
      ],
      "execution_count": 30,
      "outputs": [
        {
          "output_type": "execute_result",
          "data": {
            "text/plain": [
              "array([6, 3, 7, 4, 1])"
            ]
          },
          "metadata": {},
          "execution_count": 30
        }
      ]
    },
    {
      "cell_type": "code",
      "metadata": {
        "id": "aQYF5QpGSD6p",
        "colab": {
          "base_uri": "https://localhost:8080/"
        },
        "outputId": "c030cf10-c2c6-4108-e352-00b5a7680acd"
      },
      "source": [
        "np.random.seed(5678)\n",
        "np.random.randint(1,10,5)"
      ],
      "execution_count": 31,
      "outputs": [
        {
          "output_type": "execute_result",
          "data": {
            "text/plain": [
              "array([5, 8, 3, 5, 4])"
            ]
          },
          "metadata": {},
          "execution_count": 31
        }
      ]
    },
    {
      "cell_type": "code",
      "metadata": {
        "id": "cfIhMEcVSGKa",
        "colab": {
          "base_uri": "https://localhost:8080/"
        },
        "outputId": "057d024e-af34-4e5d-e568-af5f6b06f08d"
      },
      "source": [
        "np.random.seed(5678)\n",
        "np.random.randint(1,10,5)"
      ],
      "execution_count": 32,
      "outputs": [
        {
          "output_type": "execute_result",
          "data": {
            "text/plain": [
              "array([5, 8, 3, 5, 4])"
            ]
          },
          "metadata": {},
          "execution_count": 32
        }
      ]
    },
    {
      "cell_type": "code",
      "metadata": {
        "id": "Ik9a-QkcfLwy",
        "colab": {
          "base_uri": "https://localhost:8080/"
        },
        "outputId": "caa2778f-f17f-4eb0-8a52-40d484a9720d"
      },
      "source": [
        "# seed 변경\n",
        "np.random.seed(0)\n",
        "np.random.randint(1,10,5)"
      ],
      "execution_count": 33,
      "outputs": [
        {
          "output_type": "execute_result",
          "data": {
            "text/plain": [
              "array([6, 1, 4, 4, 8])"
            ]
          },
          "metadata": {},
          "execution_count": 33
        }
      ]
    },
    {
      "cell_type": "markdown",
      "metadata": {
        "id": "Zg3g31drmDMI"
      },
      "source": [
        "---\n",
        "---"
      ]
    },
    {
      "cell_type": "markdown",
      "metadata": {
        "id": "YNVh_pbhfROq"
      },
      "source": [
        "## DIY: 도전 코딩 - numpy 정리 과제\n",
        "- 생성된 마구잡이수를 조사하고 사용하기 \n",
        "- 9월19일 자정 마감."
      ]
    },
    {
      "cell_type": "markdown",
      "metadata": {
        "id": "vxNHFDSIgMmC"
      },
      "source": [
        "### [도전 1.] 0부터 9까지의 마구잡이 정수를 1000개 만들고 각 수의 빈도를 구하시오. "
      ]
    },
    {
      "cell_type": "code",
      "metadata": {
        "id": "qkDfXH1xgjBz",
        "colab": {
          "base_uri": "https://localhost:8080/"
        },
        "outputId": "9bb0a5c0-d75f-4227-8a88-02b06f5ceb27"
      },
      "source": [
        "# n1000=\n",
        "n1000 = np.random.randint(0,10,1000)\n",
        "n1000"
      ],
      "execution_count": 48,
      "outputs": [
        {
          "output_type": "execute_result",
          "data": {
            "text/plain": [
              "array([7, 5, 2, 2, 4, 0, 4, 7, 3, 8, 6, 6, 5, 2, 6, 6, 5, 0, 2, 1, 6, 1,\n",
              "       4, 2, 1, 5, 2, 1, 5, 2, 6, 6, 2, 0, 4, 5, 7, 3, 6, 5, 5, 9, 2, 0,\n",
              "       5, 1, 3, 0, 7, 1, 9, 3, 6, 5, 6, 9, 6, 1, 5, 4, 7, 6, 3, 2, 3, 6,\n",
              "       5, 7, 7, 6, 6, 5, 8, 5, 3, 7, 2, 7, 2, 9, 5, 0, 2, 8, 1, 8, 2, 8,\n",
              "       6, 8, 3, 6, 4, 0, 6, 6, 3, 4, 8, 6, 0, 0, 3, 5, 7, 0, 9, 9, 8, 0,\n",
              "       1, 9, 4, 0, 2, 4, 8, 2, 2, 7, 6, 3, 2, 6, 5, 4, 3, 3, 9, 7, 4, 4,\n",
              "       5, 9, 4, 1, 1, 7, 9, 0, 0, 5, 7, 0, 5, 2, 0, 9, 7, 5, 0, 3, 5, 3,\n",
              "       2, 2, 0, 8, 3, 9, 9, 9, 6, 4, 9, 3, 4, 1, 0, 9, 1, 1, 7, 2, 7, 0,\n",
              "       1, 8, 0, 3, 5, 1, 2, 1, 4, 7, 9, 8, 4, 4, 6, 5, 1, 0, 1, 0, 3, 5,\n",
              "       5, 6, 9, 2, 9, 5, 7, 5, 9, 8, 1, 5, 8, 9, 1, 4, 0, 2, 0, 9, 7, 9,\n",
              "       3, 8, 7, 7, 8, 1, 9, 8, 9, 0, 7, 7, 6, 5, 8, 5, 4, 0, 9, 1, 8, 0,\n",
              "       3, 7, 3, 7, 5, 3, 8, 3, 1, 3, 3, 0, 7, 2, 0, 6, 6, 7, 7, 1, 2, 8,\n",
              "       5, 1, 7, 3, 1, 6, 8, 2, 7, 8, 9, 6, 9, 8, 5, 0, 0, 9, 4, 6, 0, 9,\n",
              "       4, 2, 2, 4, 7, 1, 9, 6, 4, 6, 8, 6, 9, 2, 7, 4, 0, 1, 6, 4, 0, 0,\n",
              "       2, 7, 6, 6, 7, 7, 0, 9, 4, 1, 4, 9, 5, 9, 0, 6, 4, 4, 1, 7, 0, 1,\n",
              "       2, 8, 7, 9, 8, 0, 0, 0, 2, 6, 8, 3, 7, 3, 3, 5, 5, 4, 8, 9, 2, 8,\n",
              "       5, 7, 5, 4, 4, 7, 8, 8, 5, 6, 6, 3, 6, 0, 5, 6, 9, 5, 4, 3, 0, 5,\n",
              "       1, 5, 1, 1, 8, 7, 9, 3, 5, 2, 6, 3, 8, 4, 8, 0, 8, 4, 0, 5, 5, 2,\n",
              "       4, 8, 8, 4, 1, 8, 8, 8, 3, 3, 2, 9, 5, 7, 5, 8, 7, 9, 0, 2, 7, 3,\n",
              "       5, 1, 5, 1, 1, 2, 4, 3, 1, 9, 1, 2, 8, 1, 7, 8, 2, 9, 6, 5, 1, 9,\n",
              "       6, 9, 2, 5, 6, 1, 5, 8, 4, 6, 5, 6, 0, 2, 5, 6, 2, 9, 1, 4, 8, 8,\n",
              "       3, 7, 2, 9, 1, 1, 1, 6, 3, 6, 5, 4, 2, 7, 8, 8, 0, 7, 8, 8, 7, 4,\n",
              "       6, 9, 6, 8, 3, 7, 8, 4, 2, 3, 0, 4, 8, 0, 4, 2, 6, 2, 2, 2, 7, 9,\n",
              "       6, 9, 6, 0, 2, 1, 4, 6, 3, 8, 7, 5, 9, 0, 2, 1, 0, 5, 9, 7, 3, 4,\n",
              "       4, 7, 1, 7, 7, 8, 9, 5, 6, 1, 0, 0, 0, 2, 3, 1, 6, 4, 0, 8, 8, 6,\n",
              "       4, 5, 5, 7, 7, 9, 3, 5, 5, 4, 9, 0, 9, 5, 6, 7, 0, 8, 0, 7, 8, 8,\n",
              "       9, 4, 0, 3, 6, 8, 3, 4, 4, 4, 1, 3, 8, 8, 3, 2, 1, 4, 7, 6, 8, 0,\n",
              "       1, 1, 3, 7, 8, 4, 6, 2, 6, 9, 0, 0, 2, 9, 9, 0, 5, 0, 4, 7, 7, 1,\n",
              "       8, 6, 5, 1, 5, 4, 2, 6, 1, 1, 7, 9, 5, 4, 1, 5, 7, 8, 2, 4, 9, 7,\n",
              "       2, 8, 2, 1, 8, 7, 1, 3, 5, 8, 1, 3, 9, 1, 2, 7, 5, 8, 5, 3, 2, 5,\n",
              "       4, 8, 1, 0, 8, 8, 4, 0, 4, 2, 7, 4, 4, 5, 6, 3, 7, 0, 9, 4, 4, 5,\n",
              "       8, 5, 6, 1, 4, 5, 3, 9, 6, 8, 7, 4, 7, 8, 1, 4, 5, 5, 3, 8, 3, 5,\n",
              "       3, 4, 6, 1, 9, 9, 7, 6, 5, 2, 9, 3, 5, 8, 3, 1, 9, 6, 7, 8, 1, 9,\n",
              "       7, 3, 7, 9, 4, 1, 1, 8, 2, 0, 8, 5, 5, 3, 0, 1, 7, 4, 4, 4, 4, 5,\n",
              "       6, 8, 4, 4, 7, 7, 4, 5, 7, 4, 9, 5, 9, 1, 4, 0, 1, 3, 9, 2, 0, 7,\n",
              "       2, 9, 0, 1, 8, 1, 1, 5, 9, 6, 6, 8, 1, 5, 9, 5, 6, 9, 0, 3, 7, 2,\n",
              "       9, 0, 9, 9, 9, 7, 7, 6, 7, 0, 6, 0, 2, 6, 8, 8, 6, 3, 2, 3, 1, 4,\n",
              "       0, 8, 2, 6, 7, 7, 8, 0, 2, 1, 6, 3, 6, 7, 9, 4, 0, 8, 2, 3, 2, 8,\n",
              "       0, 6, 6, 9, 5, 9, 7, 3, 6, 8, 5, 2, 8, 9, 1, 4, 0, 9, 4, 7, 0, 9,\n",
              "       1, 4, 0, 0, 9, 0, 3, 8, 6, 2, 0, 9, 6, 5, 6, 9, 1, 4, 4, 2, 9, 2,\n",
              "       4, 9, 3, 3, 6, 0, 8, 9, 5, 5, 2, 0, 4, 0, 5, 2, 3, 2, 9, 8, 9, 0,\n",
              "       6, 0, 9, 1, 3, 5, 1, 2, 0, 5, 6, 9, 1, 2, 6, 6, 7, 0, 5, 4, 7, 4,\n",
              "       6, 6, 8, 6, 0, 2, 0, 0, 8, 4, 0, 1, 0, 8, 5, 2, 8, 0, 5, 0, 8, 5,\n",
              "       6, 9, 4, 4, 2, 4, 0, 8, 1, 7, 4, 1, 0, 9, 5, 1, 8, 1, 6, 0, 0, 2,\n",
              "       0, 7, 2, 7, 5, 4, 0, 7, 9, 8, 1, 3, 2, 2, 5, 7, 1, 5, 3, 9, 5, 6,\n",
              "       3, 6, 7, 5, 6, 9, 9, 5, 7, 5])"
            ]
          },
          "metadata": {},
          "execution_count": 48
        }
      ]
    },
    {
      "cell_type": "code",
      "metadata": {
        "id": "9_6nzbQD3FZi",
        "colab": {
          "base_uri": "https://localhost:8080/"
        },
        "outputId": "2a93a553-8902-4ed2-cf2b-1a1dcc616737"
      },
      "source": [
        " np.unique(n1000)"
      ],
      "execution_count": 36,
      "outputs": [
        {
          "output_type": "execute_result",
          "data": {
            "text/plain": [
              "array([0, 1, 2, 3, 4, 5, 6, 7, 8, 9])"
            ]
          },
          "metadata": {},
          "execution_count": 36
        }
      ]
    },
    {
      "cell_type": "code",
      "metadata": {
        "id": "eiw9R1243Rzp",
        "colab": {
          "base_uri": "https://localhost:8080/"
        },
        "outputId": "e040ebf4-9cdf-447c-cf17-052b14185822"
      },
      "source": [
        "# 각 수의 빈도\n",
        "value, count= np.unique(n1000, return_counts=True)\n",
        "value, count\n",
        "\n"
      ],
      "execution_count": 49,
      "outputs": [
        {
          "output_type": "execute_result",
          "data": {
            "text/plain": [
              "(array([0, 1, 2, 3, 4, 5, 6, 7, 8, 9]),\n",
              " array([109,  96,  92,  78, 100, 111, 104, 101, 105, 104]))"
            ]
          },
          "metadata": {},
          "execution_count": 49
        }
      ]
    },
    {
      "cell_type": "markdown",
      "metadata": {
        "id": "cIhlY6-GghMN"
      },
      "source": [
        "### [도전 2.] 0부터 9까지의 마구잡이 정수를 1000개 만들고 각 수가 처음 출현하는 인덱스를 구하시오.\n",
        "> 0이 처음 나타날 때의 인덱스, 1이 처음 나타날 때의 인덱스, ... "
      ]
    },
    {
      "cell_type": "code",
      "metadata": {
        "colab": {
          "base_uri": "https://localhost:8080/"
        },
        "id": "j-Pq2ZsS49ok",
        "outputId": "de055b78-3fd0-4496-c160-206d9a10d1e0"
      },
      "source": [
        "n1000[0], n1000[800]"
      ],
      "execution_count": 39,
      "outputs": [
        {
          "output_type": "execute_result",
          "data": {
            "text/plain": [
              "(9, 0)"
            ]
          },
          "metadata": {},
          "execution_count": 39
        }
      ]
    },
    {
      "cell_type": "code",
      "metadata": {
        "id": "oA1ec_RjgL3X",
        "colab": {
          "base_uri": "https://localhost:8080/",
          "height": 208
        },
        "outputId": "99aefb19-7ef1-4ed3-dc6e-ef0e4cf83b21"
      },
      "source": [
        "# 각 수가 처음 출현하는 인덱스\n",
        "value, count= np.unique(n1000, return_index=False)\n",
        "value, count"
      ],
      "execution_count": 52,
      "outputs": [
        {
          "output_type": "error",
          "ename": "ValueError",
          "evalue": "ignored",
          "traceback": [
            "\u001b[0;31m---------------------------------------------------------------------------\u001b[0m",
            "\u001b[0;31mValueError\u001b[0m                                Traceback (most recent call last)",
            "\u001b[0;32m<ipython-input-52-5856bbd05254>\u001b[0m in \u001b[0;36m<module>\u001b[0;34m()\u001b[0m\n\u001b[1;32m      1\u001b[0m \u001b[0;31m# 각 수가 처음 출현하는 인덱스\u001b[0m\u001b[0;34m\u001b[0m\u001b[0;34m\u001b[0m\u001b[0;34m\u001b[0m\u001b[0m\n\u001b[0;32m----> 2\u001b[0;31m \u001b[0mvalue\u001b[0m\u001b[0;34m,\u001b[0m \u001b[0mcount\u001b[0m\u001b[0;34m=\u001b[0m \u001b[0mnp\u001b[0m\u001b[0;34m.\u001b[0m\u001b[0munique\u001b[0m\u001b[0;34m(\u001b[0m\u001b[0mn1000\u001b[0m\u001b[0;34m,\u001b[0m \u001b[0mreturn_index\u001b[0m\u001b[0;34m=\u001b[0m\u001b[0;32mFalse\u001b[0m\u001b[0;34m)\u001b[0m\u001b[0;34m\u001b[0m\u001b[0;34m\u001b[0m\u001b[0m\n\u001b[0m\u001b[1;32m      3\u001b[0m \u001b[0mvalue\u001b[0m\u001b[0;34m,\u001b[0m \u001b[0mcount\u001b[0m\u001b[0;34m\u001b[0m\u001b[0;34m\u001b[0m\u001b[0m\n",
            "\u001b[0;31mValueError\u001b[0m: too many values to unpack (expected 2)"
          ]
        }
      ]
    },
    {
      "cell_type": "code",
      "metadata": {
        "id": "yubibMMZ4AZS"
      },
      "source": [
        "# n1000[index]"
      ],
      "execution_count": null,
      "outputs": []
    },
    {
      "cell_type": "markdown",
      "metadata": {
        "id": "sadkRzWjgiTM"
      },
      "source": [
        "### [도전 3.] seed를 1234로 고정하고, 위의 도전1,2를 다시 해보시오. "
      ]
    },
    {
      "cell_type": "markdown",
      "metadata": {
        "id": "zAGojAainnox"
      },
      "source": [
        "### [도전 4.] 0부터 999까지의 마구잡이 정수로 구성되는 28X28 이차원배열을 만드시오.\n",
        "- 시드를 고정 : np.random.seed(1234)\n",
        "1. 각 행의 최대값, 최소갑을 구하시오.\n",
        "2. 배열 전체의 최대값, 최소값을 구하시오.\n",
        "3. 배열전체의 최대값, 최소값의 index를 각각 찾으시오."
      ]
    },
    {
      "cell_type": "markdown",
      "metadata": {
        "id": "VoSu8rNOnwPU"
      },
      "source": [
        "---\n",
        "---"
      ]
    },
    {
      "cell_type": "markdown",
      "metadata": {
        "id": "ozoCcRquhg4p"
      },
      "source": [
        "## python graphics\n",
        "- matplotlib\n",
        "> import matplotlib.pyplot as plt"
      ]
    },
    {
      "cell_type": "markdown",
      "metadata": {
        "id": "h6yEJiGJ4Lbk"
      },
      "source": [
        "### 무작위수 분포 그려보기"
      ]
    },
    {
      "cell_type": "code",
      "metadata": {
        "id": "ngcwuNlfhrIQ"
      },
      "source": [
        "import matplotlib.pyplot as plt"
      ],
      "execution_count": 53,
      "outputs": []
    },
    {
      "cell_type": "code",
      "metadata": {
        "id": "jr30IHxvJDuE",
        "colab": {
          "base_uri": "https://localhost:8080/",
          "height": 319
        },
        "outputId": "caa08940-0cc3-4a15-9e5a-118abed303a4"
      },
      "source": [
        "plt.hist(n1000,label=range(0,10), color='red') # bins=40)\n",
        "# plt.show()"
      ],
      "execution_count": 59,
      "outputs": [
        {
          "output_type": "execute_result",
          "data": {
            "text/plain": [
              "(array([109.,  96.,  92.,  78., 100., 111., 104., 101., 105., 104.]),\n",
              " array([0. , 0.9, 1.8, 2.7, 3.6, 4.5, 5.4, 6.3, 7.2, 8.1, 9. ]),\n",
              " <a list of 10 Patch objects>)"
            ]
          },
          "metadata": {},
          "execution_count": 59
        },
        {
          "output_type": "display_data",
          "data": {
            "image/png": "[encoded data removed]",
            "text/plain": [
              "<Figure size 432x288 with 1 Axes>"
            ]
          },
          "metadata": {
            "needs_background": "light"
          }
        }
      ]
    },
    {
      "cell_type": "markdown",
      "metadata": {
        "id": "b-JcgSU-Ktyz"
      },
      "source": [
        "### [도전] 균일분포와 정규분포를 비교하는 그림을 그리시오."
      ]
    },
    {
      "cell_type": "code",
      "metadata": {
        "id": "k0XaT2f9JGZy",
        "colab": {
          "base_uri": "https://localhost:8080/",
          "height": 373
        },
        "outputId": "2c61a856-acfb-4718-feb8-6c82eebefedf"
      },
      "source": [
        "plt.hist(np.random.rand(100000))"
      ],
      "execution_count": 62,
      "outputs": [
        {
          "output_type": "execute_result",
          "data": {
            "text/plain": [
              "(array([10097., 10054.,  9898.,  9866., 10055., 10081.,  9836., 10016.,\n",
              "        10040., 10057.]),\n",
              " array([3.31055446e-06, 1.00000775e-01, 1.99998239e-01, 2.99995703e-01,\n",
              "        3.99993167e-01, 4.99990631e-01, 5.99988095e-01, 6.99985559e-01,\n",
              "        7.99983024e-01, 8.99980488e-01, 9.99977952e-01]),\n",
              " <a list of 10 Patch objects>)"
            ]
          },
          "metadata": {},
          "execution_count": 62
        },
        {
          "output_type": "display_data",
          "data": {
            "image/png": "[encoded data removed]",
            "text/plain": [
              "<Figure size 432x288 with 1 Axes>"
            ]
          },
          "metadata": {
            "needs_background": "light"
          }
        }
      ]
    },
    {
      "cell_type": "code",
      "metadata": {
        "id": "T8SCqKVeMhBF",
        "colab": {
          "base_uri": "https://localhost:8080/",
          "height": 643
        },
        "outputId": "12795a8f-a1f5-4259-a0fd-6c33b9465d47"
      },
      "source": [
        "plt.hist(np.random.randn(100000),bins=50)"
      ],
      "execution_count": 64,
      "outputs": [
        {
          "output_type": "execute_result",
          "data": {
            "text/plain": [
              "(array([1.000e+00, 0.000e+00, 0.000e+00, 1.000e+00, 6.000e+00, 5.000e+00,\n",
              "        1.200e+01, 1.900e+01, 5.600e+01, 8.300e+01, 1.270e+02, 2.310e+02,\n",
              "        3.420e+02, 5.210e+02, 7.760e+02, 1.155e+03, 1.577e+03, 2.067e+03,\n",
              "        2.748e+03, 3.464e+03, 4.334e+03, 5.038e+03, 5.828e+03, 6.329e+03,\n",
              "        6.782e+03, 7.112e+03, 7.049e+03, 7.001e+03, 6.668e+03, 6.115e+03,\n",
              "        5.283e+03, 4.550e+03, 3.709e+03, 3.064e+03, 2.326e+03, 1.672e+03,\n",
              "        1.269e+03, 9.400e+02, 6.520e+02, 4.300e+02, 2.650e+02, 1.680e+02,\n",
              "        1.050e+02, 4.900e+01, 3.100e+01, 2.100e+01, 8.000e+00, 8.000e+00,\n",
              "        2.000e+00, 1.000e+00]),\n",
              " array([-4.69458783, -4.51497896, -4.33537009, -4.15576122, -3.97615235,\n",
              "        -3.79654348, -3.61693461, -3.43732575, -3.25771688, -3.07810801,\n",
              "        -2.89849914, -2.71889027, -2.5392814 , -2.35967253, -2.18006366,\n",
              "        -2.00045479, -1.82084592, -1.64123705, -1.46162818, -1.28201931,\n",
              "        -1.10241044, -0.92280157, -0.7431927 , -0.56358383, -0.38397496,\n",
              "        -0.20436609, -0.02475723,  0.15485164,  0.33446051,  0.51406938,\n",
              "         0.69367825,  0.87328712,  1.05289599,  1.23250486,  1.41211373,\n",
              "         1.5917226 ,  1.77133147,  1.95094034,  2.13054921,  2.31015808,\n",
              "         2.48976695,  2.66937582,  2.84898469,  3.02859356,  3.20820242,\n",
              "         3.38781129,  3.56742016,  3.74702903,  3.9266379 ,  4.10624677,\n",
              "         4.28585564]),\n",
              " <a list of 50 Patch objects>)"
            ]
          },
          "metadata": {},
          "execution_count": 64
        },
        {
          "output_type": "display_data",
          "data": {
            "image/png": "[encoded data removed]",
            "text/plain": [
              "<Figure size 432x288 with 1 Axes>"
            ]
          },
          "metadata": {
            "needs_background": "light"
          }
        }
      ]
    },
    {
      "cell_type": "markdown",
      "metadata": {
        "id": "LYthn3089aqD"
      },
      "source": [
        "## 보충 코드"
      ]
    },
    {
      "cell_type": "code",
      "metadata": {
        "id": "BUkVDXTJMkwc",
        "colab": {
          "base_uri": "https://localhost:8080/"
        },
        "outputId": "c1424798-a27e-473b-98d9-45cb6cfa8513"
      },
      "source": [
        "n1000 = np.random.randint(0,10,1000)\n",
        "n1000"
      ],
      "execution_count": 42,
      "outputs": [
        {
          "output_type": "execute_result",
          "data": {
            "text/plain": [
              "array([8, 1, 0, 9, 5, 9, 2, 1, 3, 0, 6, 0, 7, 9, 3, 8, 4, 4, 5, 1, 6, 8,\n",
              "       6, 1, 4, 4, 9, 8, 6, 2, 3, 8, 0, 5, 8, 7, 5, 6, 5, 7, 4, 2, 6, 6,\n",
              "       8, 1, 0, 5, 0, 1, 4, 1, 9, 0, 3, 9, 3, 0, 8, 2, 5, 4, 2, 4, 2, 0,\n",
              "       1, 5, 5, 8, 0, 0, 5, 7, 3, 6, 0, 2, 0, 5, 1, 7, 3, 2, 3, 2, 3, 7,\n",
              "       7, 1, 4, 6, 7, 0, 0, 6, 4, 4, 5, 1, 2, 6, 8, 2, 9, 9, 5, 5, 8, 5,\n",
              "       9, 1, 9, 4, 6, 9, 8, 0, 5, 6, 0, 6, 0, 6, 7, 1, 1, 5, 0, 6, 4, 4,\n",
              "       4, 7, 2, 1, 4, 9, 8, 4, 4, 7, 0, 7, 8, 9, 9, 5, 2, 6, 9, 5, 6, 5,\n",
              "       3, 3, 0, 3, 4, 1, 0, 9, 9, 3, 9, 3, 4, 6, 5, 7, 1, 5, 7, 6, 6, 6,\n",
              "       1, 8, 4, 2, 0, 2, 8, 3, 7, 2, 1, 4, 4, 4, 2, 4, 8, 7, 9, 8, 9, 5,\n",
              "       9, 1, 8, 8, 6, 0, 0, 2, 3, 2, 1, 9, 5, 6, 1, 8, 7, 7, 3, 4, 9, 6,\n",
              "       9, 6, 4, 1, 2, 0, 0, 7, 6, 2, 9, 8, 8, 2, 1, 2, 7, 6, 6, 2, 1, 5,\n",
              "       6, 9, 9, 3, 9, 4, 2, 1, 6, 0, 2, 6, 3, 7, 5, 2, 6, 6, 1, 9, 0, 1,\n",
              "       3, 3, 1, 3, 4, 3, 9, 9, 5, 6, 8, 9, 5, 5, 8, 4, 5, 0, 3, 1, 6, 8,\n",
              "       6, 3, 4, 5, 8, 2, 9, 3, 2, 9, 1, 1, 8, 6, 3, 2, 2, 4, 7, 2, 4, 4,\n",
              "       9, 1, 5, 3, 7, 4, 2, 0, 9, 2, 2, 9, 6, 8, 9, 1, 1, 1, 0, 1, 7, 0,\n",
              "       6, 5, 9, 8, 5, 6, 8, 1, 4, 5, 9, 0, 5, 6, 9, 1, 1, 3, 1, 6, 0, 7,\n",
              "       6, 4, 9, 2, 3, 6, 6, 2, 1, 7, 8, 8, 4, 2, 9, 8, 0, 3, 0, 5, 7, 7,\n",
              "       4, 8, 2, 9, 5, 1, 7, 7, 1, 5, 0, 7, 8, 4, 5, 2, 0, 8, 6, 5, 3, 8,\n",
              "       9, 0, 7, 2, 8, 7, 6, 0, 5, 2, 6, 8, 4, 0, 3, 4, 1, 8, 2, 8, 9, 8,\n",
              "       7, 9, 3, 6, 3, 7, 7, 2, 7, 8, 4, 3, 0, 2, 5, 4, 2, 7, 3, 7, 3, 1,\n",
              "       4, 5, 3, 2, 1, 3, 4, 4, 6, 9, 9, 3, 7, 4, 0, 0, 0, 0, 4, 5, 5, 9,\n",
              "       2, 0, 7, 1, 9, 9, 0, 7, 6, 7, 9, 0, 9, 4, 8, 5, 2, 5, 4, 1, 0, 2,\n",
              "       5, 4, 2, 7, 3, 5, 6, 4, 9, 8, 0, 0, 2, 6, 1, 5, 9, 5, 2, 3, 3, 3,\n",
              "       8, 5, 9, 5, 1, 8, 7, 7, 1, 9, 0, 9, 4, 6, 0, 3, 3, 4, 1, 0, 4, 6,\n",
              "       8, 2, 1, 2, 1, 0, 1, 6, 4, 4, 5, 9, 3, 6, 0, 2, 0, 7, 7, 1, 4, 9,\n",
              "       8, 0, 3, 4, 6, 1, 3, 3, 2, 4, 4, 4, 9, 5, 8, 3, 6, 5, 3, 3, 7, 0,\n",
              "       9, 7, 4, 0, 5, 3, 6, 7, 0, 3, 2, 0, 7, 0, 7, 2, 0, 2, 6, 0, 8, 3,\n",
              "       3, 6, 6, 6, 4, 2, 5, 4, 2, 0, 9, 1, 5, 9, 5, 8, 4, 9, 0, 6, 1, 1,\n",
              "       3, 0, 3, 1, 3, 1, 4, 7, 6, 4, 5, 6, 0, 4, 9, 3, 7, 0, 0, 8, 3, 6,\n",
              "       5, 7, 3, 2, 8, 1, 3, 8, 3, 5, 1, 2, 6, 3, 2, 5, 3, 5, 1, 9, 1, 5,\n",
              "       9, 8, 9, 3, 2, 2, 4, 7, 8, 8, 5, 5, 3, 7, 6, 0, 8, 5, 5, 3, 8, 9,\n",
              "       9, 7, 4, 7, 1, 3, 5, 8, 9, 5, 8, 7, 3, 5, 9, 6, 5, 3, 2, 3, 9, 1,\n",
              "       6, 9, 3, 7, 7, 5, 2, 1, 7, 5, 0, 3, 7, 1, 0, 8, 1, 7, 7, 6, 0, 5,\n",
              "       5, 6, 5, 3, 3, 8, 3, 9, 3, 3, 6, 4, 2, 5, 1, 8, 9, 8, 5, 8, 3, 0,\n",
              "       6, 3, 1, 7, 8, 3, 7, 6, 7, 9, 6, 9, 6, 7, 8, 5, 6, 3, 7, 2, 7, 8,\n",
              "       2, 3, 1, 8, 1, 0, 0, 5, 1, 5, 0, 3, 8, 0, 8, 9, 4, 6, 9, 0, 1, 7,\n",
              "       2, 6, 3, 4, 4, 5, 0, 0, 8, 6, 6, 4, 8, 9, 0, 7, 5, 6, 3, 9, 0, 4,\n",
              "       2, 1, 7, 1, 0, 2, 7, 8, 8, 0, 6, 5, 4, 7, 4, 0, 6, 4, 6, 4, 0, 2,\n",
              "       8, 7, 8, 6, 4, 4, 9, 8, 4, 5, 3, 4, 2, 2, 7, 9, 5, 2, 1, 4, 4, 1,\n",
              "       8, 9, 2, 5, 8, 2, 9, 4, 9, 6, 1, 2, 6, 2, 0, 0, 6, 9, 6, 2, 3, 2,\n",
              "       0, 9, 6, 1, 4, 4, 2, 5, 2, 3, 2, 3, 8, 2, 4, 7, 3, 3, 3, 6, 2, 5,\n",
              "       8, 7, 3, 3, 7, 2, 2, 0, 7, 0, 9, 5, 4, 8, 6, 4, 1, 6, 5, 8, 7, 4,\n",
              "       2, 2, 9, 0, 1, 4, 9, 4, 3, 0, 5, 8, 8, 7, 2, 5, 1, 5, 2, 1, 2, 9,\n",
              "       6, 7, 4, 6, 1, 5, 7, 5, 4, 8, 2, 9, 6, 1, 8, 7, 9, 1, 1, 1, 9, 7,\n",
              "       9, 8, 9, 3, 5, 1, 1, 0, 7, 6, 2, 6, 4, 1, 0, 4, 4, 7, 0, 0, 7, 9,\n",
              "       0, 6, 9, 4, 6, 7, 6, 6, 6, 0])"
            ]
          },
          "metadata": {},
          "execution_count": 42
        }
      ]
    },
    {
      "cell_type": "code",
      "metadata": {
        "id": "xza_yV8nMshU"
      },
      "source": [
        "value, count= np.unique(n1000, return_counts=True)"
      ],
      "execution_count": 43,
      "outputs": []
    },
    {
      "cell_type": "code",
      "metadata": {
        "id": "al1pM1aK9Vk7",
        "colab": {
          "base_uri": "https://localhost:8080/"
        },
        "outputId": "dc0dd374-22f1-479a-b8f9-24b32a294acf"
      },
      "source": [
        "value, count"
      ],
      "execution_count": 44,
      "outputs": [
        {
          "output_type": "execute_result",
          "data": {
            "text/plain": [
              "(array([0, 1, 2, 3, 4, 5, 6, 7, 8, 9]),\n",
              " array([104,  96,  99, 101, 103, 101, 108,  94,  92, 102]))"
            ]
          },
          "metadata": {},
          "execution_count": 44
        }
      ]
    }
  ]
}