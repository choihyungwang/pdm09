{
  "nbformat": 4,
  "nbformat_minor": 0,
  "metadata": {
    "kernelspec": {
      "name": "python3",
      "display_name": "Python 3"
    },
    "language_info": {
      "codemirror_mode": {
        "name": "ipython",
        "version": 3
      },
      "file_extension": ".py",
      "mimetype": "text/x-python",
      "name": "python",
      "nbconvert_exporter": "python",
      "pygments_lexer": "ipython3",
      "version": "3.6.6"
    },
    "colab": {
      "name": "pandas_2_handling_df.ipynb",
      "provenance": [],
      "collapsed_sections": [
        "-a_Ksvwdx5pf"
      ],
      "include_colab_link": true
    }
  },
  "cells": [
    {
      "cell_type": "markdown",
      "metadata": {
        "id": "view-in-github",
        "colab_type": "text"
      },
      "source": [
        "<a href=\"https://colab.research.google.com/github/choihyungwang/pdm09/blob/main/py-pandas/pandas_2_handling_df.ipynb\" target=\"_parent\"><img src=\"https://colab.research.google.com/assets/colab-badge.svg\" alt=\"Open In Colab\"/></a>"
      ]
    },
    {
      "cell_type": "markdown",
      "metadata": {
        "id": "-a_Ksvwdx5pf"
      },
      "source": [
        "### Python module 3. **pandas**"
      ]
    },
    {
      "cell_type": "markdown",
      "metadata": {
        "id": "P_F0RSPKx5pl"
      },
      "source": [
        "# Using pandas"
      ]
    },
    {
      "cell_type": "markdown",
      "metadata": {
        "id": "FfxMgWUFx5pm"
      },
      "source": [
        "* [10 Minutes to pandas](https://pandas.pydata.org/pandas-docs/stable/10min.html)\n",
        "* [Pandas tutorial with interactive exercises](https://www.kaggle.com/pistak/pandas-tutorial-with-interactive-exercises)"
      ]
    },
    {
      "cell_type": "code",
      "metadata": {
        "id": "2mpGSeRlx5po"
      },
      "source": [
        "import pandas as pd\n",
        "import numpy as np\n",
        "import matplotlib.pyplot as plt\n",
        "# %matplotlib inline  # work for Jupyter notebook or lab"
      ],
      "execution_count": 41,
      "outputs": []
    },
    {
      "cell_type": "markdown",
      "metadata": {
        "id": "wq1nIp3F1fFB"
      },
      "source": [
        "\n",
        "\n",
        "---\n",
        "\n"
      ]
    },
    {
      "cell_type": "markdown",
      "metadata": {
        "id": "D3zoFQ4bx5qh"
      },
      "source": [
        "## [2] Handling DataFrame\n",
        "- head()\n",
        "- tail()\n",
        "- describe()\n",
        "- info()"
      ]
    },
    {
      "cell_type": "code",
      "metadata": {
        "id": "w2eNkCfLx5p-",
        "colab": {
          "base_uri": "https://localhost:8080/"
        },
        "outputId": "8e52d573-4ca4-4541-9746-24df696fcf2e"
      },
      "source": [
        "# Creating a DataFrame by passing a NumPy array, with a datetime index and labeled columns:\n",
        "dates = pd.date_range('20210927', periods=6)\n",
        "dates"
      ],
      "execution_count": 42,
      "outputs": [
        {
          "output_type": "execute_result",
          "data": {
            "text/plain": [
              "DatetimeIndex(['2021-09-27', '2021-09-28', '2021-09-29', '2021-09-30',\n",
              "               '2021-10-01', '2021-10-02'],\n",
              "              dtype='datetime64[ns]', freq='D')"
            ]
          },
          "metadata": {},
          "execution_count": 42
        }
      ]
    },
    {
      "cell_type": "code",
      "metadata": {
        "id": "dHwUodTGx5qj",
        "colab": {
          "base_uri": "https://localhost:8080/",
          "height": 235
        },
        "outputId": "ac619c3f-f189-4ed0-95cf-25d389aa003a"
      },
      "source": [
        "# head()\n",
        "df = pd.DataFrame(np.random.randn(6,4), index=dates, columns=list('ABCD'))\n",
        "df.head(7)"
      ],
      "execution_count": 43,
      "outputs": [
        {
          "output_type": "execute_result",
          "data": {
            "text/html": [
              "<div>\n",
              "<style scoped>\n",
              "    .dataframe tbody tr th:only-of-type {\n",
              "        vertical-align: middle;\n",
              "    }\n",
              "\n",
              "    .dataframe tbody tr th {\n",
              "        vertical-align: top;\n",
              "    }\n",
              "\n",
              "    .dataframe thead th {\n",
              "        text-align: right;\n",
              "    }\n",
              "</style>\n",
              "<table border=\"1\" class=\"dataframe\">\n",
              "  <thead>\n",
              "    <tr style=\"text-align: right;\">\n",
              "      <th></th>\n",
              "      <th>A</th>\n",
              "      <th>B</th>\n",
              "      <th>C</th>\n",
              "      <th>D</th>\n",
              "    </tr>\n",
              "  </thead>\n",
              "  <tbody>\n",
              "    <tr>\n",
              "      <th>2021-09-27</th>\n",
              "      <td>0.130763</td>\n",
              "      <td>0.756629</td>\n",
              "      <td>-0.719877</td>\n",
              "      <td>-1.347610</td>\n",
              "    </tr>\n",
              "    <tr>\n",
              "      <th>2021-09-28</th>\n",
              "      <td>0.355237</td>\n",
              "      <td>-0.388502</td>\n",
              "      <td>-2.956182</td>\n",
              "      <td>-0.368168</td>\n",
              "    </tr>\n",
              "    <tr>\n",
              "      <th>2021-09-29</th>\n",
              "      <td>0.412026</td>\n",
              "      <td>0.594340</td>\n",
              "      <td>-0.201016</td>\n",
              "      <td>-2.006002</td>\n",
              "    </tr>\n",
              "    <tr>\n",
              "      <th>2021-09-30</th>\n",
              "      <td>-1.042986</td>\n",
              "      <td>-0.145113</td>\n",
              "      <td>0.946245</td>\n",
              "      <td>-0.527000</td>\n",
              "    </tr>\n",
              "    <tr>\n",
              "      <th>2021-10-01</th>\n",
              "      <td>2.464192</td>\n",
              "      <td>0.177543</td>\n",
              "      <td>0.762804</td>\n",
              "      <td>0.308061</td>\n",
              "    </tr>\n",
              "    <tr>\n",
              "      <th>2021-10-02</th>\n",
              "      <td>-0.021586</td>\n",
              "      <td>0.656034</td>\n",
              "      <td>-0.269170</td>\n",
              "      <td>-1.875002</td>\n",
              "    </tr>\n",
              "  </tbody>\n",
              "</table>\n",
              "</div>"
            ],
            "text/plain": [
              "                   A         B         C         D\n",
              "2021-09-27  0.130763  0.756629 -0.719877 -1.347610\n",
              "2021-09-28  0.355237 -0.388502 -2.956182 -0.368168\n",
              "2021-09-29  0.412026  0.594340 -0.201016 -2.006002\n",
              "2021-09-30 -1.042986 -0.145113  0.946245 -0.527000\n",
              "2021-10-01  2.464192  0.177543  0.762804  0.308061\n",
              "2021-10-02 -0.021586  0.656034 -0.269170 -1.875002"
            ]
          },
          "metadata": {},
          "execution_count": 43
        }
      ]
    },
    {
      "cell_type": "code",
      "metadata": {
        "id": "OvYDoBVE1og9",
        "colab": {
          "base_uri": "https://localhost:8080/",
          "height": 111
        },
        "outputId": "9676ab62-7a5e-4f0f-a9f9-827c023ef84a"
      },
      "source": [
        "df.head(2)"
      ],
      "execution_count": 44,
      "outputs": [
        {
          "output_type": "execute_result",
          "data": {
            "text/html": [
              "<div>\n",
              "<style scoped>\n",
              "    .dataframe tbody tr th:only-of-type {\n",
              "        vertical-align: middle;\n",
              "    }\n",
              "\n",
              "    .dataframe tbody tr th {\n",
              "        vertical-align: top;\n",
              "    }\n",
              "\n",
              "    .dataframe thead th {\n",
              "        text-align: right;\n",
              "    }\n",
              "</style>\n",
              "<table border=\"1\" class=\"dataframe\">\n",
              "  <thead>\n",
              "    <tr style=\"text-align: right;\">\n",
              "      <th></th>\n",
              "      <th>A</th>\n",
              "      <th>B</th>\n",
              "      <th>C</th>\n",
              "      <th>D</th>\n",
              "    </tr>\n",
              "  </thead>\n",
              "  <tbody>\n",
              "    <tr>\n",
              "      <th>2021-09-27</th>\n",
              "      <td>0.130763</td>\n",
              "      <td>0.756629</td>\n",
              "      <td>-0.719877</td>\n",
              "      <td>-1.347610</td>\n",
              "    </tr>\n",
              "    <tr>\n",
              "      <th>2021-09-28</th>\n",
              "      <td>0.355237</td>\n",
              "      <td>-0.388502</td>\n",
              "      <td>-2.956182</td>\n",
              "      <td>-0.368168</td>\n",
              "    </tr>\n",
              "  </tbody>\n",
              "</table>\n",
              "</div>"
            ],
            "text/plain": [
              "                   A         B         C         D\n",
              "2021-09-27  0.130763  0.756629 -0.719877 -1.347610\n",
              "2021-09-28  0.355237 -0.388502 -2.956182 -0.368168"
            ]
          },
          "metadata": {},
          "execution_count": 44
        }
      ]
    },
    {
      "cell_type": "code",
      "metadata": {
        "id": "LzWwuDWDx5qo",
        "colab": {
          "base_uri": "https://localhost:8080/",
          "height": 142
        },
        "outputId": "7d384f64-06fe-4b08-851d-fa3579f9a409"
      },
      "source": [
        "df.tail(3)"
      ],
      "execution_count": 45,
      "outputs": [
        {
          "output_type": "execute_result",
          "data": {
            "text/html": [
              "<div>\n",
              "<style scoped>\n",
              "    .dataframe tbody tr th:only-of-type {\n",
              "        vertical-align: middle;\n",
              "    }\n",
              "\n",
              "    .dataframe tbody tr th {\n",
              "        vertical-align: top;\n",
              "    }\n",
              "\n",
              "    .dataframe thead th {\n",
              "        text-align: right;\n",
              "    }\n",
              "</style>\n",
              "<table border=\"1\" class=\"dataframe\">\n",
              "  <thead>\n",
              "    <tr style=\"text-align: right;\">\n",
              "      <th></th>\n",
              "      <th>A</th>\n",
              "      <th>B</th>\n",
              "      <th>C</th>\n",
              "      <th>D</th>\n",
              "    </tr>\n",
              "  </thead>\n",
              "  <tbody>\n",
              "    <tr>\n",
              "      <th>2021-09-30</th>\n",
              "      <td>-1.042986</td>\n",
              "      <td>-0.145113</td>\n",
              "      <td>0.946245</td>\n",
              "      <td>-0.527000</td>\n",
              "    </tr>\n",
              "    <tr>\n",
              "      <th>2021-10-01</th>\n",
              "      <td>2.464192</td>\n",
              "      <td>0.177543</td>\n",
              "      <td>0.762804</td>\n",
              "      <td>0.308061</td>\n",
              "    </tr>\n",
              "    <tr>\n",
              "      <th>2021-10-02</th>\n",
              "      <td>-0.021586</td>\n",
              "      <td>0.656034</td>\n",
              "      <td>-0.269170</td>\n",
              "      <td>-1.875002</td>\n",
              "    </tr>\n",
              "  </tbody>\n",
              "</table>\n",
              "</div>"
            ],
            "text/plain": [
              "                   A         B         C         D\n",
              "2021-09-30 -1.042986 -0.145113  0.946245 -0.527000\n",
              "2021-10-01  2.464192  0.177543  0.762804  0.308061\n",
              "2021-10-02 -0.021586  0.656034 -0.269170 -1.875002"
            ]
          },
          "metadata": {},
          "execution_count": 45
        }
      ]
    },
    {
      "cell_type": "code",
      "metadata": {
        "id": "rJLH024Zx5qs",
        "colab": {
          "base_uri": "https://localhost:8080/"
        },
        "outputId": "8b007a14-ae9b-415e-9fc9-d7ef8464b1e5"
      },
      "source": [
        "# Display the index, columns, and the underlying NumPy data:\n",
        "df.index"
      ],
      "execution_count": 46,
      "outputs": [
        {
          "output_type": "execute_result",
          "data": {
            "text/plain": [
              "DatetimeIndex(['2021-09-27', '2021-09-28', '2021-09-29', '2021-09-30',\n",
              "               '2021-10-01', '2021-10-02'],\n",
              "              dtype='datetime64[ns]', freq='D')"
            ]
          },
          "metadata": {},
          "execution_count": 46
        }
      ]
    },
    {
      "cell_type": "code",
      "metadata": {
        "id": "edrGpQlLc0dt",
        "colab": {
          "base_uri": "https://localhost:8080/"
        },
        "outputId": "9a97be09-dd4b-4411-f0a9-e5536e84e328"
      },
      "source": [
        "df.columns"
      ],
      "execution_count": 47,
      "outputs": [
        {
          "output_type": "execute_result",
          "data": {
            "text/plain": [
              "Index(['A', 'B', 'C', 'D'], dtype='object')"
            ]
          },
          "metadata": {},
          "execution_count": 47
        }
      ]
    },
    {
      "cell_type": "code",
      "metadata": {
        "id": "TB-CHW85x5rA",
        "colab": {
          "base_uri": "https://localhost:8080/"
        },
        "outputId": "d774251c-c55d-4da1-b9ea-6188ce30a95a"
      },
      "source": [
        "df.info()"
      ],
      "execution_count": 48,
      "outputs": [
        {
          "output_type": "stream",
          "name": "stdout",
          "text": [
            "<class 'pandas.core.frame.DataFrame'>\n",
            "DatetimeIndex: 6 entries, 2021-09-27 to 2021-10-02\n",
            "Freq: D\n",
            "Data columns (total 4 columns):\n",
            " #   Column  Non-Null Count  Dtype  \n",
            "---  ------  --------------  -----  \n",
            " 0   A       6 non-null      float64\n",
            " 1   B       6 non-null      float64\n",
            " 2   C       6 non-null      float64\n",
            " 3   D       6 non-null      float64\n",
            "dtypes: float64(4)\n",
            "memory usage: 240.0 bytes\n"
          ]
        }
      ]
    },
    {
      "cell_type": "code",
      "metadata": {
        "id": "PEzVmjUAx5q7",
        "colab": {
          "base_uri": "https://localhost:8080/",
          "height": 297
        },
        "outputId": "c637362b-5b22-4ddc-bb6c-95e912b5f2eb"
      },
      "source": [
        "# describe() shows a quick statistic summary of your data:\n",
        "df.describe()"
      ],
      "execution_count": 49,
      "outputs": [
        {
          "output_type": "execute_result",
          "data": {
            "text/html": [
              "<div>\n",
              "<style scoped>\n",
              "    .dataframe tbody tr th:only-of-type {\n",
              "        vertical-align: middle;\n",
              "    }\n",
              "\n",
              "    .dataframe tbody tr th {\n",
              "        vertical-align: top;\n",
              "    }\n",
              "\n",
              "    .dataframe thead th {\n",
              "        text-align: right;\n",
              "    }\n",
              "</style>\n",
              "<table border=\"1\" class=\"dataframe\">\n",
              "  <thead>\n",
              "    <tr style=\"text-align: right;\">\n",
              "      <th></th>\n",
              "      <th>A</th>\n",
              "      <th>B</th>\n",
              "      <th>C</th>\n",
              "      <th>D</th>\n",
              "    </tr>\n",
              "  </thead>\n",
              "  <tbody>\n",
              "    <tr>\n",
              "      <th>count</th>\n",
              "      <td>6.000000</td>\n",
              "      <td>6.000000</td>\n",
              "      <td>6.000000</td>\n",
              "      <td>6.000000</td>\n",
              "    </tr>\n",
              "    <tr>\n",
              "      <th>mean</th>\n",
              "      <td>0.382941</td>\n",
              "      <td>0.275155</td>\n",
              "      <td>-0.406199</td>\n",
              "      <td>-0.969287</td>\n",
              "    </tr>\n",
              "    <tr>\n",
              "      <th>std</th>\n",
              "      <td>1.148366</td>\n",
              "      <td>0.470183</td>\n",
              "      <td>1.404091</td>\n",
              "      <td>0.919435</td>\n",
              "    </tr>\n",
              "    <tr>\n",
              "      <th>min</th>\n",
              "      <td>-1.042986</td>\n",
              "      <td>-0.388502</td>\n",
              "      <td>-2.956182</td>\n",
              "      <td>-2.006002</td>\n",
              "    </tr>\n",
              "    <tr>\n",
              "      <th>25%</th>\n",
              "      <td>0.016502</td>\n",
              "      <td>-0.064449</td>\n",
              "      <td>-0.607201</td>\n",
              "      <td>-1.743154</td>\n",
              "    </tr>\n",
              "    <tr>\n",
              "      <th>50%</th>\n",
              "      <td>0.243000</td>\n",
              "      <td>0.385942</td>\n",
              "      <td>-0.235093</td>\n",
              "      <td>-0.937305</td>\n",
              "    </tr>\n",
              "    <tr>\n",
              "      <th>75%</th>\n",
              "      <td>0.397829</td>\n",
              "      <td>0.640611</td>\n",
              "      <td>0.521849</td>\n",
              "      <td>-0.407876</td>\n",
              "    </tr>\n",
              "    <tr>\n",
              "      <th>max</th>\n",
              "      <td>2.464192</td>\n",
              "      <td>0.756629</td>\n",
              "      <td>0.946245</td>\n",
              "      <td>0.308061</td>\n",
              "    </tr>\n",
              "  </tbody>\n",
              "</table>\n",
              "</div>"
            ],
            "text/plain": [
              "              A         B         C         D\n",
              "count  6.000000  6.000000  6.000000  6.000000\n",
              "mean   0.382941  0.275155 -0.406199 -0.969287\n",
              "std    1.148366  0.470183  1.404091  0.919435\n",
              "min   -1.042986 -0.388502 -2.956182 -2.006002\n",
              "25%    0.016502 -0.064449 -0.607201 -1.743154\n",
              "50%    0.243000  0.385942 -0.235093 -0.937305\n",
              "75%    0.397829  0.640611  0.521849 -0.407876\n",
              "max    2.464192  0.756629  0.946245  0.308061"
            ]
          },
          "metadata": {},
          "execution_count": 49
        }
      ]
    },
    {
      "cell_type": "code",
      "metadata": {
        "id": "ExhpF6H8dDKo",
        "colab": {
          "base_uri": "https://localhost:8080/",
          "height": 173
        },
        "outputId": "fec7bbb3-cca6-4b67-8cf5-0813cb29dfef"
      },
      "source": [
        "df.describe().T"
      ],
      "execution_count": 50,
      "outputs": [
        {
          "output_type": "execute_result",
          "data": {
            "text/html": [
              "<div>\n",
              "<style scoped>\n",
              "    .dataframe tbody tr th:only-of-type {\n",
              "        vertical-align: middle;\n",
              "    }\n",
              "\n",
              "    .dataframe tbody tr th {\n",
              "        vertical-align: top;\n",
              "    }\n",
              "\n",
              "    .dataframe thead th {\n",
              "        text-align: right;\n",
              "    }\n",
              "</style>\n",
              "<table border=\"1\" class=\"dataframe\">\n",
              "  <thead>\n",
              "    <tr style=\"text-align: right;\">\n",
              "      <th></th>\n",
              "      <th>count</th>\n",
              "      <th>mean</th>\n",
              "      <th>std</th>\n",
              "      <th>min</th>\n",
              "      <th>25%</th>\n",
              "      <th>50%</th>\n",
              "      <th>75%</th>\n",
              "      <th>max</th>\n",
              "    </tr>\n",
              "  </thead>\n",
              "  <tbody>\n",
              "    <tr>\n",
              "      <th>A</th>\n",
              "      <td>6.0</td>\n",
              "      <td>0.382941</td>\n",
              "      <td>1.148366</td>\n",
              "      <td>-1.042986</td>\n",
              "      <td>0.016502</td>\n",
              "      <td>0.243000</td>\n",
              "      <td>0.397829</td>\n",
              "      <td>2.464192</td>\n",
              "    </tr>\n",
              "    <tr>\n",
              "      <th>B</th>\n",
              "      <td>6.0</td>\n",
              "      <td>0.275155</td>\n",
              "      <td>0.470183</td>\n",
              "      <td>-0.388502</td>\n",
              "      <td>-0.064449</td>\n",
              "      <td>0.385942</td>\n",
              "      <td>0.640611</td>\n",
              "      <td>0.756629</td>\n",
              "    </tr>\n",
              "    <tr>\n",
              "      <th>C</th>\n",
              "      <td>6.0</td>\n",
              "      <td>-0.406199</td>\n",
              "      <td>1.404091</td>\n",
              "      <td>-2.956182</td>\n",
              "      <td>-0.607201</td>\n",
              "      <td>-0.235093</td>\n",
              "      <td>0.521849</td>\n",
              "      <td>0.946245</td>\n",
              "    </tr>\n",
              "    <tr>\n",
              "      <th>D</th>\n",
              "      <td>6.0</td>\n",
              "      <td>-0.969287</td>\n",
              "      <td>0.919435</td>\n",
              "      <td>-2.006002</td>\n",
              "      <td>-1.743154</td>\n",
              "      <td>-0.937305</td>\n",
              "      <td>-0.407876</td>\n",
              "      <td>0.308061</td>\n",
              "    </tr>\n",
              "  </tbody>\n",
              "</table>\n",
              "</div>"
            ],
            "text/plain": [
              "   count      mean       std       min       25%       50%       75%       max\n",
              "A    6.0  0.382941  1.148366 -1.042986  0.016502  0.243000  0.397829  2.464192\n",
              "B    6.0  0.275155  0.470183 -0.388502 -0.064449  0.385942  0.640611  0.756629\n",
              "C    6.0 -0.406199  1.404091 -2.956182 -0.607201 -0.235093  0.521849  0.946245\n",
              "D    6.0 -0.969287  0.919435 -2.006002 -1.743154 -0.937305 -0.407876  0.308061"
            ]
          },
          "metadata": {},
          "execution_count": 50
        }
      ]
    },
    {
      "cell_type": "code",
      "metadata": {
        "colab": {
          "base_uri": "https://localhost:8080/",
          "height": 235
        },
        "id": "PbFIKi7MzXez",
        "outputId": "cb964afa-648f-417b-9aa8-2f78a5a42faf"
      },
      "source": [
        "df"
      ],
      "execution_count": 51,
      "outputs": [
        {
          "output_type": "execute_result",
          "data": {
            "text/html": [
              "<div>\n",
              "<style scoped>\n",
              "    .dataframe tbody tr th:only-of-type {\n",
              "        vertical-align: middle;\n",
              "    }\n",
              "\n",
              "    .dataframe tbody tr th {\n",
              "        vertical-align: top;\n",
              "    }\n",
              "\n",
              "    .dataframe thead th {\n",
              "        text-align: right;\n",
              "    }\n",
              "</style>\n",
              "<table border=\"1\" class=\"dataframe\">\n",
              "  <thead>\n",
              "    <tr style=\"text-align: right;\">\n",
              "      <th></th>\n",
              "      <th>A</th>\n",
              "      <th>B</th>\n",
              "      <th>C</th>\n",
              "      <th>D</th>\n",
              "    </tr>\n",
              "  </thead>\n",
              "  <tbody>\n",
              "    <tr>\n",
              "      <th>2021-09-27</th>\n",
              "      <td>0.130763</td>\n",
              "      <td>0.756629</td>\n",
              "      <td>-0.719877</td>\n",
              "      <td>-1.347610</td>\n",
              "    </tr>\n",
              "    <tr>\n",
              "      <th>2021-09-28</th>\n",
              "      <td>0.355237</td>\n",
              "      <td>-0.388502</td>\n",
              "      <td>-2.956182</td>\n",
              "      <td>-0.368168</td>\n",
              "    </tr>\n",
              "    <tr>\n",
              "      <th>2021-09-29</th>\n",
              "      <td>0.412026</td>\n",
              "      <td>0.594340</td>\n",
              "      <td>-0.201016</td>\n",
              "      <td>-2.006002</td>\n",
              "    </tr>\n",
              "    <tr>\n",
              "      <th>2021-09-30</th>\n",
              "      <td>-1.042986</td>\n",
              "      <td>-0.145113</td>\n",
              "      <td>0.946245</td>\n",
              "      <td>-0.527000</td>\n",
              "    </tr>\n",
              "    <tr>\n",
              "      <th>2021-10-01</th>\n",
              "      <td>2.464192</td>\n",
              "      <td>0.177543</td>\n",
              "      <td>0.762804</td>\n",
              "      <td>0.308061</td>\n",
              "    </tr>\n",
              "    <tr>\n",
              "      <th>2021-10-02</th>\n",
              "      <td>-0.021586</td>\n",
              "      <td>0.656034</td>\n",
              "      <td>-0.269170</td>\n",
              "      <td>-1.875002</td>\n",
              "    </tr>\n",
              "  </tbody>\n",
              "</table>\n",
              "</div>"
            ],
            "text/plain": [
              "                   A         B         C         D\n",
              "2021-09-27  0.130763  0.756629 -0.719877 -1.347610\n",
              "2021-09-28  0.355237 -0.388502 -2.956182 -0.368168\n",
              "2021-09-29  0.412026  0.594340 -0.201016 -2.006002\n",
              "2021-09-30 -1.042986 -0.145113  0.946245 -0.527000\n",
              "2021-10-01  2.464192  0.177543  0.762804  0.308061\n",
              "2021-10-02 -0.021586  0.656034 -0.269170 -1.875002"
            ]
          },
          "metadata": {},
          "execution_count": 51
        }
      ]
    },
    {
      "cell_type": "code",
      "metadata": {
        "id": "Br9VwFVex5rE",
        "colab": {
          "base_uri": "https://localhost:8080/",
          "height": 173
        },
        "outputId": "ab1c4eb7-7cdd-40ab-d662-fa9f25e7931d"
      },
      "source": [
        "# Transposing your dataframe:\n",
        "df.T"
      ],
      "execution_count": 52,
      "outputs": [
        {
          "output_type": "execute_result",
          "data": {
            "text/html": [
              "<div>\n",
              "<style scoped>\n",
              "    .dataframe tbody tr th:only-of-type {\n",
              "        vertical-align: middle;\n",
              "    }\n",
              "\n",
              "    .dataframe tbody tr th {\n",
              "        vertical-align: top;\n",
              "    }\n",
              "\n",
              "    .dataframe thead th {\n",
              "        text-align: right;\n",
              "    }\n",
              "</style>\n",
              "<table border=\"1\" class=\"dataframe\">\n",
              "  <thead>\n",
              "    <tr style=\"text-align: right;\">\n",
              "      <th></th>\n",
              "      <th>2021-09-27</th>\n",
              "      <th>2021-09-28</th>\n",
              "      <th>2021-09-29</th>\n",
              "      <th>2021-09-30</th>\n",
              "      <th>2021-10-01</th>\n",
              "      <th>2021-10-02</th>\n",
              "    </tr>\n",
              "  </thead>\n",
              "  <tbody>\n",
              "    <tr>\n",
              "      <th>A</th>\n",
              "      <td>0.130763</td>\n",
              "      <td>0.355237</td>\n",
              "      <td>0.412026</td>\n",
              "      <td>-1.042986</td>\n",
              "      <td>2.464192</td>\n",
              "      <td>-0.021586</td>\n",
              "    </tr>\n",
              "    <tr>\n",
              "      <th>B</th>\n",
              "      <td>0.756629</td>\n",
              "      <td>-0.388502</td>\n",
              "      <td>0.594340</td>\n",
              "      <td>-0.145113</td>\n",
              "      <td>0.177543</td>\n",
              "      <td>0.656034</td>\n",
              "    </tr>\n",
              "    <tr>\n",
              "      <th>C</th>\n",
              "      <td>-0.719877</td>\n",
              "      <td>-2.956182</td>\n",
              "      <td>-0.201016</td>\n",
              "      <td>0.946245</td>\n",
              "      <td>0.762804</td>\n",
              "      <td>-0.269170</td>\n",
              "    </tr>\n",
              "    <tr>\n",
              "      <th>D</th>\n",
              "      <td>-1.347610</td>\n",
              "      <td>-0.368168</td>\n",
              "      <td>-2.006002</td>\n",
              "      <td>-0.527000</td>\n",
              "      <td>0.308061</td>\n",
              "      <td>-1.875002</td>\n",
              "    </tr>\n",
              "  </tbody>\n",
              "</table>\n",
              "</div>"
            ],
            "text/plain": [
              "   2021-09-27  2021-09-28  2021-09-29  2021-09-30  2021-10-01  2021-10-02\n",
              "A    0.130763    0.355237    0.412026   -1.042986    2.464192   -0.021586\n",
              "B    0.756629   -0.388502    0.594340   -0.145113    0.177543    0.656034\n",
              "C   -0.719877   -2.956182   -0.201016    0.946245    0.762804   -0.269170\n",
              "D   -1.347610   -0.368168   -2.006002   -0.527000    0.308061   -1.875002"
            ]
          },
          "metadata": {},
          "execution_count": 52
        }
      ]
    },
    {
      "cell_type": "code",
      "metadata": {
        "id": "vkg1gQUVLoy9",
        "colab": {
          "base_uri": "https://localhost:8080/"
        },
        "outputId": "11282138-5e7c-419a-d28c-ecaa0858670c"
      },
      "source": [
        "df.T.index"
      ],
      "execution_count": 53,
      "outputs": [
        {
          "output_type": "execute_result",
          "data": {
            "text/plain": [
              "Index(['A', 'B', 'C', 'D'], dtype='object')"
            ]
          },
          "metadata": {},
          "execution_count": 53
        }
      ]
    },
    {
      "cell_type": "markdown",
      "metadata": {
        "id": "A4lHGd4px5rU"
      },
      "source": [
        "### Sorting"
      ]
    },
    {
      "cell_type": "markdown",
      "metadata": {
        "id": "jlXuIbzD6oUD"
      },
      "source": [
        "#### Sort by index\n",
        "- sort_index(axis=0, ascending=False)\n",
        "- sort_index(axis=1, ascending=False)\n",
        "\n",
        "> Axis=0 Column-Wise Operation (수직으로)\n",
        "\n",
        "> Axis=1 Row-Wise Operation (수평으로)"
      ]
    },
    {
      "cell_type": "code",
      "metadata": {
        "colab": {
          "base_uri": "https://localhost:8080/",
          "height": 235
        },
        "id": "FF5_v6iM2Gvl",
        "outputId": "f9fae725-dee8-4def-cce7-deca4762248a"
      },
      "source": [
        "df"
      ],
      "execution_count": 54,
      "outputs": [
        {
          "output_type": "execute_result",
          "data": {
            "text/html": [
              "<div>\n",
              "<style scoped>\n",
              "    .dataframe tbody tr th:only-of-type {\n",
              "        vertical-align: middle;\n",
              "    }\n",
              "\n",
              "    .dataframe tbody tr th {\n",
              "        vertical-align: top;\n",
              "    }\n",
              "\n",
              "    .dataframe thead th {\n",
              "        text-align: right;\n",
              "    }\n",
              "</style>\n",
              "<table border=\"1\" class=\"dataframe\">\n",
              "  <thead>\n",
              "    <tr style=\"text-align: right;\">\n",
              "      <th></th>\n",
              "      <th>A</th>\n",
              "      <th>B</th>\n",
              "      <th>C</th>\n",
              "      <th>D</th>\n",
              "    </tr>\n",
              "  </thead>\n",
              "  <tbody>\n",
              "    <tr>\n",
              "      <th>2021-09-27</th>\n",
              "      <td>0.130763</td>\n",
              "      <td>0.756629</td>\n",
              "      <td>-0.719877</td>\n",
              "      <td>-1.347610</td>\n",
              "    </tr>\n",
              "    <tr>\n",
              "      <th>2021-09-28</th>\n",
              "      <td>0.355237</td>\n",
              "      <td>-0.388502</td>\n",
              "      <td>-2.956182</td>\n",
              "      <td>-0.368168</td>\n",
              "    </tr>\n",
              "    <tr>\n",
              "      <th>2021-09-29</th>\n",
              "      <td>0.412026</td>\n",
              "      <td>0.594340</td>\n",
              "      <td>-0.201016</td>\n",
              "      <td>-2.006002</td>\n",
              "    </tr>\n",
              "    <tr>\n",
              "      <th>2021-09-30</th>\n",
              "      <td>-1.042986</td>\n",
              "      <td>-0.145113</td>\n",
              "      <td>0.946245</td>\n",
              "      <td>-0.527000</td>\n",
              "    </tr>\n",
              "    <tr>\n",
              "      <th>2021-10-01</th>\n",
              "      <td>2.464192</td>\n",
              "      <td>0.177543</td>\n",
              "      <td>0.762804</td>\n",
              "      <td>0.308061</td>\n",
              "    </tr>\n",
              "    <tr>\n",
              "      <th>2021-10-02</th>\n",
              "      <td>-0.021586</td>\n",
              "      <td>0.656034</td>\n",
              "      <td>-0.269170</td>\n",
              "      <td>-1.875002</td>\n",
              "    </tr>\n",
              "  </tbody>\n",
              "</table>\n",
              "</div>"
            ],
            "text/plain": [
              "                   A         B         C         D\n",
              "2021-09-27  0.130763  0.756629 -0.719877 -1.347610\n",
              "2021-09-28  0.355237 -0.388502 -2.956182 -0.368168\n",
              "2021-09-29  0.412026  0.594340 -0.201016 -2.006002\n",
              "2021-09-30 -1.042986 -0.145113  0.946245 -0.527000\n",
              "2021-10-01  2.464192  0.177543  0.762804  0.308061\n",
              "2021-10-02 -0.021586  0.656034 -0.269170 -1.875002"
            ]
          },
          "metadata": {},
          "execution_count": 54
        }
      ]
    },
    {
      "cell_type": "code",
      "metadata": {
        "id": "RM9Rlk64x5rW",
        "colab": {
          "base_uri": "https://localhost:8080/"
        },
        "outputId": "30d57266-adaa-43bd-bfde-4b8490a3dc25"
      },
      "source": [
        "# Sorting by an axis:\n",
        "df, df.sort_index(axis=0, ascending=False)"
      ],
      "execution_count": 55,
      "outputs": [
        {
          "output_type": "execute_result",
          "data": {
            "text/plain": [
              "(                   A         B         C         D\n",
              " 2021-09-27  0.130763  0.756629 -0.719877 -1.347610\n",
              " 2021-09-28  0.355237 -0.388502 -2.956182 -0.368168\n",
              " 2021-09-29  0.412026  0.594340 -0.201016 -2.006002\n",
              " 2021-09-30 -1.042986 -0.145113  0.946245 -0.527000\n",
              " 2021-10-01  2.464192  0.177543  0.762804  0.308061\n",
              " 2021-10-02 -0.021586  0.656034 -0.269170 -1.875002,\n",
              "                    A         B         C         D\n",
              " 2021-10-02 -0.021586  0.656034 -0.269170 -1.875002\n",
              " 2021-10-01  2.464192  0.177543  0.762804  0.308061\n",
              " 2021-09-30 -1.042986 -0.145113  0.946245 -0.527000\n",
              " 2021-09-29  0.412026  0.594340 -0.201016 -2.006002\n",
              " 2021-09-28  0.355237 -0.388502 -2.956182 -0.368168\n",
              " 2021-09-27  0.130763  0.756629 -0.719877 -1.347610)"
            ]
          },
          "metadata": {},
          "execution_count": 55
        }
      ]
    },
    {
      "cell_type": "code",
      "metadata": {
        "id": "w_7d__Hsx5rb",
        "colab": {
          "base_uri": "https://localhost:8080/"
        },
        "outputId": "e89876cd-da54-4b6c-9c8b-e1ebadff00b9"
      },
      "source": [
        "df,df.sort_index(axis=1, ascending=False)"
      ],
      "execution_count": 56,
      "outputs": [
        {
          "output_type": "execute_result",
          "data": {
            "text/plain": [
              "(                   A         B         C         D\n",
              " 2021-09-27  0.130763  0.756629 -0.719877 -1.347610\n",
              " 2021-09-28  0.355237 -0.388502 -2.956182 -0.368168\n",
              " 2021-09-29  0.412026  0.594340 -0.201016 -2.006002\n",
              " 2021-09-30 -1.042986 -0.145113  0.946245 -0.527000\n",
              " 2021-10-01  2.464192  0.177543  0.762804  0.308061\n",
              " 2021-10-02 -0.021586  0.656034 -0.269170 -1.875002,\n",
              "                    D         C         B         A\n",
              " 2021-09-27 -1.347610 -0.719877  0.756629  0.130763\n",
              " 2021-09-28 -0.368168 -2.956182 -0.388502  0.355237\n",
              " 2021-09-29 -2.006002 -0.201016  0.594340  0.412026\n",
              " 2021-09-30 -0.527000  0.946245 -0.145113 -1.042986\n",
              " 2021-10-01  0.308061  0.762804  0.177543  2.464192\n",
              " 2021-10-02 -1.875002 -0.269170  0.656034 -0.021586)"
            ]
          },
          "metadata": {},
          "execution_count": 56
        }
      ]
    },
    {
      "cell_type": "markdown",
      "metadata": {
        "id": "8J59I-KW6yNK"
      },
      "source": [
        "#### Sort by value\n",
        "- sort_values(by='column')"
      ]
    },
    {
      "cell_type": "code",
      "metadata": {
        "id": "VJw7_sTLx5rg",
        "colab": {
          "base_uri": "https://localhost:8080/"
        },
        "outputId": "a79a133c-519e-4a53-aa3c-866c73a539ed"
      },
      "source": [
        "# Sorting by values:\n",
        "df,df.sort_values(by='B') #, ascending=False)"
      ],
      "execution_count": 57,
      "outputs": [
        {
          "output_type": "execute_result",
          "data": {
            "text/plain": [
              "(                   A         B         C         D\n",
              " 2021-09-27  0.130763  0.756629 -0.719877 -1.347610\n",
              " 2021-09-28  0.355237 -0.388502 -2.956182 -0.368168\n",
              " 2021-09-29  0.412026  0.594340 -0.201016 -2.006002\n",
              " 2021-09-30 -1.042986 -0.145113  0.946245 -0.527000\n",
              " 2021-10-01  2.464192  0.177543  0.762804  0.308061\n",
              " 2021-10-02 -0.021586  0.656034 -0.269170 -1.875002,\n",
              "                    A         B         C         D\n",
              " 2021-09-28  0.355237 -0.388502 -2.956182 -0.368168\n",
              " 2021-09-30 -1.042986 -0.145113  0.946245 -0.527000\n",
              " 2021-10-01  2.464192  0.177543  0.762804  0.308061\n",
              " 2021-09-29  0.412026  0.594340 -0.201016 -2.006002\n",
              " 2021-10-02 -0.021586  0.656034 -0.269170 -1.875002\n",
              " 2021-09-27  0.130763  0.756629 -0.719877 -1.347610)"
            ]
          },
          "metadata": {},
          "execution_count": 57
        }
      ]
    },
    {
      "cell_type": "markdown",
      "metadata": {
        "id": "rBW0-saPPGbN"
      },
      "source": [
        "## indexing and slicing of DataFrame"
      ]
    },
    {
      "cell_type": "markdown",
      "metadata": {
        "id": "oH89Wa-ix5rq"
      },
      "source": [
        "#### Selecting data by indexing and slicing\n",
        "- indexing\n",
        "- slicing\n"
      ]
    },
    {
      "cell_type": "code",
      "metadata": {
        "id": "YufIBMYzx5ru",
        "colab": {
          "base_uri": "https://localhost:8080/"
        },
        "outputId": "e8949c49-5226-4fc2-d258-83fae30e38c5"
      },
      "source": [
        "# Selecting a single column, which yields a Series\n",
        "df['A']"
      ],
      "execution_count": 58,
      "outputs": [
        {
          "output_type": "execute_result",
          "data": {
            "text/plain": [
              "2021-09-27    0.130763\n",
              "2021-09-28    0.355237\n",
              "2021-09-29    0.412026\n",
              "2021-09-30   -1.042986\n",
              "2021-10-01    2.464192\n",
              "2021-10-02   -0.021586\n",
              "Freq: D, Name: A, dtype: float64"
            ]
          },
          "metadata": {},
          "execution_count": 58
        }
      ]
    },
    {
      "cell_type": "code",
      "metadata": {
        "id": "ijxuNMS5x5r3",
        "colab": {
          "base_uri": "https://localhost:8080/",
          "height": 142
        },
        "outputId": "99fe5be4-0c1b-4703-9824-eef622b237e4"
      },
      "source": [
        "# Selecting via [], which slices the rows.\n",
        "df[0:3]"
      ],
      "execution_count": 59,
      "outputs": [
        {
          "output_type": "execute_result",
          "data": {
            "text/html": [
              "<div>\n",
              "<style scoped>\n",
              "    .dataframe tbody tr th:only-of-type {\n",
              "        vertical-align: middle;\n",
              "    }\n",
              "\n",
              "    .dataframe tbody tr th {\n",
              "        vertical-align: top;\n",
              "    }\n",
              "\n",
              "    .dataframe thead th {\n",
              "        text-align: right;\n",
              "    }\n",
              "</style>\n",
              "<table border=\"1\" class=\"dataframe\">\n",
              "  <thead>\n",
              "    <tr style=\"text-align: right;\">\n",
              "      <th></th>\n",
              "      <th>A</th>\n",
              "      <th>B</th>\n",
              "      <th>C</th>\n",
              "      <th>D</th>\n",
              "    </tr>\n",
              "  </thead>\n",
              "  <tbody>\n",
              "    <tr>\n",
              "      <th>2021-09-27</th>\n",
              "      <td>0.130763</td>\n",
              "      <td>0.756629</td>\n",
              "      <td>-0.719877</td>\n",
              "      <td>-1.347610</td>\n",
              "    </tr>\n",
              "    <tr>\n",
              "      <th>2021-09-28</th>\n",
              "      <td>0.355237</td>\n",
              "      <td>-0.388502</td>\n",
              "      <td>-2.956182</td>\n",
              "      <td>-0.368168</td>\n",
              "    </tr>\n",
              "    <tr>\n",
              "      <th>2021-09-29</th>\n",
              "      <td>0.412026</td>\n",
              "      <td>0.594340</td>\n",
              "      <td>-0.201016</td>\n",
              "      <td>-2.006002</td>\n",
              "    </tr>\n",
              "  </tbody>\n",
              "</table>\n",
              "</div>"
            ],
            "text/plain": [
              "                   A         B         C         D\n",
              "2021-09-27  0.130763  0.756629 -0.719877 -1.347610\n",
              "2021-09-28  0.355237 -0.388502 -2.956182 -0.368168\n",
              "2021-09-29  0.412026  0.594340 -0.201016 -2.006002"
            ]
          },
          "metadata": {},
          "execution_count": 59
        }
      ]
    },
    {
      "cell_type": "code",
      "metadata": {
        "id": "T8XP7m9nx5r9",
        "colab": {
          "base_uri": "https://localhost:8080/",
          "height": 204
        },
        "outputId": "c7563ff0-f267-4d83-9295-f65550ba5a85"
      },
      "source": [
        "df['20210927':'20211001'] # 인덱스가 아닌 값인 경우는 지정된 범위가 다 선택된다."
      ],
      "execution_count": 60,
      "outputs": [
        {
          "output_type": "execute_result",
          "data": {
            "text/html": [
              "<div>\n",
              "<style scoped>\n",
              "    .dataframe tbody tr th:only-of-type {\n",
              "        vertical-align: middle;\n",
              "    }\n",
              "\n",
              "    .dataframe tbody tr th {\n",
              "        vertical-align: top;\n",
              "    }\n",
              "\n",
              "    .dataframe thead th {\n",
              "        text-align: right;\n",
              "    }\n",
              "</style>\n",
              "<table border=\"1\" class=\"dataframe\">\n",
              "  <thead>\n",
              "    <tr style=\"text-align: right;\">\n",
              "      <th></th>\n",
              "      <th>A</th>\n",
              "      <th>B</th>\n",
              "      <th>C</th>\n",
              "      <th>D</th>\n",
              "    </tr>\n",
              "  </thead>\n",
              "  <tbody>\n",
              "    <tr>\n",
              "      <th>2021-09-27</th>\n",
              "      <td>0.130763</td>\n",
              "      <td>0.756629</td>\n",
              "      <td>-0.719877</td>\n",
              "      <td>-1.347610</td>\n",
              "    </tr>\n",
              "    <tr>\n",
              "      <th>2021-09-28</th>\n",
              "      <td>0.355237</td>\n",
              "      <td>-0.388502</td>\n",
              "      <td>-2.956182</td>\n",
              "      <td>-0.368168</td>\n",
              "    </tr>\n",
              "    <tr>\n",
              "      <th>2021-09-29</th>\n",
              "      <td>0.412026</td>\n",
              "      <td>0.594340</td>\n",
              "      <td>-0.201016</td>\n",
              "      <td>-2.006002</td>\n",
              "    </tr>\n",
              "    <tr>\n",
              "      <th>2021-09-30</th>\n",
              "      <td>-1.042986</td>\n",
              "      <td>-0.145113</td>\n",
              "      <td>0.946245</td>\n",
              "      <td>-0.527000</td>\n",
              "    </tr>\n",
              "    <tr>\n",
              "      <th>2021-10-01</th>\n",
              "      <td>2.464192</td>\n",
              "      <td>0.177543</td>\n",
              "      <td>0.762804</td>\n",
              "      <td>0.308061</td>\n",
              "    </tr>\n",
              "  </tbody>\n",
              "</table>\n",
              "</div>"
            ],
            "text/plain": [
              "                   A         B         C         D\n",
              "2021-09-27  0.130763  0.756629 -0.719877 -1.347610\n",
              "2021-09-28  0.355237 -0.388502 -2.956182 -0.368168\n",
              "2021-09-29  0.412026  0.594340 -0.201016 -2.006002\n",
              "2021-09-30 -1.042986 -0.145113  0.946245 -0.527000\n",
              "2021-10-01  2.464192  0.177543  0.762804  0.308061"
            ]
          },
          "metadata": {},
          "execution_count": 60
        }
      ]
    },
    {
      "cell_type": "markdown",
      "metadata": {
        "id": "E7-V96t9x5sB"
      },
      "source": [
        "#### Selecting data by label [중요!!]\n",
        "\n",
        "> **loc, iloc**\n"
      ]
    },
    {
      "cell_type": "code",
      "metadata": {
        "id": "TV4dnwU-x5sC",
        "colab": {
          "base_uri": "https://localhost:8080/",
          "height": 235
        },
        "outputId": "a7064521-b4a7-4ca5-850e-ec1a8418174c"
      },
      "source": [
        "df"
      ],
      "execution_count": 61,
      "outputs": [
        {
          "output_type": "execute_result",
          "data": {
            "text/html": [
              "<div>\n",
              "<style scoped>\n",
              "    .dataframe tbody tr th:only-of-type {\n",
              "        vertical-align: middle;\n",
              "    }\n",
              "\n",
              "    .dataframe tbody tr th {\n",
              "        vertical-align: top;\n",
              "    }\n",
              "\n",
              "    .dataframe thead th {\n",
              "        text-align: right;\n",
              "    }\n",
              "</style>\n",
              "<table border=\"1\" class=\"dataframe\">\n",
              "  <thead>\n",
              "    <tr style=\"text-align: right;\">\n",
              "      <th></th>\n",
              "      <th>A</th>\n",
              "      <th>B</th>\n",
              "      <th>C</th>\n",
              "      <th>D</th>\n",
              "    </tr>\n",
              "  </thead>\n",
              "  <tbody>\n",
              "    <tr>\n",
              "      <th>2021-09-27</th>\n",
              "      <td>0.130763</td>\n",
              "      <td>0.756629</td>\n",
              "      <td>-0.719877</td>\n",
              "      <td>-1.347610</td>\n",
              "    </tr>\n",
              "    <tr>\n",
              "      <th>2021-09-28</th>\n",
              "      <td>0.355237</td>\n",
              "      <td>-0.388502</td>\n",
              "      <td>-2.956182</td>\n",
              "      <td>-0.368168</td>\n",
              "    </tr>\n",
              "    <tr>\n",
              "      <th>2021-09-29</th>\n",
              "      <td>0.412026</td>\n",
              "      <td>0.594340</td>\n",
              "      <td>-0.201016</td>\n",
              "      <td>-2.006002</td>\n",
              "    </tr>\n",
              "    <tr>\n",
              "      <th>2021-09-30</th>\n",
              "      <td>-1.042986</td>\n",
              "      <td>-0.145113</td>\n",
              "      <td>0.946245</td>\n",
              "      <td>-0.527000</td>\n",
              "    </tr>\n",
              "    <tr>\n",
              "      <th>2021-10-01</th>\n",
              "      <td>2.464192</td>\n",
              "      <td>0.177543</td>\n",
              "      <td>0.762804</td>\n",
              "      <td>0.308061</td>\n",
              "    </tr>\n",
              "    <tr>\n",
              "      <th>2021-10-02</th>\n",
              "      <td>-0.021586</td>\n",
              "      <td>0.656034</td>\n",
              "      <td>-0.269170</td>\n",
              "      <td>-1.875002</td>\n",
              "    </tr>\n",
              "  </tbody>\n",
              "</table>\n",
              "</div>"
            ],
            "text/plain": [
              "                   A         B         C         D\n",
              "2021-09-27  0.130763  0.756629 -0.719877 -1.347610\n",
              "2021-09-28  0.355237 -0.388502 -2.956182 -0.368168\n",
              "2021-09-29  0.412026  0.594340 -0.201016 -2.006002\n",
              "2021-09-30 -1.042986 -0.145113  0.946245 -0.527000\n",
              "2021-10-01  2.464192  0.177543  0.762804  0.308061\n",
              "2021-10-02 -0.021586  0.656034 -0.269170 -1.875002"
            ]
          },
          "metadata": {},
          "execution_count": 61
        }
      ]
    },
    {
      "cell_type": "code",
      "metadata": {
        "colab": {
          "base_uri": "https://localhost:8080/"
        },
        "id": "qjwb4OIc4AeV",
        "outputId": "f3dc695c-8ecb-4548-8a08-29ef3226bd39"
      },
      "source": [
        "dates[0]"
      ],
      "execution_count": 62,
      "outputs": [
        {
          "output_type": "execute_result",
          "data": {
            "text/plain": [
              "Timestamp('2021-09-27 00:00:00', freq='D')"
            ]
          },
          "metadata": {},
          "execution_count": 62
        }
      ]
    },
    {
      "cell_type": "code",
      "metadata": {
        "id": "iPZE3U5cx5sG",
        "colab": {
          "base_uri": "https://localhost:8080/"
        },
        "outputId": "e9fb9cbc-d41f-4862-f1db-03153ac54a11"
      },
      "source": [
        "df.loc[dates[0]]   # loc()"
      ],
      "execution_count": 63,
      "outputs": [
        {
          "output_type": "execute_result",
          "data": {
            "text/plain": [
              "A    0.130763\n",
              "B    0.756629\n",
              "C   -0.719877\n",
              "D   -1.347610\n",
              "Name: 2021-09-27 00:00:00, dtype: float64"
            ]
          },
          "metadata": {},
          "execution_count": 63
        }
      ]
    },
    {
      "cell_type": "code",
      "metadata": {
        "id": "jteYZDQnx5sL",
        "colab": {
          "base_uri": "https://localhost:8080/",
          "height": 235
        },
        "outputId": "139753a0-bba7-426c-988d-3b6a47d88cd5"
      },
      "source": [
        "# Selecting on a multi-axis by label:\n",
        "df.loc[:,['A','B']]"
      ],
      "execution_count": 64,
      "outputs": [
        {
          "output_type": "execute_result",
          "data": {
            "text/html": [
              "<div>\n",
              "<style scoped>\n",
              "    .dataframe tbody tr th:only-of-type {\n",
              "        vertical-align: middle;\n",
              "    }\n",
              "\n",
              "    .dataframe tbody tr th {\n",
              "        vertical-align: top;\n",
              "    }\n",
              "\n",
              "    .dataframe thead th {\n",
              "        text-align: right;\n",
              "    }\n",
              "</style>\n",
              "<table border=\"1\" class=\"dataframe\">\n",
              "  <thead>\n",
              "    <tr style=\"text-align: right;\">\n",
              "      <th></th>\n",
              "      <th>A</th>\n",
              "      <th>B</th>\n",
              "    </tr>\n",
              "  </thead>\n",
              "  <tbody>\n",
              "    <tr>\n",
              "      <th>2021-09-27</th>\n",
              "      <td>0.130763</td>\n",
              "      <td>0.756629</td>\n",
              "    </tr>\n",
              "    <tr>\n",
              "      <th>2021-09-28</th>\n",
              "      <td>0.355237</td>\n",
              "      <td>-0.388502</td>\n",
              "    </tr>\n",
              "    <tr>\n",
              "      <th>2021-09-29</th>\n",
              "      <td>0.412026</td>\n",
              "      <td>0.594340</td>\n",
              "    </tr>\n",
              "    <tr>\n",
              "      <th>2021-09-30</th>\n",
              "      <td>-1.042986</td>\n",
              "      <td>-0.145113</td>\n",
              "    </tr>\n",
              "    <tr>\n",
              "      <th>2021-10-01</th>\n",
              "      <td>2.464192</td>\n",
              "      <td>0.177543</td>\n",
              "    </tr>\n",
              "    <tr>\n",
              "      <th>2021-10-02</th>\n",
              "      <td>-0.021586</td>\n",
              "      <td>0.656034</td>\n",
              "    </tr>\n",
              "  </tbody>\n",
              "</table>\n",
              "</div>"
            ],
            "text/plain": [
              "                   A         B\n",
              "2021-09-27  0.130763  0.756629\n",
              "2021-09-28  0.355237 -0.388502\n",
              "2021-09-29  0.412026  0.594340\n",
              "2021-09-30 -1.042986 -0.145113\n",
              "2021-10-01  2.464192  0.177543\n",
              "2021-10-02 -0.021586  0.656034"
            ]
          },
          "metadata": {},
          "execution_count": 64
        }
      ]
    },
    {
      "cell_type": "markdown",
      "metadata": {
        "id": "QqYJvRLnx5sP"
      },
      "source": [
        "#### [DIY: 도전코딩]\n",
        "\n",
        "> Select data for first two days AND column 3,4 from df using loc[]."
      ]
    },
    {
      "cell_type": "code",
      "metadata": {
        "id": "jSUlF4icx5sQ",
        "colab": {
          "base_uri": "https://localhost:8080/",
          "height": 111
        },
        "outputId": "c113bcc9-8fb2-4ad5-853a-2e261c9846ce"
      },
      "source": [
        "# df.loc[0:2,['C','D']]\n",
        "# df.loc['20200928':'20200930',['C','D']]\n",
        "df.loc[dates[:2],['C','D']]"
      ],
      "execution_count": 71,
      "outputs": [
        {
          "output_type": "execute_result",
          "data": {
            "text/html": [
              "<div>\n",
              "<style scoped>\n",
              "    .dataframe tbody tr th:only-of-type {\n",
              "        vertical-align: middle;\n",
              "    }\n",
              "\n",
              "    .dataframe tbody tr th {\n",
              "        vertical-align: top;\n",
              "    }\n",
              "\n",
              "    .dataframe thead th {\n",
              "        text-align: right;\n",
              "    }\n",
              "</style>\n",
              "<table border=\"1\" class=\"dataframe\">\n",
              "  <thead>\n",
              "    <tr style=\"text-align: right;\">\n",
              "      <th></th>\n",
              "      <th>C</th>\n",
              "      <th>D</th>\n",
              "    </tr>\n",
              "  </thead>\n",
              "  <tbody>\n",
              "    <tr>\n",
              "      <th>2021-09-27</th>\n",
              "      <td>-0.719877</td>\n",
              "      <td>-1.347610</td>\n",
              "    </tr>\n",
              "    <tr>\n",
              "      <th>2021-09-28</th>\n",
              "      <td>-2.956182</td>\n",
              "      <td>-0.368168</td>\n",
              "    </tr>\n",
              "  </tbody>\n",
              "</table>\n",
              "</div>"
            ],
            "text/plain": [
              "                   C         D\n",
              "2021-09-27 -0.719877 -1.347610\n",
              "2021-09-28 -2.956182 -0.368168"
            ]
          },
          "metadata": {},
          "execution_count": 71
        }
      ]
    },
    {
      "cell_type": "markdown",
      "metadata": {
        "id": "-BGWuIwpx5sV"
      },
      "source": [
        "#### Selecting data by position (iloc())\n",
        "- index 사용"
      ]
    },
    {
      "cell_type": "code",
      "metadata": {
        "id": "gYtgID9rx5sW",
        "colab": {
          "base_uri": "https://localhost:8080/",
          "height": 235
        },
        "outputId": "5f64c806-1c26-4d47-859a-35ba6b0fe7f8"
      },
      "source": [
        "df"
      ],
      "execution_count": 66,
      "outputs": [
        {
          "output_type": "execute_result",
          "data": {
            "text/html": [
              "<div>\n",
              "<style scoped>\n",
              "    .dataframe tbody tr th:only-of-type {\n",
              "        vertical-align: middle;\n",
              "    }\n",
              "\n",
              "    .dataframe tbody tr th {\n",
              "        vertical-align: top;\n",
              "    }\n",
              "\n",
              "    .dataframe thead th {\n",
              "        text-align: right;\n",
              "    }\n",
              "</style>\n",
              "<table border=\"1\" class=\"dataframe\">\n",
              "  <thead>\n",
              "    <tr style=\"text-align: right;\">\n",
              "      <th></th>\n",
              "      <th>A</th>\n",
              "      <th>B</th>\n",
              "      <th>C</th>\n",
              "      <th>D</th>\n",
              "    </tr>\n",
              "  </thead>\n",
              "  <tbody>\n",
              "    <tr>\n",
              "      <th>2021-09-27</th>\n",
              "      <td>0.130763</td>\n",
              "      <td>0.756629</td>\n",
              "      <td>-0.719877</td>\n",
              "      <td>-1.347610</td>\n",
              "    </tr>\n",
              "    <tr>\n",
              "      <th>2021-09-28</th>\n",
              "      <td>0.355237</td>\n",
              "      <td>-0.388502</td>\n",
              "      <td>-2.956182</td>\n",
              "      <td>-0.368168</td>\n",
              "    </tr>\n",
              "    <tr>\n",
              "      <th>2021-09-29</th>\n",
              "      <td>0.412026</td>\n",
              "      <td>0.594340</td>\n",
              "      <td>-0.201016</td>\n",
              "      <td>-2.006002</td>\n",
              "    </tr>\n",
              "    <tr>\n",
              "      <th>2021-09-30</th>\n",
              "      <td>-1.042986</td>\n",
              "      <td>-0.145113</td>\n",
              "      <td>0.946245</td>\n",
              "      <td>-0.527000</td>\n",
              "    </tr>\n",
              "    <tr>\n",
              "      <th>2021-10-01</th>\n",
              "      <td>2.464192</td>\n",
              "      <td>0.177543</td>\n",
              "      <td>0.762804</td>\n",
              "      <td>0.308061</td>\n",
              "    </tr>\n",
              "    <tr>\n",
              "      <th>2021-10-02</th>\n",
              "      <td>-0.021586</td>\n",
              "      <td>0.656034</td>\n",
              "      <td>-0.269170</td>\n",
              "      <td>-1.875002</td>\n",
              "    </tr>\n",
              "  </tbody>\n",
              "</table>\n",
              "</div>"
            ],
            "text/plain": [
              "                   A         B         C         D\n",
              "2021-09-27  0.130763  0.756629 -0.719877 -1.347610\n",
              "2021-09-28  0.355237 -0.388502 -2.956182 -0.368168\n",
              "2021-09-29  0.412026  0.594340 -0.201016 -2.006002\n",
              "2021-09-30 -1.042986 -0.145113  0.946245 -0.527000\n",
              "2021-10-01  2.464192  0.177543  0.762804  0.308061\n",
              "2021-10-02 -0.021586  0.656034 -0.269170 -1.875002"
            ]
          },
          "metadata": {},
          "execution_count": 66
        }
      ]
    },
    {
      "cell_type": "code",
      "metadata": {
        "id": "PNgZ3u8-x5sa",
        "colab": {
          "base_uri": "https://localhost:8080/"
        },
        "outputId": "7c1c412e-aaff-46db-d11b-d71da4d56e58"
      },
      "source": [
        "df.iloc[3]  # 결과는 차원축소형으로 표현됨."
      ],
      "execution_count": 67,
      "outputs": [
        {
          "output_type": "execute_result",
          "data": {
            "text/plain": [
              "A   -1.042986\n",
              "B   -0.145113\n",
              "C    0.946245\n",
              "D   -0.527000\n",
              "Name: 2021-09-30 00:00:00, dtype: float64"
            ]
          },
          "metadata": {},
          "execution_count": 67
        }
      ]
    },
    {
      "cell_type": "code",
      "metadata": {
        "id": "12eWuxQ_x5sh",
        "colab": {
          "base_uri": "https://localhost:8080/",
          "height": 111
        },
        "outputId": "42274a54-61ca-4c31-e31f-6b4d4adedb5e"
      },
      "source": [
        "# [다시 도전]\n",
        "# Select data for first two days AND comumn 3,4 from df.\n",
        "# Use iloc\n",
        "df.iloc[:2,2:4]"
      ],
      "execution_count": 70,
      "outputs": [
        {
          "output_type": "execute_result",
          "data": {
            "text/html": [
              "<div>\n",
              "<style scoped>\n",
              "    .dataframe tbody tr th:only-of-type {\n",
              "        vertical-align: middle;\n",
              "    }\n",
              "\n",
              "    .dataframe tbody tr th {\n",
              "        vertical-align: top;\n",
              "    }\n",
              "\n",
              "    .dataframe thead th {\n",
              "        text-align: right;\n",
              "    }\n",
              "</style>\n",
              "<table border=\"1\" class=\"dataframe\">\n",
              "  <thead>\n",
              "    <tr style=\"text-align: right;\">\n",
              "      <th></th>\n",
              "      <th>C</th>\n",
              "      <th>D</th>\n",
              "    </tr>\n",
              "  </thead>\n",
              "  <tbody>\n",
              "    <tr>\n",
              "      <th>2021-09-27</th>\n",
              "      <td>-0.719877</td>\n",
              "      <td>-1.347610</td>\n",
              "    </tr>\n",
              "    <tr>\n",
              "      <th>2021-09-28</th>\n",
              "      <td>-2.956182</td>\n",
              "      <td>-0.368168</td>\n",
              "    </tr>\n",
              "  </tbody>\n",
              "</table>\n",
              "</div>"
            ],
            "text/plain": [
              "                   C         D\n",
              "2021-09-27 -0.719877 -1.347610\n",
              "2021-09-28 -2.956182 -0.368168"
            ]
          },
          "metadata": {},
          "execution_count": 70
        }
      ]
    },
    {
      "cell_type": "code",
      "metadata": {
        "id": "_S-omW3hx5sn",
        "colab": {
          "base_uri": "https://localhost:8080/"
        },
        "outputId": "c4ce25d0-81e1-4f4c-bfab-09c63ba6ef50"
      },
      "source": [
        "# Select one item\n",
        "df.iloc[1,1]"
      ],
      "execution_count": 69,
      "outputs": [
        {
          "output_type": "execute_result",
          "data": {
            "text/plain": [
              "-0.3885019277152996"
            ]
          },
          "metadata": {},
          "execution_count": 69
        }
      ]
    },
    {
      "cell_type": "code",
      "metadata": {
        "id": "fjAsIAidfVUQ",
        "colab": {
          "base_uri": "https://localhost:8080/",
          "height": 142
        },
        "outputId": "a0952b37-e130-4f6f-914c-b27c484a3c7e"
      },
      "source": [
        "# [DIY: 다시 도전]\n",
        "# Select data for first three days from df\n",
        "# Your code\n",
        "df.iloc[:3,:]"
      ],
      "execution_count": 74,
      "outputs": [
        {
          "output_type": "execute_result",
          "data": {
            "text/html": [
              "<div>\n",
              "<style scoped>\n",
              "    .dataframe tbody tr th:only-of-type {\n",
              "        vertical-align: middle;\n",
              "    }\n",
              "\n",
              "    .dataframe tbody tr th {\n",
              "        vertical-align: top;\n",
              "    }\n",
              "\n",
              "    .dataframe thead th {\n",
              "        text-align: right;\n",
              "    }\n",
              "</style>\n",
              "<table border=\"1\" class=\"dataframe\">\n",
              "  <thead>\n",
              "    <tr style=\"text-align: right;\">\n",
              "      <th></th>\n",
              "      <th>A</th>\n",
              "      <th>B</th>\n",
              "      <th>C</th>\n",
              "      <th>D</th>\n",
              "    </tr>\n",
              "  </thead>\n",
              "  <tbody>\n",
              "    <tr>\n",
              "      <th>2021-09-27</th>\n",
              "      <td>0.130763</td>\n",
              "      <td>0.756629</td>\n",
              "      <td>-0.719877</td>\n",
              "      <td>-1.347610</td>\n",
              "    </tr>\n",
              "    <tr>\n",
              "      <th>2021-09-28</th>\n",
              "      <td>0.355237</td>\n",
              "      <td>-0.388502</td>\n",
              "      <td>-2.956182</td>\n",
              "      <td>-0.368168</td>\n",
              "    </tr>\n",
              "    <tr>\n",
              "      <th>2021-09-29</th>\n",
              "      <td>0.412026</td>\n",
              "      <td>0.594340</td>\n",
              "      <td>-0.201016</td>\n",
              "      <td>-2.006002</td>\n",
              "    </tr>\n",
              "  </tbody>\n",
              "</table>\n",
              "</div>"
            ],
            "text/plain": [
              "                   A         B         C         D\n",
              "2021-09-27  0.130763  0.756629 -0.719877 -1.347610\n",
              "2021-09-28  0.355237 -0.388502 -2.956182 -0.368168\n",
              "2021-09-29  0.412026  0.594340 -0.201016 -2.006002"
            ]
          },
          "metadata": {},
          "execution_count": 74
        }
      ]
    },
    {
      "cell_type": "markdown",
      "metadata": {
        "id": "fDoWVVGHx5su"
      },
      "source": [
        "#### Selecting data by Boolean indexing"
      ]
    },
    {
      "cell_type": "code",
      "metadata": {
        "id": "CG7LipUrx5sv",
        "colab": {
          "base_uri": "https://localhost:8080/",
          "height": 235
        },
        "outputId": "1ff9b4c7-666b-4e25-9de2-3cec46e438e1"
      },
      "source": [
        "df"
      ],
      "execution_count": 75,
      "outputs": [
        {
          "output_type": "execute_result",
          "data": {
            "text/html": [
              "<div>\n",
              "<style scoped>\n",
              "    .dataframe tbody tr th:only-of-type {\n",
              "        vertical-align: middle;\n",
              "    }\n",
              "\n",
              "    .dataframe tbody tr th {\n",
              "        vertical-align: top;\n",
              "    }\n",
              "\n",
              "    .dataframe thead th {\n",
              "        text-align: right;\n",
              "    }\n",
              "</style>\n",
              "<table border=\"1\" class=\"dataframe\">\n",
              "  <thead>\n",
              "    <tr style=\"text-align: right;\">\n",
              "      <th></th>\n",
              "      <th>A</th>\n",
              "      <th>B</th>\n",
              "      <th>C</th>\n",
              "      <th>D</th>\n",
              "    </tr>\n",
              "  </thead>\n",
              "  <tbody>\n",
              "    <tr>\n",
              "      <th>2021-09-27</th>\n",
              "      <td>0.130763</td>\n",
              "      <td>0.756629</td>\n",
              "      <td>-0.719877</td>\n",
              "      <td>-1.347610</td>\n",
              "    </tr>\n",
              "    <tr>\n",
              "      <th>2021-09-28</th>\n",
              "      <td>0.355237</td>\n",
              "      <td>-0.388502</td>\n",
              "      <td>-2.956182</td>\n",
              "      <td>-0.368168</td>\n",
              "    </tr>\n",
              "    <tr>\n",
              "      <th>2021-09-29</th>\n",
              "      <td>0.412026</td>\n",
              "      <td>0.594340</td>\n",
              "      <td>-0.201016</td>\n",
              "      <td>-2.006002</td>\n",
              "    </tr>\n",
              "    <tr>\n",
              "      <th>2021-09-30</th>\n",
              "      <td>-1.042986</td>\n",
              "      <td>-0.145113</td>\n",
              "      <td>0.946245</td>\n",
              "      <td>-0.527000</td>\n",
              "    </tr>\n",
              "    <tr>\n",
              "      <th>2021-10-01</th>\n",
              "      <td>2.464192</td>\n",
              "      <td>0.177543</td>\n",
              "      <td>0.762804</td>\n",
              "      <td>0.308061</td>\n",
              "    </tr>\n",
              "    <tr>\n",
              "      <th>2021-10-02</th>\n",
              "      <td>-0.021586</td>\n",
              "      <td>0.656034</td>\n",
              "      <td>-0.269170</td>\n",
              "      <td>-1.875002</td>\n",
              "    </tr>\n",
              "  </tbody>\n",
              "</table>\n",
              "</div>"
            ],
            "text/plain": [
              "                   A         B         C         D\n",
              "2021-09-27  0.130763  0.756629 -0.719877 -1.347610\n",
              "2021-09-28  0.355237 -0.388502 -2.956182 -0.368168\n",
              "2021-09-29  0.412026  0.594340 -0.201016 -2.006002\n",
              "2021-09-30 -1.042986 -0.145113  0.946245 -0.527000\n",
              "2021-10-01  2.464192  0.177543  0.762804  0.308061\n",
              "2021-10-02 -0.021586  0.656034 -0.269170 -1.875002"
            ]
          },
          "metadata": {},
          "execution_count": 75
        }
      ]
    },
    {
      "cell_type": "code",
      "metadata": {
        "colab": {
          "base_uri": "https://localhost:8080/"
        },
        "id": "vVwGELQi7VVP",
        "outputId": "df9282aa-e933-494b-c439-70c6b08017b1"
      },
      "source": [
        "df.A > 0"
      ],
      "execution_count": 77,
      "outputs": [
        {
          "output_type": "execute_result",
          "data": {
            "text/plain": [
              "2021-09-27     True\n",
              "2021-09-28     True\n",
              "2021-09-29     True\n",
              "2021-09-30    False\n",
              "2021-10-01     True\n",
              "2021-10-02    False\n",
              "Freq: D, Name: A, dtype: bool"
            ]
          },
          "metadata": {},
          "execution_count": 77
        }
      ]
    },
    {
      "cell_type": "code",
      "metadata": {
        "id": "U5If1VEYx5sy",
        "colab": {
          "base_uri": "https://localhost:8080/",
          "height": 173
        },
        "outputId": "ce95e654-6e38-47d5-bb62-a51333d53c38"
      },
      "source": [
        "df[df.A > 0]"
      ],
      "execution_count": 76,
      "outputs": [
        {
          "output_type": "execute_result",
          "data": {
            "text/html": [
              "<div>\n",
              "<style scoped>\n",
              "    .dataframe tbody tr th:only-of-type {\n",
              "        vertical-align: middle;\n",
              "    }\n",
              "\n",
              "    .dataframe tbody tr th {\n",
              "        vertical-align: top;\n",
              "    }\n",
              "\n",
              "    .dataframe thead th {\n",
              "        text-align: right;\n",
              "    }\n",
              "</style>\n",
              "<table border=\"1\" class=\"dataframe\">\n",
              "  <thead>\n",
              "    <tr style=\"text-align: right;\">\n",
              "      <th></th>\n",
              "      <th>A</th>\n",
              "      <th>B</th>\n",
              "      <th>C</th>\n",
              "      <th>D</th>\n",
              "    </tr>\n",
              "  </thead>\n",
              "  <tbody>\n",
              "    <tr>\n",
              "      <th>2021-09-27</th>\n",
              "      <td>0.130763</td>\n",
              "      <td>0.756629</td>\n",
              "      <td>-0.719877</td>\n",
              "      <td>-1.347610</td>\n",
              "    </tr>\n",
              "    <tr>\n",
              "      <th>2021-09-28</th>\n",
              "      <td>0.355237</td>\n",
              "      <td>-0.388502</td>\n",
              "      <td>-2.956182</td>\n",
              "      <td>-0.368168</td>\n",
              "    </tr>\n",
              "    <tr>\n",
              "      <th>2021-09-29</th>\n",
              "      <td>0.412026</td>\n",
              "      <td>0.594340</td>\n",
              "      <td>-0.201016</td>\n",
              "      <td>-2.006002</td>\n",
              "    </tr>\n",
              "    <tr>\n",
              "      <th>2021-10-01</th>\n",
              "      <td>2.464192</td>\n",
              "      <td>0.177543</td>\n",
              "      <td>0.762804</td>\n",
              "      <td>0.308061</td>\n",
              "    </tr>\n",
              "  </tbody>\n",
              "</table>\n",
              "</div>"
            ],
            "text/plain": [
              "                   A         B         C         D\n",
              "2021-09-27  0.130763  0.756629 -0.719877 -1.347610\n",
              "2021-09-28  0.355237 -0.388502 -2.956182 -0.368168\n",
              "2021-09-29  0.412026  0.594340 -0.201016 -2.006002\n",
              "2021-10-01  2.464192  0.177543  0.762804  0.308061"
            ]
          },
          "metadata": {},
          "execution_count": 76
        }
      ]
    },
    {
      "cell_type": "code",
      "metadata": {
        "colab": {
          "base_uri": "https://localhost:8080/",
          "height": 235
        },
        "id": "Rf8q3vfe7yUJ",
        "outputId": "9bb0f302-bb25-4f32-d6bb-2fbb04d77eae"
      },
      "source": [
        "df > 0"
      ],
      "execution_count": 79,
      "outputs": [
        {
          "output_type": "execute_result",
          "data": {
            "text/html": [
              "<div>\n",
              "<style scoped>\n",
              "    .dataframe tbody tr th:only-of-type {\n",
              "        vertical-align: middle;\n",
              "    }\n",
              "\n",
              "    .dataframe tbody tr th {\n",
              "        vertical-align: top;\n",
              "    }\n",
              "\n",
              "    .dataframe thead th {\n",
              "        text-align: right;\n",
              "    }\n",
              "</style>\n",
              "<table border=\"1\" class=\"dataframe\">\n",
              "  <thead>\n",
              "    <tr style=\"text-align: right;\">\n",
              "      <th></th>\n",
              "      <th>A</th>\n",
              "      <th>B</th>\n",
              "      <th>C</th>\n",
              "      <th>D</th>\n",
              "    </tr>\n",
              "  </thead>\n",
              "  <tbody>\n",
              "    <tr>\n",
              "      <th>2021-09-27</th>\n",
              "      <td>True</td>\n",
              "      <td>True</td>\n",
              "      <td>False</td>\n",
              "      <td>False</td>\n",
              "    </tr>\n",
              "    <tr>\n",
              "      <th>2021-09-28</th>\n",
              "      <td>True</td>\n",
              "      <td>False</td>\n",
              "      <td>False</td>\n",
              "      <td>False</td>\n",
              "    </tr>\n",
              "    <tr>\n",
              "      <th>2021-09-29</th>\n",
              "      <td>True</td>\n",
              "      <td>True</td>\n",
              "      <td>False</td>\n",
              "      <td>False</td>\n",
              "    </tr>\n",
              "    <tr>\n",
              "      <th>2021-09-30</th>\n",
              "      <td>False</td>\n",
              "      <td>False</td>\n",
              "      <td>True</td>\n",
              "      <td>False</td>\n",
              "    </tr>\n",
              "    <tr>\n",
              "      <th>2021-10-01</th>\n",
              "      <td>True</td>\n",
              "      <td>True</td>\n",
              "      <td>True</td>\n",
              "      <td>True</td>\n",
              "    </tr>\n",
              "    <tr>\n",
              "      <th>2021-10-02</th>\n",
              "      <td>False</td>\n",
              "      <td>True</td>\n",
              "      <td>False</td>\n",
              "      <td>False</td>\n",
              "    </tr>\n",
              "  </tbody>\n",
              "</table>\n",
              "</div>"
            ],
            "text/plain": [
              "                A      B      C      D\n",
              "2021-09-27   True   True  False  False\n",
              "2021-09-28   True  False  False  False\n",
              "2021-09-29   True   True  False  False\n",
              "2021-09-30  False  False   True  False\n",
              "2021-10-01   True   True   True   True\n",
              "2021-10-02  False   True  False  False"
            ]
          },
          "metadata": {},
          "execution_count": 79
        }
      ]
    },
    {
      "cell_type": "code",
      "metadata": {
        "id": "8WkB7Q5rx5s1",
        "colab": {
          "base_uri": "https://localhost:8080/",
          "height": 235
        },
        "outputId": "29e11432-d877-4434-c3c9-dfa63d64b558"
      },
      "source": [
        "df[df > 0]"
      ],
      "execution_count": 78,
      "outputs": [
        {
          "output_type": "execute_result",
          "data": {
            "text/html": [
              "<div>\n",
              "<style scoped>\n",
              "    .dataframe tbody tr th:only-of-type {\n",
              "        vertical-align: middle;\n",
              "    }\n",
              "\n",
              "    .dataframe tbody tr th {\n",
              "        vertical-align: top;\n",
              "    }\n",
              "\n",
              "    .dataframe thead th {\n",
              "        text-align: right;\n",
              "    }\n",
              "</style>\n",
              "<table border=\"1\" class=\"dataframe\">\n",
              "  <thead>\n",
              "    <tr style=\"text-align: right;\">\n",
              "      <th></th>\n",
              "      <th>A</th>\n",
              "      <th>B</th>\n",
              "      <th>C</th>\n",
              "      <th>D</th>\n",
              "    </tr>\n",
              "  </thead>\n",
              "  <tbody>\n",
              "    <tr>\n",
              "      <th>2021-09-27</th>\n",
              "      <td>0.130763</td>\n",
              "      <td>0.756629</td>\n",
              "      <td>NaN</td>\n",
              "      <td>NaN</td>\n",
              "    </tr>\n",
              "    <tr>\n",
              "      <th>2021-09-28</th>\n",
              "      <td>0.355237</td>\n",
              "      <td>NaN</td>\n",
              "      <td>NaN</td>\n",
              "      <td>NaN</td>\n",
              "    </tr>\n",
              "    <tr>\n",
              "      <th>2021-09-29</th>\n",
              "      <td>0.412026</td>\n",
              "      <td>0.594340</td>\n",
              "      <td>NaN</td>\n",
              "      <td>NaN</td>\n",
              "    </tr>\n",
              "    <tr>\n",
              "      <th>2021-09-30</th>\n",
              "      <td>NaN</td>\n",
              "      <td>NaN</td>\n",
              "      <td>0.946245</td>\n",
              "      <td>NaN</td>\n",
              "    </tr>\n",
              "    <tr>\n",
              "      <th>2021-10-01</th>\n",
              "      <td>2.464192</td>\n",
              "      <td>0.177543</td>\n",
              "      <td>0.762804</td>\n",
              "      <td>0.308061</td>\n",
              "    </tr>\n",
              "    <tr>\n",
              "      <th>2021-10-02</th>\n",
              "      <td>NaN</td>\n",
              "      <td>0.656034</td>\n",
              "      <td>NaN</td>\n",
              "      <td>NaN</td>\n",
              "    </tr>\n",
              "  </tbody>\n",
              "</table>\n",
              "</div>"
            ],
            "text/plain": [
              "                   A         B         C         D\n",
              "2021-09-27  0.130763  0.756629       NaN       NaN\n",
              "2021-09-28  0.355237       NaN       NaN       NaN\n",
              "2021-09-29  0.412026  0.594340       NaN       NaN\n",
              "2021-09-30       NaN       NaN  0.946245       NaN\n",
              "2021-10-01  2.464192  0.177543  0.762804  0.308061\n",
              "2021-10-02       NaN  0.656034       NaN       NaN"
            ]
          },
          "metadata": {},
          "execution_count": 78
        }
      ]
    }
  ]
}